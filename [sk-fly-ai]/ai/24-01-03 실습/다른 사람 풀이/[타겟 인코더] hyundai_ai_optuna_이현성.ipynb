{
  "nbformat": 4,
  "nbformat_minor": 0,
  "metadata": {
    "colab": {
      "private_outputs": true,
      "provenance": [],
      "machine_shape": "hm",
      "gpuType": "T4"
    },
    "kernelspec": {
      "name": "python3",
      "display_name": "Python 3"
    },
    "language_info": {
      "name": "python"
    },
    "accelerator": "GPU"
  },
  "cells": [
    {
      "cell_type": "code",
      "source": [
        "!pip install optuna category_encoders"
      ],
      "metadata": {
        "id": "uCZlD656mg2F"
      },
      "execution_count": null,
      "outputs": []
    },
    {
      "cell_type": "code",
      "source": [
        "#Regression\n",
        "import pandas as pd\n",
        "import numpy as np\n",
        "import matplotlib.pyplot as plt\n",
        "import seaborn as sns\n",
        "import matplotlib\n",
        "%matplotlib inline\n",
        "\n",
        "import warnings\n",
        "warnings.filterwarnings('ignore')\n",
        "\n",
        "from sklearn.model_selection import KFold, cross_val_score, train_test_split, TimeSeriesSplit\n",
        "from sklearn.linear_model import Ridge, Lasso, LinearRegression\n",
        "from sklearn.neighbors import KNeighborsRegressor\n",
        "from sklearn.svm import SVR\n",
        "from sklearn.tree import DecisionTreeRegressor, plot_tree\n",
        "from sklearn.ensemble import RandomForestRegressor, ExtraTreesRegressor, VotingRegressor, StackingRegressor, AdaBoostRegressor, HistGradientBoostingRegressor\n",
        "from sklearn.dummy import DummyRegressor\n",
        "from sklearn.impute import SimpleImputer\n",
        "from sklearn.metrics import mean_absolute_error, mean_squared_error, f1_score\n",
        "from sklearn.pipeline import make_pipeline, Pipeline\n",
        "from sklearn.preprocessing import StandardScaler, MinMaxScaler, RobustScaler, LabelEncoder,OrdinalEncoder, OneHotEncoder, PolynomialFeatures, FunctionTransformer\n",
        "from sklearn.compose import ColumnTransformer\n",
        "from sklearn.inspection import PartialDependenceDisplay\n",
        "from lightgbm import LGBMRegressor\n",
        "from xgboost import XGBRegressor\n",
        "import optuna"
      ],
      "metadata": {
        "id": "-k3xkhQSmsn0"
      },
      "execution_count": null,
      "outputs": []
    },
    {
      "cell_type": "markdown",
      "source": [
        "# 1. 데이터"
      ],
      "metadata": {
        "id": "EpNRSYr1tBKm"
      }
    },
    {
      "cell_type": "code",
      "source": [
        "train = pd.read_csv(\"/content/drive/MyDrive/SKT AI FLY/선박 대기/train.csv\")\n",
        "test = pd.read_csv(\"/content/drive/MyDrive/SKT AI FLY/선박 대기/test.csv\")\n",
        "sample_submission = pd.read_csv(\"/content/drive/MyDrive/SKT AI FLY/선박 대기/sample_submission.csv\")"
      ],
      "metadata": {
        "id": "thTMMAnJmWbZ"
      },
      "execution_count": null,
      "outputs": []
    },
    {
      "cell_type": "markdown",
      "source": [
        "## 1) 시계열 데이터(ATA) 열 분리"
      ],
      "metadata": {
        "id": "GkklND1szEz3"
      }
    },
    {
      "cell_type": "code",
      "source": [
        "import datetime\n",
        "\n",
        "def transform_time(df):\n",
        "    #I made these variables.\n",
        "    df['ATA'] = pd.to_datetime(df['ATA'])\n",
        "    df['YEAR'] = df['ATA'].dt.year\n",
        "    df['MONTH'] = df['ATA'].dt.month\n",
        "    df['DAY'] = df['ATA'].dt.day\n",
        "    df['HOUR'] = df['ATA'].dt.hour\n",
        "    df['MINUTES'] = df['ATA'].dt.minute\n",
        "    df['WOY'] = df['ATA'].dt.weekofyear\n",
        "    df['WEEKDAY'] = df['ATA'].dt.weekday\n",
        "    df['WEEKEND'] = df['WEEKDAY'].apply(lambda x: 1 if x >= 5 else 0)\n",
        "    df['HOLIDAY'] = df['ATA'].apply(lambda x: 1 if (x.month == 1 and x.day == 1) or (x.month == 12 and x.day==25) else 0)\n",
        "\n",
        "    #ChatGPT makes these variables\n",
        "    df['AGE'] = df['YEAR'] - df['BUILT']\n",
        "    df['SHIP_VOLUME'] = df['LENGTH'] * df['BREADTH'] * df['DEPTH']\n",
        "    df['EFFICIENT'] = df['DEADWEIGHT'] / df['GT']\n",
        "    df['RELATIVE_DISTANCE'] = df['DIST'] / df['PORT_SIZE']\n",
        "\n",
        "    return df"
      ],
      "metadata": {
        "id": "5ssOvDBxm547"
      },
      "execution_count": null,
      "outputs": []
    },
    {
      "cell_type": "code",
      "source": [
        "train = transform_time(train)\n",
        "test = transform_time(test)"
      ],
      "metadata": {
        "id": "qC4pI2gsrV8e"
      },
      "execution_count": null,
      "outputs": []
    },
    {
      "cell_type": "code",
      "source": [
        "train.drop(columns=['ID','SHIPMANAGER','FLAG','SAMPLE_ID','ATA'],axis=1,inplace=True)\n",
        "test.drop(columns=['ID','SHIPMANAGER','FLAG','SAMPLE_ID','ATA'],axis=1,inplace=True)"
      ],
      "metadata": {
        "id": "sAO3d48itnnt"
      },
      "execution_count": null,
      "outputs": []
    },
    {
      "cell_type": "code",
      "source": [
        "X = train.drop(columns=['CI_HOUR'],axis=1)\n",
        "y = train['CI_HOUR']"
      ],
      "metadata": {
        "id": "9Y_zD6-xuCIT"
      },
      "execution_count": null,
      "outputs": []
    },
    {
      "cell_type": "markdown",
      "source": [
        "## 2) 타겟 인코딩->라벨 인코딩"
      ],
      "metadata": {
        "id": "m_RtaConzlFu"
      }
    },
    {
      "cell_type": "code",
      "source": [
        "cat_cols = X.select_dtypes(include='object').columns.tolist()\n",
        "from category_encoders.target_encoder import TargetEncoder\n",
        "enc=TargetEncoder()\n",
        "for col in cat_cols:\n",
        "    X[col] = enc.fit_transform(X[col],y)\n",
        "    test[col] = enc.transform(test[col])"
      ],
      "metadata": {
        "id": "RSMr951suw22"
      },
      "execution_count": null,
      "outputs": []
    },
    {
      "cell_type": "markdown",
      "source": [
        "# 2. Training usning Optuna"
      ],
      "metadata": {
        "id": "d-Ts1NNSzsA7"
      }
    },
    {
      "cell_type": "code",
      "source": [
        "preprocessor = ColumnTransformer(\n",
        "    transformers=[\n",
        "        ('ss', MinMaxScaler(), X.columns),\n",
        "    ], remainder='passthrough'\n",
        ")\n",
        "\n",
        "#Best Parameters using OPTUNA\n",
        "params = {'max_iter': 1969,\n",
        "          'max_leaf_nodes': 96,\n",
        "          'max_depth': 11,\n",
        "          'min_samples_leaf': 43,\n",
        "          'l2_regularization': 0.03503250404129518}\n",
        "\n",
        "pipe = Pipeline(\n",
        "    [\n",
        "        ('MIN',preprocessor),\n",
        "        ('HIST',HistGradientBoostingRegressor(random_state=42, loss='absolute_error', **params))\n",
        "    ]\n",
        ")\n",
        "\n",
        "pipe.fit(X,y)"
      ],
      "metadata": {
        "id": "x6cv_Pohu9T2"
      },
      "execution_count": null,
      "outputs": []
    },
    {
      "cell_type": "markdown",
      "source": [
        "# 3. Evaluation"
      ],
      "metadata": {
        "id": "rKT2x5yYz4T2"
      }
    },
    {
      "cell_type": "code",
      "source": [
        "fold = KFold(n_splits=5, shuffle=True, random_state=42)\n",
        "score = cross_val_score(estimator=pipe, X=X, y=y, cv=fold, scoring='neg_mean_absolute_error')\n",
        "# print(np.average(score))\n",
        "# print(f\"5 K-FOLD : {np.round(np.mean(-score),2)} & std +/-{np.round(np.std(-score),2)}\")"
      ],
      "metadata": {
        "id": "SE_4_gs3vGLz"
      },
      "execution_count": null,
      "outputs": []
    },
    {
      "cell_type": "code",
      "source": [
        "print(f\"MAE: {-1*np.average(score)}\")"
      ],
      "metadata": {
        "id": "QQkeFIbNw6Pc"
      },
      "execution_count": null,
      "outputs": []
    },
    {
      "cell_type": "code",
      "source": [],
      "metadata": {
        "id": "Y-3PLiVPwTkQ"
      },
      "execution_count": null,
      "outputs": []
    }
  ]
}