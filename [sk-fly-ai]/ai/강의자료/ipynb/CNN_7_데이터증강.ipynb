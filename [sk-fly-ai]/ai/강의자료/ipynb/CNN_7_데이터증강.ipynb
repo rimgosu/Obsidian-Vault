{
  "nbformat": 4,
  "nbformat_minor": 0,
  "metadata": {
    "colab": {
      "provenance": []
    },
    "kernelspec": {
      "name": "python3",
      "display_name": "Python 3"
    },
    "language_info": {
      "name": "python"
    }
  },
  "cells": [
    {
      "cell_type": "markdown",
      "source": [
        "#데이터 증가\n",
        "## 기존의 데이터를 변형해서 데이터의 양을 늘리는 것을 데이터 증강\n",
        "- Keras의 ImageDataGenerator를 사용해서 데이터 증강을 확인"
      ],
      "metadata": {
        "id": "1BoVsXJF3Rel"
      }
    },
    {
      "cell_type": "markdown",
      "source": [
        "#1. 데이터 준비\n",
        "- 이미지가 저장된 폴더 설정"
      ],
      "metadata": {
        "id": "TfxNUJHD3nat"
      }
    },
    {
      "cell_type": "code",
      "execution_count": null,
      "metadata": {
        "id": "rXuEj2oJ3CbW"
      },
      "outputs": [],
      "source": [
        "train_dir = './datasets/dogs-vs-cats/train'\n",
        "val_dir = './datasets/dogs-vs-cats/val'\n",
        "test_dir = './datasets/dogs-vs-cats/test'"
      ]
    },
    {
      "cell_type": "code",
      "source": [
        "train_datagen = ImageDataGenerator(\n",
        "    rescale=1./ 255,\n",
        "    rotation_range=20,\n",
        "    width_shift_range=0.1,\n",
        "    height_shift_range=0.1,\n",
        "    zoom_range=0.05,\n",
        "    horizontal_flip=True,\n",
        "    fill_mode='reflect')\n",
        "val_datagen = ImageDataGenerator(rescale=1./ 255)\n",
        "test_datagen = ImageDataGenerator(rescale=1./ 255)"
      ],
      "metadata": {
        "id": "B2AAa-DS3-O4"
      },
      "execution_count": null,
      "outputs": []
    },
    {
      "cell_type": "markdown",
      "source": [
        "#2. 데이터셋 객체 생성\n",
        "- ImageDataGenerator 객체에 데이터 폴더를 설정\n",
        "- 개와 고양이 이진 분류이므로 class_\n",
        "mode는 ‘binary’로 설정"
      ],
      "metadata": {
        "id": "yFzLXq2I39iu"
      }
    },
    {
      "cell_type": "code",
      "source": [
        "MAGE_SIZE = (224, 224)\n",
        "BATCH_SIZE = 128\n",
        "train_ds = train_datagen.flow_from_directory(train_dir,\n",
        "                       batch_size=BATCH_SIZE,\n",
        "                       target_size=IMAGE_SIZE,\n",
        "                       class_mode='binary')\n",
        "valid_ds = val_datagen.flow_from_directory(val_dir,\n",
        "                       batch_size=BATCH_SIZE,\n",
        "                       target_size=IMAGE_SIZE,\n",
        "                       class_mode='binary')\n",
        "test_ds = test_datagen.flow_from_directory(test_dir,\n",
        "                       batch_size=BATCH_SIZE,\n",
        "                       target_size=IMAGE_SIZE,\n",
        "                       class_mode='binary')"
      ],
      "metadata": {
        "id": "lgsV-UoJ4Ij9"
      },
      "execution_count": null,
      "outputs": []
    },
    {
      "cell_type": "markdown",
      "source": [
        "#3. 모델 만들기\n",
        "\n",
        "- 출력층의 출력 개수와 활성화 함수에 주의\n",
        "- 이번 모델은 이진 분류"
      ],
      "metadata": {
        "id": "gB-oyA-V4IrL"
      }
    },
    {
      "cell_type": "code",
      "source": [
        "from tensorflow import keras\n",
        "from tensorflow.keras import layers\n",
        "def build_model():\n",
        "   model = keras.Sequential([\n",
        "     layers.Conv2D(64, (3, 3), activation='relu',\n",
        "                   input_shape=(224, 224, 3)),\n",
        "     layers.MaxPooling2D(2, 2),\n",
        "     layers.Conv2D(64, (3, 3), activation='relu'),\n",
        "     layers.MaxPooling2D(2, 2),\n",
        "     layers.Conv2D(128, (3, 3), activation='relu'),\n",
        "     layers.MaxPooling2D(2, 2),\n",
        "     layers.Flatten(),\n",
        "     layers.Dropout(0.5),\n",
        "     layers.Dense(512, activation='relu'),\n",
        "     layers.Dense(1, activation='sigmoid'),\n",
        "   ])\n",
        "   return model"
      ],
      "metadata": {
        "id": "H9m2QpxD4IwE"
      },
      "execution_count": null,
      "outputs": []
    },
    {
      "cell_type": "markdown",
      "source": [
        "#4. 콜백 생성"
      ],
      "metadata": {
        "id": "fYpjwa5j4I1B"
      }
    },
    {
      "cell_type": "code",
      "source": [
        "from tensorflow.keras.callbacks import ModelCheckpoint\n",
        "checkpoint_path = \"./temp/dogs-vs-cats.ckpt\"\n",
        "checkpoint = ModelCheckpoint(filepath=checkpoint_path,\n",
        "                save_weights_only=True,\n",
        "                save_best_only=True,\n",
        "                monitor='val_loss',\n",
        "                verbose=1)"
      ],
      "metadata": {
        "id": "6CN_M4A64I59"
      },
      "execution_count": null,
      "outputs": []
    },
    {
      "cell_type": "markdown",
      "source": [
        "#5. 학습"
      ],
      "metadata": {
        "id": "ikT2i0IX4I_C"
      }
    },
    {
      "cell_type": "code",
      "source": [
        "model = build_model()\n",
        "model.compile(optimizer='adam',\n",
        "        loss='binary_crossentropy',\n",
        "        metrics=['acc'])\n",
        "EPOCHS = 25\n",
        "history = model.fit(train_ds,\n",
        "           validation_data=valid_ds,\n",
        "           epochs=EPOCHS,\n",
        "           callbacks=[checkpoint])"
      ],
      "metadata": {
        "id": "DSwH7JSi4JDn"
      },
      "execution_count": null,
      "outputs": []
    },
    {
      "cell_type": "markdown",
      "source": [
        "#6. 학습곡선"
      ],
      "metadata": {
        "id": "ik4OIMeK4ex7"
      }
    },
    {
      "cell_type": "code",
      "source": [
        "import matplotlib.pyplot as plt\n",
        "import pandas as pd\n",
        "def plot_history(history):\n",
        "  hist = pd.DataFrame(history.history)\n",
        "  hist['epoch'] = history.epoch\n",
        "  plt.figure(figsize=(16,8))\n",
        "  plt.subplot(1,2,1)\n",
        "  plt.xlabel('Epoch')\n",
        "  plt.ylabel('Loss')\n",
        "  plt.plot(hist['epoch'], hist['loss'], label='Train Loss')\n",
        "  plt.plot(hist['epoch'], hist['val_loss'],label = 'Val Loss')\n",
        "  plt.legend()\n",
        "\n",
        "  plt.subplot(1,2,2)\n",
        "  plt.xlabel('Epoch')\n",
        "  plt.ylabel('Accuracy')\n",
        "  plt.plot(hist['epoch'], hist['acc'], label='Train Accuracy')\n",
        "  plt.plot(hist['epoch'], hist['val_acc'], label = 'Val Accuracy')\n",
        "  plt.legend()\n",
        "plt.show()"
      ],
      "metadata": {
        "id": "pcDWWmB94e3-"
      },
      "execution_count": null,
      "outputs": []
    },
    {
      "cell_type": "code",
      "source": [
        "plot_history(history)"
      ],
      "metadata": {
        "id": "nPgwhjdf4rxM"
      },
      "execution_count": null,
      "outputs": []
    },
    {
      "cell_type": "markdown",
      "source": [
        "#7. 가중치 로딩"
      ],
      "metadata": {
        "id": "WnvcAyJN4e8Z"
      }
    },
    {
      "cell_type": "code",
      "source": [
        "model.load_weights(checkpoint_path)\n",
        "loss, acc = model.evaluate(test_ds)\n",
        "print(loss, acc)"
      ],
      "metadata": {
        "id": "n6waJh4L4fBu"
      },
      "execution_count": null,
      "outputs": []
    },
    {
      "cell_type": "markdown",
      "source": [
        "#8. 모델 저장\n",
        "### 학습 완료된 모델을 저장\n",
        "- 저장 방법은 2가지\n",
        "- h5 확장자로 하나의 파일로 저장"
      ],
      "metadata": {
        "id": "uoZzXlkx4fGz"
      }
    },
    {
      "cell_type": "code",
      "source": [
        "model.save('dogs-vs-cats.h5')"
      ],
      "metadata": {
        "id": "8-hF23Up4fLZ"
      },
      "execution_count": null,
      "outputs": []
    },
    {
      "cell_type": "code",
      "source": [
        "model.save('dogs-vs-cats')"
      ],
      "metadata": {
        "id": "r6TXEers5Gn8"
      },
      "execution_count": null,
      "outputs": []
    },
    {
      "cell_type": "markdown",
      "source": [
        "#9. 모델 로딩\n",
        "- 파일로 저장된 모델을 로딩하는 방법"
      ],
      "metadata": {
        "id": "EShKPGVP4fQc"
      }
    },
    {
      "cell_type": "code",
      "source": [
        "from tensorflow.keras import models\n",
        "# mymodel = models.load_model('dogs-vs-cats.h5')\n",
        "mymodel = models.load_model('mymodel')"
      ],
      "metadata": {
        "id": "iZoF4Uyt4fUV"
      },
      "execution_count": null,
      "outputs": []
    },
    {
      "cell_type": "markdown",
      "source": [
        "#10. 모델 확인\n",
        "- 로딩된 모델을 평가\n"
      ],
      "metadata": {
        "id": "4Cj-C9UC5Xs2"
      }
    },
    {
      "cell_type": "code",
      "source": [
        "loss, acc = mymodel.evaluate(test_ds)"
      ],
      "metadata": {
        "id": "LfkH1PCY5Xyq"
      },
      "execution_count": null,
      "outputs": []
    },
    {
      "cell_type": "markdown",
      "source": [
        "---------------------------"
      ],
      "metadata": {
        "id": "EHb5I0bN5X4y"
      }
    },
    {
      "cell_type": "markdown",
      "source": [
        "# *** 실습 ***"
      ],
      "metadata": {
        "id": "9Ps0cPq958p6"
      }
    },
    {
      "cell_type": "code",
      "source": [],
      "metadata": {
        "id": "-DiG6otB5X93"
      },
      "execution_count": null,
      "outputs": []
    }
  ]
}