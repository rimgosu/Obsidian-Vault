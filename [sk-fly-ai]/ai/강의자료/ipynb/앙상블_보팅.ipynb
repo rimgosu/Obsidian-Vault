{
  "nbformat": 4,
  "nbformat_minor": 0,
  "metadata": {
    "colab": {
      "provenance": []
    },
    "kernelspec": {
      "name": "python3",
      "display_name": "Python 3"
    },
    "language_info": {
      "name": "python"
    }
  },
  "cells": [
    {
      "cell_type": "code",
      "execution_count": null,
      "metadata": {
        "id": "uyFR2tHR4N37"
      },
      "outputs": [],
      "source": [
        "# KNN, 과 로지스틱 회귀로 보팅을 만들어 비교, 유방암 데이터"
      ]
    },
    {
      "cell_type": "code",
      "source": [
        "#라입러리\n",
        "\n",
        "import pandas as pd\n",
        "from sklearn.ensemble import VotingClassifier\n",
        "from sklearn.linear_model import LogisticRegression\n",
        "from sklearn.neighbors import KNeighborsClassifier\n",
        "from sklearn.datasets import load_breast_cancer\n",
        "from sklearn.model_selection import train_test_split\n",
        "from sklearn.metrics import accuracy_score"
      ],
      "metadata": {
        "id": "oOLuUp0J4WbE"
      },
      "execution_count": 1,
      "outputs": []
    },
    {
      "cell_type": "code",
      "source": [
        "# 모델생성\n",
        "# 로지스틱 회귀 모델을 만들고 KNN모델을 만들고 두 모델로 보팅 모델\n",
        "# estimators는 리스트 안에 꼭 튜플 형식으로 집어넣어 줘야 한다. voting 방식은 하드가 아니라 소프트로 지정해준다. 기본값은 하드\n",
        "cancer = load_breast_cancer()\n",
        "\n",
        "df = pd.DataFrame(cancer.data, columns=cancer.feature_names)\n",
        "\n",
        "lr_clf = LogisticRegression(solver=\"liblinear\")\n",
        "knn_clf = KNeighborsClassifier(n_neighbors=8)\n",
        "vo_clf = VotingClassifier(estimators=[(\"LR\", lr_clf), (\"KNN\", knn_clf)], voting=\"soft\")"
      ],
      "metadata": {
        "id": "ew4QSy_64Wcw"
      },
      "execution_count": 3,
      "outputs": []
    },
    {
      "cell_type": "code",
      "source": [
        "# 반복하여 정확도를 보면 각각의 알고리즘일 때 보다 보팅 형식으로 묶어 사용했을 때 정확도 상승\n",
        "\n",
        "X_train, X_test, y_train, y_test = train_test_split(cancer.data, cancer.target, test_size=0.2, random_state=999)\n",
        "\n",
        "classifiers = [vo_clf, lr_clf, knn_clf]\n",
        "for classifier in classifiers:\n",
        "    classifier.fit(X_train, y_train)\n",
        "    pred = classifier.predict(X_test)\n",
        "    name = classifier.__class__.__name__\n",
        "    print(f\"{name} 정확도 : {accuracy_score(y_test, pred)}\")\n",
        ""
      ],
      "metadata": {
        "colab": {
          "base_uri": "https://localhost:8080/"
        },
        "id": "Y1Y36rGK4WgG",
        "outputId": "0ea18ec9-9e44-4e88-8bfd-f9786f556c10"
      },
      "execution_count": 4,
      "outputs": [
        {
          "output_type": "stream",
          "name": "stdout",
          "text": [
            "VotingClassifier 정확도 : 0.9385964912280702\n",
            "LogisticRegression 정확도 : 0.9210526315789473\n",
            "KNeighborsClassifier 정확도 : 0.9122807017543859\n"
          ]
        }
      ]
    },
    {
      "cell_type": "code",
      "source": [],
      "metadata": {
        "id": "RRhuEot24WjP"
      },
      "execution_count": null,
      "outputs": []
    },
    {
      "cell_type": "code",
      "source": [
        "# 앙상블 배깅, 랜덤포레스트"
      ],
      "metadata": {
        "id": "Dy8KNxv54Wmn"
      },
      "execution_count": null,
      "outputs": []
    },
    {
      "cell_type": "code",
      "source": [
        "# 라이브러리\n",
        "\n",
        "from sklearn.datasets import load_breast_cancer\n",
        "from sklearn.ensemble import RandomForestClassifier\n",
        "from sklearn.model_selection import train_test_split\n",
        "import numpy as np\n",
        "from sklearn.model_selection import GridSearchCV"
      ],
      "metadata": {
        "id": "y-BjgpLu4Wp5"
      },
      "execution_count": 5,
      "outputs": []
    },
    {
      "cell_type": "code",
      "source": [
        "# 모델 생성\n",
        "\n",
        "cancer = load_breast_cancer()\n",
        "np.random.seed(9)\n",
        "X_train, X_test, y_train, y_test = train_test_split(cancer.data, cancer.target, stratify=cancer.target)\n",
        "\n",
        "params = {'n_estimators': [100], 'max_depth': [6, 8, 10, 12], 'min_samples_leaf': [8, 12, 18],\n",
        "          'min_samples_split': [8, 16, 20]}\n",
        "\n",
        "clf = RandomForestClassifier(n_estimators=100)\n",
        "grid_clf = GridSearchCV(clf, param_grid=params, cv=2, n_jobs=-1)  # -1 은 cpu를 다 쓴다는 의미\n",
        "grid_clf.fit(X_train, y_train)\n",
        "\n",
        "print(f\"최적의 파라미터\\n{grid_clf.best_params_}\")\n",
        "print(f\"최고 예측 정확도: {grid_clf.best_score_}\")"
      ],
      "metadata": {
        "colab": {
          "base_uri": "https://localhost:8080/"
        },
        "id": "3_gxoBXt57QW",
        "outputId": "0aa49e43-37ca-4671-aecb-11af00202d27"
      },
      "execution_count": 6,
      "outputs": [
        {
          "output_type": "stream",
          "name": "stdout",
          "text": [
            "최적의 파라미터\n",
            "{'max_depth': 8, 'min_samples_leaf': 8, 'min_samples_split': 16, 'n_estimators': 100}\n",
            "최고 예측 정확도: 0.948356807511737\n"
          ]
        }
      ]
    },
    {
      "cell_type": "code",
      "source": [],
      "metadata": {
        "id": "RwMuGfYl57Tf"
      },
      "execution_count": null,
      "outputs": []
    },
    {
      "cell_type": "code",
      "source": [],
      "metadata": {
        "id": "b1q38Neb57Wo"
      },
      "execution_count": null,
      "outputs": []
    },
    {
      "cell_type": "code",
      "source": [],
      "metadata": {
        "id": "Qkavnxg_57Zo"
      },
      "execution_count": null,
      "outputs": []
    }
  ]
}