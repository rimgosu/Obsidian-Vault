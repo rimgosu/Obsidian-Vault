{
  "nbformat": 4,
  "nbformat_minor": 0,
  "metadata": {
    "colab": {
      "provenance": []
    },
    "kernelspec": {
      "name": "python3",
      "display_name": "Python 3"
    },
    "language_info": {
      "name": "python"
    }
  },
  "cells": [
    {
      "cell_type": "code",
      "execution_count": 2,
      "metadata": {
        "colab": {
          "base_uri": "https://localhost:8080/"
        },
        "id": "pY93rj20w_SR",
        "outputId": "e9f6ac25-60e6-4118-f37d-1515b2f865e1"
      },
      "outputs": [
        {
          "output_type": "stream",
          "name": "stdout",
          "text": [
            "Requirement already satisfied: openai in /usr/local/lib/python3.10/dist-packages (1.10.0)\n",
            "Requirement already satisfied: anyio<5,>=3.5.0 in /usr/local/lib/python3.10/dist-packages (from openai) (3.7.1)\n",
            "Requirement already satisfied: distro<2,>=1.7.0 in /usr/lib/python3/dist-packages (from openai) (1.7.0)\n",
            "Requirement already satisfied: httpx<1,>=0.23.0 in /usr/local/lib/python3.10/dist-packages (from openai) (0.26.0)\n",
            "Requirement already satisfied: pydantic<3,>=1.9.0 in /usr/local/lib/python3.10/dist-packages (from openai) (1.10.14)\n",
            "Requirement already satisfied: sniffio in /usr/local/lib/python3.10/dist-packages (from openai) (1.3.0)\n",
            "Requirement already satisfied: tqdm>4 in /usr/local/lib/python3.10/dist-packages (from openai) (4.66.1)\n",
            "Requirement already satisfied: typing-extensions<5,>=4.7 in /usr/local/lib/python3.10/dist-packages (from openai) (4.9.0)\n",
            "Requirement already satisfied: idna>=2.8 in /usr/local/lib/python3.10/dist-packages (from anyio<5,>=3.5.0->openai) (3.6)\n",
            "Requirement already satisfied: exceptiongroup in /usr/local/lib/python3.10/dist-packages (from anyio<5,>=3.5.0->openai) (1.2.0)\n",
            "Requirement already satisfied: certifi in /usr/local/lib/python3.10/dist-packages (from httpx<1,>=0.23.0->openai) (2023.11.17)\n",
            "Requirement already satisfied: httpcore==1.* in /usr/local/lib/python3.10/dist-packages (from httpx<1,>=0.23.0->openai) (1.0.2)\n",
            "Requirement already satisfied: h11<0.15,>=0.13 in /usr/local/lib/python3.10/dist-packages (from httpcore==1.*->httpx<1,>=0.23.0->openai) (0.14.0)\n",
            "Collecting langchain\n",
            "  Downloading langchain-0.1.4-py3-none-any.whl (803 kB)\n",
            "\u001b[2K     \u001b[90m━━━━━━━━━━━━━━━━━━━━━━━━━━━━━━━━━━━━━━━━\u001b[0m \u001b[32m803.6/803.6 kB\u001b[0m \u001b[31m7.4 MB/s\u001b[0m eta \u001b[36m0:00:00\u001b[0m\n",
            "\u001b[?25hRequirement already satisfied: PyYAML>=5.3 in /usr/local/lib/python3.10/dist-packages (from langchain) (6.0.1)\n",
            "Requirement already satisfied: SQLAlchemy<3,>=1.4 in /usr/local/lib/python3.10/dist-packages (from langchain) (2.0.24)\n",
            "Requirement already satisfied: aiohttp<4.0.0,>=3.8.3 in /usr/local/lib/python3.10/dist-packages (from langchain) (3.9.1)\n",
            "Requirement already satisfied: async-timeout<5.0.0,>=4.0.0 in /usr/local/lib/python3.10/dist-packages (from langchain) (4.0.3)\n",
            "Collecting dataclasses-json<0.7,>=0.5.7 (from langchain)\n",
            "  Downloading dataclasses_json-0.6.3-py3-none-any.whl (28 kB)\n",
            "Collecting jsonpatch<2.0,>=1.33 (from langchain)\n",
            "  Downloading jsonpatch-1.33-py2.py3-none-any.whl (12 kB)\n",
            "Collecting langchain-community<0.1,>=0.0.14 (from langchain)\n",
            "  Downloading langchain_community-0.0.16-py3-none-any.whl (1.6 MB)\n",
            "\u001b[2K     \u001b[90m━━━━━━━━━━━━━━━━━━━━━━━━━━━━━━━━━━━━━━━━\u001b[0m \u001b[32m1.6/1.6 MB\u001b[0m \u001b[31m12.9 MB/s\u001b[0m eta \u001b[36m0:00:00\u001b[0m\n",
            "\u001b[?25hCollecting langchain-core<0.2,>=0.1.16 (from langchain)\n",
            "  Downloading langchain_core-0.1.17-py3-none-any.whl (235 kB)\n",
            "\u001b[2K     \u001b[90m━━━━━━━━━━━━━━━━━━━━━━━━━━━━━━━━━━━━━━━━\u001b[0m \u001b[32m235.9/235.9 kB\u001b[0m \u001b[31m17.5 MB/s\u001b[0m eta \u001b[36m0:00:00\u001b[0m\n",
            "\u001b[?25hCollecting langsmith<0.1,>=0.0.83 (from langchain)\n",
            "  Downloading langsmith-0.0.84-py3-none-any.whl (53 kB)\n",
            "\u001b[2K     \u001b[90m━━━━━━━━━━━━━━━━━━━━━━━━━━━━━━━━━━━━━━━━\u001b[0m \u001b[32m54.0/54.0 kB\u001b[0m \u001b[31m7.5 MB/s\u001b[0m eta \u001b[36m0:00:00\u001b[0m\n",
            "\u001b[?25hRequirement already satisfied: numpy<2,>=1 in /usr/local/lib/python3.10/dist-packages (from langchain) (1.23.5)\n",
            "Requirement already satisfied: pydantic<3,>=1 in /usr/local/lib/python3.10/dist-packages (from langchain) (1.10.14)\n",
            "Requirement already satisfied: requests<3,>=2 in /usr/local/lib/python3.10/dist-packages (from langchain) (2.31.0)\n",
            "Requirement already satisfied: tenacity<9.0.0,>=8.1.0 in /usr/local/lib/python3.10/dist-packages (from langchain) (8.2.3)\n",
            "Requirement already satisfied: attrs>=17.3.0 in /usr/local/lib/python3.10/dist-packages (from aiohttp<4.0.0,>=3.8.3->langchain) (23.2.0)\n",
            "Requirement already satisfied: multidict<7.0,>=4.5 in /usr/local/lib/python3.10/dist-packages (from aiohttp<4.0.0,>=3.8.3->langchain) (6.0.4)\n",
            "Requirement already satisfied: yarl<2.0,>=1.0 in /usr/local/lib/python3.10/dist-packages (from aiohttp<4.0.0,>=3.8.3->langchain) (1.9.4)\n",
            "Requirement already satisfied: frozenlist>=1.1.1 in /usr/local/lib/python3.10/dist-packages (from aiohttp<4.0.0,>=3.8.3->langchain) (1.4.1)\n",
            "Requirement already satisfied: aiosignal>=1.1.2 in /usr/local/lib/python3.10/dist-packages (from aiohttp<4.0.0,>=3.8.3->langchain) (1.3.1)\n",
            "Collecting marshmallow<4.0.0,>=3.18.0 (from dataclasses-json<0.7,>=0.5.7->langchain)\n",
            "  Downloading marshmallow-3.20.2-py3-none-any.whl (49 kB)\n",
            "\u001b[2K     \u001b[90m━━━━━━━━━━━━━━━━━━━━━━━━━━━━━━━━━━━━━━━━\u001b[0m \u001b[32m49.4/49.4 kB\u001b[0m \u001b[31m6.4 MB/s\u001b[0m eta \u001b[36m0:00:00\u001b[0m\n",
            "\u001b[?25hCollecting typing-inspect<1,>=0.4.0 (from dataclasses-json<0.7,>=0.5.7->langchain)\n",
            "  Downloading typing_inspect-0.9.0-py3-none-any.whl (8.8 kB)\n",
            "Collecting jsonpointer>=1.9 (from jsonpatch<2.0,>=1.33->langchain)\n",
            "  Downloading jsonpointer-2.4-py2.py3-none-any.whl (7.8 kB)\n",
            "Requirement already satisfied: anyio<5,>=3 in /usr/local/lib/python3.10/dist-packages (from langchain-core<0.2,>=0.1.16->langchain) (3.7.1)\n",
            "Requirement already satisfied: packaging<24.0,>=23.2 in /usr/local/lib/python3.10/dist-packages (from langchain-core<0.2,>=0.1.16->langchain) (23.2)\n",
            "Requirement already satisfied: typing-extensions>=4.2.0 in /usr/local/lib/python3.10/dist-packages (from pydantic<3,>=1->langchain) (4.9.0)\n",
            "Requirement already satisfied: charset-normalizer<4,>=2 in /usr/local/lib/python3.10/dist-packages (from requests<3,>=2->langchain) (3.3.2)\n",
            "Requirement already satisfied: idna<4,>=2.5 in /usr/local/lib/python3.10/dist-packages (from requests<3,>=2->langchain) (3.6)\n",
            "Requirement already satisfied: urllib3<3,>=1.21.1 in /usr/local/lib/python3.10/dist-packages (from requests<3,>=2->langchain) (2.0.7)\n",
            "Requirement already satisfied: certifi>=2017.4.17 in /usr/local/lib/python3.10/dist-packages (from requests<3,>=2->langchain) (2023.11.17)\n",
            "Requirement already satisfied: greenlet!=0.4.17 in /usr/local/lib/python3.10/dist-packages (from SQLAlchemy<3,>=1.4->langchain) (3.0.3)\n",
            "Requirement already satisfied: sniffio>=1.1 in /usr/local/lib/python3.10/dist-packages (from anyio<5,>=3->langchain-core<0.2,>=0.1.16->langchain) (1.3.0)\n",
            "Requirement already satisfied: exceptiongroup in /usr/local/lib/python3.10/dist-packages (from anyio<5,>=3->langchain-core<0.2,>=0.1.16->langchain) (1.2.0)\n",
            "Collecting mypy-extensions>=0.3.0 (from typing-inspect<1,>=0.4.0->dataclasses-json<0.7,>=0.5.7->langchain)\n",
            "  Downloading mypy_extensions-1.0.0-py3-none-any.whl (4.7 kB)\n",
            "Installing collected packages: mypy-extensions, marshmallow, jsonpointer, typing-inspect, langsmith, jsonpatch, langchain-core, dataclasses-json, langchain-community, langchain\n",
            "Successfully installed dataclasses-json-0.6.3 jsonpatch-1.33 jsonpointer-2.4 langchain-0.1.4 langchain-community-0.0.16 langchain-core-0.1.17 langsmith-0.0.84 marshmallow-3.20.2 mypy-extensions-1.0.0 typing-inspect-0.9.0\n"
          ]
        }
      ],
      "source": [
        "!pip install openai\n",
        "!pip install langchain"
      ]
    },
    {
      "cell_type": "code",
      "source": [
        "import os\n",
        "\n",
        "os.environ['OPENAI_API_KEY'] = '3a9d04966a3c43ca92de7be4b803d6f7'\n",
        "os.environ['AZURE_OPENAI_ENDPOINT'] = 'https://skyfly-001.openai.azure.com/'\n",
        "os.environ['OPENAI_API_TYPE'] = 'azure'\n",
        "os.environ['OPENAI_API_VERSION'] = '2023-05-15'"
      ],
      "metadata": {
        "id": "GIAQctfmxjmg"
      },
      "execution_count": 13,
      "outputs": []
    },
    {
      "cell_type": "code",
      "source": [
        "from langchain.llms import OpenAI"
      ],
      "metadata": {
        "id": "BVImFNKNxjjq"
      },
      "execution_count": 5,
      "outputs": []
    },
    {
      "cell_type": "code",
      "source": [
        "from langchain.llms import AzureOpenAI\n",
        "\n",
        "llm = AzureOpenAI(\n",
        "    deployment_name = 'dev-gpt-35-turbo-instruct'\n",
        ")\n",
        "\n",
        "llm.invoke('why python is the most popular language?')"
      ],
      "metadata": {
        "colab": {
          "base_uri": "https://localhost:8080/",
          "height": 125
        },
        "id": "D3DHwi2bxjhO",
        "outputId": "1e530e1e-dd69-4e28-bba0-b092c1d48d31"
      },
      "execution_count": 14,
      "outputs": [
        {
          "output_type": "execute_result",
          "data": {
            "text/plain": [
              "'\\n\\n1. Versatility: Python can be used for a wide range of applications such as web development, data analysis, machine learning, and artificial intelligence. This makes it a popular choice for developers and companies looking for a versatile language that can be used in various projects.\\n\\n2. Easy to learn and use: Python has a simple and intuitive syntax, which makes it easy for beginners to learn and use. Its readability also makes it easier for developers to understand and maintain code written by others.\\n\\n3. Large and active community: Python has a large and active community of developers, which provides support, resources, and a wealth of knowledge for beginners and experienced developers alike. This community also contributes to the development of libraries, frameworks, and tools that make Python even more powerful and versatile.\\n\\n4. Extensive libraries and frameworks: Python has a vast collection of libraries and frameworks that make it efficient and convenient for developers to build applications. These libraries and frameworks cover a wide range of functionalities, making it easier for developers to accomplish tasks without having to write code from scratch.\\n\\n5. Scalability: Python is a scalable language, meaning it can handle small and large projects equally well. This makes it a popular choice for companies looking to build scalable and high-performance applications.\\n\\n6. Cross-platform compatibility'"
            ],
            "application/vnd.google.colaboratory.intrinsic+json": {
              "type": "string"
            }
          },
          "metadata": {},
          "execution_count": 14
        }
      ]
    },
    {
      "cell_type": "code",
      "source": [
        "from langchain.chat_models import AzureChatOpenAI\n",
        "\n",
        "chatgpt = AzureChatOpenAI(\n",
        "    deployment_name = 'dev-gpt-35-turbo'\n",
        ")\n",
        "answer = chatgpt.invoke('파이썬이 왜 가장 인기있는 언어야?')\n",
        "print(answer.content)"
      ],
      "metadata": {
        "colab": {
          "base_uri": "https://localhost:8080/"
        },
        "id": "_z-0GOEnxjeS",
        "outputId": "c2deb0be-623e-47cd-df49-689ffef745e6"
      },
      "execution_count": 17,
      "outputs": [
        {
          "output_type": "stream",
          "name": "stdout",
          "text": [
            "파이썬은 다음과 같은 이유로 인해 가장 인기있는 프로그래밍 언어 중 하나입니다.\n",
            "\n",
            "1. 쉽고 간결한 문법: 파이썬은 읽기 쉽고 간결한 문법을 가지고 있어 초보자도 배우기 쉽습니다. 이로 인해 빠르게 개발할 수 있으며, 코드의 가독성이 높아 유지보수가 쉽습니다.\n",
            "\n",
            "2. 다양한 용도로 활용 가능: 파이썬은 다양한 분야에서 사용됩니다. 웹 개발, 데이터 분석, 인공지능, 자연어 처리 등 다양한 분야에서 활용되며, 이를 위한 다양한 라이브러리와 프레임워크가 제공되어 있습니다.\n",
            "\n",
            "3. 큰 커뮤니티와 생태계: 파이썬은 많은 개발자들이 사용하고 있어 커뮤니티가 크고 활발합니다. 이를 통해 다른 개발자들과 정보를 공유하고 협업할 수 있으며, 다양한 오픈 소스 프로젝트와 라이브러리를 활용할 수 있습니다.\n",
            "\n",
            "4. 크로스 플랫폼 지원: 파이썬은 Windows, macOS, Linux 등 다양한 운영체제에서 동작하며, 이식성이 뛰어나기 때문에 다양한 플랫폼에서 개발할 수 있습니다.\n",
            "\n",
            "5. 대화형 인터프리터: 파이썬은 대화형 인터프리터를 제공하여 코드를 한 줄씩 실행하고 결과를 바로 확인할 수 있습니다. 이를 통해 빠르게 실험하고 디버깅할 수 있습니다.\n",
            "\n",
            "이러한 이유로 파이썬은 개발자들 사이에서 널리 사용되고 있으며, 계속해서 인기를 유지하고 있습니다.\n"
          ]
        }
      ]
    },
    {
      "cell_type": "code",
      "source": [
        "from langchain.callbacks.streaming_stdout import StreamingStdOutCallbackHandler\n",
        "\n",
        "\"\"\"\n",
        "streaming=True : 출력되는 것이 실시간으로 보임.\n",
        "callbacks=[StreamingStdOutCallbackHandler()] : 출력 후 다시 콜백 호출로 실시간을 보이게함.\n",
        "\"\"\"\n",
        "chatgpt = AzureChatOpenAI(\n",
        "    deployment_name='dev-gpt-35-turbo',\n",
        "    temperature=1,\n",
        "    streaming=True,\n",
        "    callbacks=[StreamingStdOutCallbackHandler()]\n",
        ")\n",
        "\n",
        "answer = chatgpt.invoke('왜 파이썬이 가장 인기있는 언어야?')"
      ],
      "metadata": {
        "colab": {
          "base_uri": "https://localhost:8080/"
        },
        "id": "MjjSdBe-xjbm",
        "outputId": "fb771c5a-2fd6-458e-ea7e-a53345fae93b"
      },
      "execution_count": 22,
      "outputs": [
        {
          "output_type": "stream",
          "name": "stdout",
          "text": [
            "파이썬이 가장 인기있는 언어로 여겨지는 이유는 다음과 같습니다:\n",
            "\n",
            "1. 쉬운 문법: 파이썬은 다른 프로그래밍 언어에 비해 문법이 간결하고 읽기 쉽습니다. 이로인해 입문자에게 더욱 적합하며, 프로그래밍을 처음 배우는 사람들에게 접근성이 좋습니다.\n",
            "\n",
            "2. 다양한 용도로 활용 가능: 파이썬은 다양한 분야에서 사용되는 범용 프로그래밍 언어입니다. 데이터 분석, 웹 개발, 인공지능, 자동화, 과학 연구 등 여러 분야에서 널리 사용되고 있습니다.\n",
            "\n",
            "3. 큰 커뮤니티와 생태계: 파이썬에는 활발한 커뮤니티와 다양한 라이브러리와 패키지가 있습니다. 이러한 생태계는 개발자들에게 많은 도움을 제공하고, 코드를 빠르게 개발할 수 있도록 도와줍니다.\n",
            "\n",
            "4. 플랫폼 독립성: 파이썬은 다양한 운영체제에서 동작할 수 있는 플랫폼 독립적인 언어입니다. 따라서, 한 번 작성한 코드를 여러 플랫폼에서 실행할 수 있어서 개발 및 배포가 용이합니다.\n",
            "\n",
            "5. 데이터 분석과 인공지능 분야에서의 강력한 지원: 파이썬은 데이터 분석과 인공지능 분야에서 많은 인기를 얻고 있습니다. pandas, numpy, scikit-learn, tensorflow 등의 라이브러리와 패키지들이 많이 개발되어 있어 데이터 분석 및 머신러닝 프로젝트를 쉽게 구현할 수 있습니다.\n",
            "\n",
            "이러한 이유로 인해 파이썬은 많은 개발자들에게 인기있는 언어가 되었습니다."
          ]
        }
      ]
    },
    {
      "cell_type": "code",
      "source": [
        "from langchain.chat_models import AzureChatOpenAI\n",
        "from langchain.schema import SystemMessage, AIMessage, HumanMessage\n",
        "\n",
        "chatgpt = AzureChatOpenAI(deployment_name='dev-gpt-35-turbo', temperature=0)\n",
        "\n",
        "messages = [\n",
        "    SystemMessage(content='You are a helpful assistant that translates English to Korean'),\n",
        "    HumanMessage(content='I love langchain')\n",
        "]\n",
        "\n",
        "response = chatgpt(messages)\n",
        "response.content"
      ],
      "metadata": {
        "colab": {
          "base_uri": "https://localhost:8080/",
          "height": 35
        },
        "id": "vPvMB465xjY1",
        "outputId": "67a773c6-cc44-4508-cdd8-e56c2d757260"
      },
      "execution_count": 32,
      "outputs": [
        {
          "output_type": "execute_result",
          "data": {
            "text/plain": [
              "'저는 랭체인을 사랑합니다.'"
            ],
            "application/vnd.google.colaboratory.intrinsic+json": {
              "type": "string"
            }
          },
          "metadata": {},
          "execution_count": 32
        }
      ]
    },
    {
      "cell_type": "code",
      "source": [
        "chatgpt = AzureChatOpenAI(\n",
        "    deployment_name='dev-gpt-35-turbo',\n",
        "    temperature=1,\n",
        "    streaming=True,\n",
        "    callbacks=[StreamingStdOutCallbackHandler()]\n",
        ")\n",
        "\n",
        "messages = [\n",
        "    SystemMessage(content='당신은 공부 계획을 세워주는 스터디 플래너 머신입니다. 사용자의 공부 주제를 입력받으면 이를 학습하기 위한 공부 계획을 세워 줍니다.'),\n",
        "    HumanMessage(content='Large Language Model에 대해 공부하고 싶어요')\n",
        "]\n",
        "\n",
        "response = chatgpt(messages)"
      ],
      "metadata": {
        "colab": {
          "base_uri": "https://localhost:8080/"
        },
        "id": "49lp6gQ1xjWV",
        "outputId": "599529f1-5216-4e36-9ab3-eeb2e14595c1"
      },
      "execution_count": 37,
      "outputs": [
        {
          "output_type": "stream",
          "name": "stdout",
          "text": [
            "큰 언어 모델(Large Language Model)에 대해 공부하고 싶으시다면, 다음과 같은 공부 계획을 추천해 드릴 수 있습니다:\n",
            "\n",
            "1. 기본 개념 학습: 먼저 큰 언어 모델에 대한 기본 개념을 학습해야 합니다. 이는 관련 논문, 강의 또는 튜토리얼을 통해 얻을 수 있습니다. 예를 들어, \"Transformers\"라는 논문을 읽고 개념을 숙지하거나, NLP 강의를 수강하는 것이 도움이 될 수 있습니다.\n",
            "\n",
            "2. 구현 실습: 큰 언어 모델을 구현해 보면서 개념을 실습해 볼 수 있습니다. 이를 위해 주어진 데이터셋에 대한 모델을 구현하거나, 사전 훈련된 모델을 로드하여 사용해 볼 수 있습니다. 예를 들어, Hugging Face의 Transformers 라이브러리를 사용해서 구현해 볼 수 있습니다.\n",
            "\n",
            "3. 모델 이해 및 분석: 더 나아가서, 큰 언어 모델의 동작 메커니즘과 내부 구조를 이해하고 분석해 볼 수 있습니다. 모델의 토큰화 방식, 어텐션 메커니즘 등을 탐구하고, 모델의 성능과 한계에 대해 검토해 볼 수 있습니다.\n",
            "\n",
            "4. 응용 및 활용: 큰 언어 모델을 실제 과제에 적용해 보면서 그 활용 가능성을 탐구해 볼 수 있습니다. 예를 들어, 다른 NLP 작업에 모델을 fine-tuning 해보거나, 새로운 애플리케이션에 모델을 적용해 볼 수 있습니다.\n",
            "\n",
            "5. 최신 연구 동향 파악: 큰 언어 모델과 관련된 최신 연구 동향을 지속적으로 파악하는 것이 중요합니다. 학회 논문, 블로그, 컨퍼런스 발표 등을 통해 최신 연구 동향을 읽고 이해해 보세요.\n",
            "\n",
            "이러한 과정을 거쳐 큰 언어 모델에 대한 깊은 이해를 얻을 수 있을 것입니다. 읽을 수 있는 자료와 실습을 많이 찾아보고, 관련 주제에 대해 토론할 수 있는 학습 그룹이나 온라인 커뮤니티에 참여하면 도움이 될 것입니다. 좋은 학습 여정을 기대해 봅니다!"
          ]
        }
      ]
    },
    {
      "cell_type": "code",
      "source": [],
      "metadata": {
        "id": "DALh59pVxjTu"
      },
      "execution_count": null,
      "outputs": []
    },
    {
      "cell_type": "code",
      "source": [],
      "metadata": {
        "id": "QWXtnRRuxjRD"
      },
      "execution_count": null,
      "outputs": []
    },
    {
      "cell_type": "code",
      "source": [],
      "metadata": {
        "id": "Ks4kI-DqxjOn"
      },
      "execution_count": null,
      "outputs": []
    },
    {
      "cell_type": "code",
      "source": [],
      "metadata": {
        "id": "b6Y5JLtxxjML"
      },
      "execution_count": null,
      "outputs": []
    },
    {
      "cell_type": "code",
      "source": [],
      "metadata": {
        "id": "mebog-HbxjJ1"
      },
      "execution_count": null,
      "outputs": []
    },
    {
      "cell_type": "code",
      "source": [],
      "metadata": {
        "id": "r9rGY7fMxjHb"
      },
      "execution_count": null,
      "outputs": []
    },
    {
      "cell_type": "code",
      "source": [],
      "metadata": {
        "id": "WD6GC-sRxjEv"
      },
      "execution_count": null,
      "outputs": []
    }
  ]
}