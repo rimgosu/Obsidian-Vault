{
  "nbformat": 4,
  "nbformat_minor": 0,
  "metadata": {
    "colab": {
      "provenance": []
    },
    "kernelspec": {
      "name": "python3",
      "display_name": "Python 3"
    },
    "language_info": {
      "name": "python"
    }
  },
  "cells": [
    {
      "cell_type": "code",
      "execution_count": null,
      "metadata": {
        "id": "ppxBnq1zzBVx"
      },
      "outputs": [],
      "source": [
        "# List\n",
        "\n",
        "colors = ['red', 'green', 'gold']"
      ]
    },
    {
      "cell_type": "code",
      "source": [
        "type(colors)"
      ],
      "metadata": {
        "colab": {
          "base_uri": "https://localhost:8080/"
        },
        "id": "u_kOhdDZzeKI",
        "outputId": "f120fcae-e3dc-47d9-9917-c1021b5cfbbe"
      },
      "execution_count": null,
      "outputs": [
        {
          "output_type": "execute_result",
          "data": {
            "text/plain": [
              "list"
            ]
          },
          "metadata": {},
          "execution_count": 6
        }
      ]
    },
    {
      "cell_type": "code",
      "source": [
        "colors.append('blue')\n",
        "colors"
      ],
      "metadata": {
        "colab": {
          "base_uri": "https://localhost:8080/"
        },
        "id": "mr4YnAnSzeN0",
        "outputId": "6062e455-258f-4d6f-e6b4-07e8c1815ad7"
      },
      "execution_count": null,
      "outputs": [
        {
          "output_type": "execute_result",
          "data": {
            "text/plain": [
              "['red', 'green', 'gold', 'blue']"
            ]
          },
          "metadata": {},
          "execution_count": 7
        }
      ]
    },
    {
      "cell_type": "code",
      "source": [
        "colors.extend(['white', 'gray'])\n",
        "colors"
      ],
      "metadata": {
        "colab": {
          "base_uri": "https://localhost:8080/"
        },
        "id": "IV6DGxP3zeQp",
        "outputId": "4605356e-fbb7-461f-b2fd-bd27914363c9"
      },
      "execution_count": null,
      "outputs": [
        {
          "output_type": "execute_result",
          "data": {
            "text/plain": [
              "['red', 'green', 'gold', 'blue', 'white', 'gray']"
            ]
          },
          "metadata": {},
          "execution_count": 9
        }
      ]
    },
    {
      "cell_type": "code",
      "source": [
        "colors += 'red'\n",
        "colors\n",
        "# r,e,d 하나씩 각각 들어감"
      ],
      "metadata": {
        "colab": {
          "base_uri": "https://localhost:8080/"
        },
        "id": "tHMZaVUfzeTe",
        "outputId": "cdc1077c-f27e-4754-d15e-94cb12fdba55"
      },
      "execution_count": null,
      "outputs": [
        {
          "output_type": "execute_result",
          "data": {
            "text/plain": [
              "['red', 'green', 'gold', 'blue', 'white', 'gray', 'r', 'e', 'd']"
            ]
          },
          "metadata": {},
          "execution_count": 10
        }
      ]
    },
    {
      "cell_type": "code",
      "source": [
        "print(colors.index('red'))\n",
        "print(colors.index('r'))"
      ],
      "metadata": {
        "colab": {
          "base_uri": "https://localhost:8080/"
        },
        "id": "Wg4RYu5i0oUS",
        "outputId": "f0536adc-03ca-4d46-f103-15de601fe4c9"
      },
      "execution_count": null,
      "outputs": [
        {
          "output_type": "stream",
          "name": "stdout",
          "text": [
            "0\n",
            "6\n"
          ]
        }
      ]
    },
    {
      "cell_type": "code",
      "source": [
        "colors.append('red')\n",
        "colors.index('red',1)\n",
        "# 2번째 red 어디있는가?"
      ],
      "metadata": {
        "colab": {
          "base_uri": "https://localhost:8080/"
        },
        "id": "uAL6KcNyzeWU",
        "outputId": "adb69335-165e-4c87-a3e1-e59e0dfa01fe"
      },
      "execution_count": null,
      "outputs": [
        {
          "output_type": "execute_result",
          "data": {
            "text/plain": [
              "9"
            ]
          },
          "metadata": {},
          "execution_count": 14
        }
      ]
    },
    {
      "cell_type": "markdown",
      "source": [
        "![image.png](data:image/png;base64,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)"
      ],
      "metadata": {
        "id": "4OPSUD7tzeZj"
      }
    },
    {
      "cell_type": "code",
      "source": [
        "colors.pop()"
      ],
      "metadata": {
        "colab": {
          "base_uri": "https://localhost:8080/",
          "height": 35
        },
        "id": "WT1NvGDtzec5",
        "outputId": "1c5ce873-20f5-4d8b-ff51-695c96d43329"
      },
      "execution_count": null,
      "outputs": [
        {
          "output_type": "execute_result",
          "data": {
            "text/plain": [
              "'red'"
            ],
            "application/vnd.google.colaboratory.intrinsic+json": {
              "type": "string"
            }
          },
          "metadata": {},
          "execution_count": 15
        }
      ]
    },
    {
      "cell_type": "code",
      "source": [
        "colors"
      ],
      "metadata": {
        "colab": {
          "base_uri": "https://localhost:8080/"
        },
        "id": "_awCw9VQzegJ",
        "outputId": "5f7df6ca-b570-414c-8f4e-3b680e81e482"
      },
      "execution_count": null,
      "outputs": [
        {
          "output_type": "execute_result",
          "data": {
            "text/plain": [
              "['red', 'green', 'gold', 'blue', 'white', 'gray', 'r', 'e', 'd']"
            ]
          },
          "metadata": {},
          "execution_count": 16
        }
      ]
    },
    {
      "cell_type": "code",
      "source": [
        "colors.pop()"
      ],
      "metadata": {
        "colab": {
          "base_uri": "https://localhost:8080/",
          "height": 35
        },
        "id": "RVR043rEzei7",
        "outputId": "4af0a6e1-9436-4194-d29c-e9ba6e2978e8"
      },
      "execution_count": null,
      "outputs": [
        {
          "output_type": "execute_result",
          "data": {
            "text/plain": [
              "'d'"
            ],
            "application/vnd.google.colaboratory.intrinsic+json": {
              "type": "string"
            }
          },
          "metadata": {},
          "execution_count": 17
        }
      ]
    },
    {
      "cell_type": "code",
      "source": [
        "colors.pop()"
      ],
      "metadata": {
        "colab": {
          "base_uri": "https://localhost:8080/",
          "height": 35
        },
        "id": "R2Ef_gU-zelu",
        "outputId": "ff52b27d-d064-4b89-8943-0fd2f2cf56ff"
      },
      "execution_count": null,
      "outputs": [
        {
          "output_type": "execute_result",
          "data": {
            "text/plain": [
              "'e'"
            ],
            "application/vnd.google.colaboratory.intrinsic+json": {
              "type": "string"
            }
          },
          "metadata": {},
          "execution_count": 18
        }
      ]
    },
    {
      "cell_type": "code",
      "source": [
        "colors.pop()"
      ],
      "metadata": {
        "colab": {
          "base_uri": "https://localhost:8080/",
          "height": 35
        },
        "id": "n-A9lYdnzepD",
        "outputId": "28c3d208-4029-4047-907a-3341767bc2e7"
      },
      "execution_count": null,
      "outputs": [
        {
          "output_type": "execute_result",
          "data": {
            "text/plain": [
              "'r'"
            ],
            "application/vnd.google.colaboratory.intrinsic+json": {
              "type": "string"
            }
          },
          "metadata": {},
          "execution_count": 19
        }
      ]
    },
    {
      "cell_type": "code",
      "source": [
        "colors"
      ],
      "metadata": {
        "colab": {
          "base_uri": "https://localhost:8080/"
        },
        "id": "RhONmKGLzesT",
        "outputId": "85dbb27c-9ffd-4e18-9912-32db0b219f0b"
      },
      "execution_count": null,
      "outputs": [
        {
          "output_type": "execute_result",
          "data": {
            "text/plain": [
              "['red', 'green', 'gold', 'blue', 'white', 'gray']"
            ]
          },
          "metadata": {},
          "execution_count": 20
        }
      ]
    },
    {
      "cell_type": "code",
      "source": [
        "# 'gold' 요소 삭제\n",
        "colors.remove('gold')\n",
        "colors"
      ],
      "metadata": {
        "colab": {
          "base_uri": "https://localhost:8080/"
        },
        "id": "JOFn_j8uzevH",
        "outputId": "831c29e2-4473-4a6c-9ab0-56854e15191d"
      },
      "execution_count": null,
      "outputs": [
        {
          "output_type": "execute_result",
          "data": {
            "text/plain": [
              "['red', 'green', 'blue', 'white', 'gray']"
            ]
          },
          "metadata": {},
          "execution_count": 21
        }
      ]
    },
    {
      "cell_type": "code",
      "source": [
        "colors.sort()\n",
        "colors"
      ],
      "metadata": {
        "colab": {
          "base_uri": "https://localhost:8080/"
        },
        "id": "aa08sMtTzex-",
        "outputId": "e2c45e2e-c118-45a3-b251-7507404b9960"
      },
      "execution_count": null,
      "outputs": [
        {
          "output_type": "execute_result",
          "data": {
            "text/plain": [
              "['blue', 'gray', 'green', 'red', 'white']"
            ]
          },
          "metadata": {},
          "execution_count": 24
        }
      ]
    },
    {
      "cell_type": "code",
      "source": [
        "colors.count('blue')"
      ],
      "metadata": {
        "colab": {
          "base_uri": "https://localhost:8080/"
        },
        "id": "2GCiDPt42_cC",
        "outputId": "43bd17b1-42b5-4609-a6eb-b65c7a284b25"
      },
      "execution_count": null,
      "outputs": [
        {
          "output_type": "execute_result",
          "data": {
            "text/plain": [
              "1"
            ]
          },
          "metadata": {},
          "execution_count": 25
        }
      ]
    },
    {
      "cell_type": "code",
      "source": [
        "colors.reverse()\n",
        "colors"
      ],
      "metadata": {
        "colab": {
          "base_uri": "https://localhost:8080/"
        },
        "id": "gF7KYpLIze1O",
        "outputId": "96f4195b-91f4-4618-92a0-076f40d18bd7"
      },
      "execution_count": null,
      "outputs": [
        {
          "output_type": "execute_result",
          "data": {
            "text/plain": [
              "['white', 'red', 'green', 'gray', 'blue']"
            ]
          },
          "metadata": {},
          "execution_count": 28
        }
      ]
    },
    {
      "cell_type": "code",
      "source": [
        "# 세트(Set)\n",
        "# 리스트보다 가볍다 (성늫 좋다)\n",
        "a = {1,2,3}\n",
        "b = {3,4,5}"
      ],
      "metadata": {
        "id": "8-29dKy1ze4C"
      },
      "execution_count": null,
      "outputs": []
    },
    {
      "cell_type": "code",
      "source": [
        "# set를 통해서 합집합 혹은 교집합을 구할 수 있다.\n",
        "a.union(b)"
      ],
      "metadata": {
        "colab": {
          "base_uri": "https://localhost:8080/"
        },
        "id": "4b2DyG_Dze7Y",
        "outputId": "a4f2d729-3441-4f9e-c716-345d67dcff3f"
      },
      "execution_count": null,
      "outputs": [
        {
          "output_type": "execute_result",
          "data": {
            "text/plain": [
              "{1, 2, 3, 4, 5}"
            ]
          },
          "metadata": {},
          "execution_count": 40
        }
      ]
    },
    {
      "cell_type": "code",
      "source": [
        "# 교집합\n",
        "a.intersection(b)"
      ],
      "metadata": {
        "colab": {
          "base_uri": "https://localhost:8080/"
        },
        "id": "TlcA6NOF36GX",
        "outputId": "51d44459-881b-4aee-f9ec-123b9eb006ed"
      },
      "execution_count": null,
      "outputs": [
        {
          "output_type": "execute_result",
          "data": {
            "text/plain": [
              "{3}"
            ]
          },
          "metadata": {},
          "execution_count": 39
        }
      ]
    },
    {
      "cell_type": "code",
      "source": [
        "a | b # 합집합"
      ],
      "metadata": {
        "colab": {
          "base_uri": "https://localhost:8080/"
        },
        "id": "pJeRP3-s36JJ",
        "outputId": "33d3eb79-b981-433d-a530-8c3ae8b68162"
      },
      "execution_count": null,
      "outputs": [
        {
          "output_type": "execute_result",
          "data": {
            "text/plain": [
              "{1, 2, 3, 4, 5}"
            ]
          },
          "metadata": {},
          "execution_count": 41
        }
      ]
    },
    {
      "cell_type": "code",
      "source": [
        "a & b # 교집합"
      ],
      "metadata": {
        "colab": {
          "base_uri": "https://localhost:8080/"
        },
        "id": "lYAqZjoL36L6",
        "outputId": "2a9e97e1-9fd5-403c-9319-b28a7482bc65"
      },
      "execution_count": null,
      "outputs": [
        {
          "output_type": "execute_result",
          "data": {
            "text/plain": [
              "{3}"
            ]
          },
          "metadata": {},
          "execution_count": 42
        }
      ]
    },
    {
      "cell_type": "code",
      "source": [
        "a - b # 차집합"
      ],
      "metadata": {
        "colab": {
          "base_uri": "https://localhost:8080/"
        },
        "id": "tL5uO7aj36Ou",
        "outputId": "a1a053a3-71cd-40d9-bb7a-38900b9f3d92"
      },
      "execution_count": null,
      "outputs": [
        {
          "output_type": "execute_result",
          "data": {
            "text/plain": [
              "{1, 2}"
            ]
          },
          "metadata": {},
          "execution_count": 44
        }
      ]
    },
    {
      "cell_type": "code",
      "source": [],
      "metadata": {
        "id": "Z3d4ov3h36Rl"
      },
      "execution_count": null,
      "outputs": []
    },
    {
      "cell_type": "code",
      "source": [
        "# 튜플 (Tuple)\n",
        "# 제일 가벼운 객체타입임. 제일 기능이 없기 때문임\n",
        "# 기본적으로 변수 선언하면 튜플타입임\n",
        "t = 1,2,3\n",
        "t = (1,2,3)"
      ],
      "metadata": {
        "id": "sG5ToT-236T6"
      },
      "execution_count": null,
      "outputs": []
    },
    {
      "cell_type": "code",
      "source": [
        "a = 10\n",
        "b = 20\n",
        "\n",
        "a,b = b,a\n",
        "print(a,b)"
      ],
      "metadata": {
        "colab": {
          "base_uri": "https://localhost:8080/"
        },
        "id": "Ma9vt3nV36XM",
        "outputId": "083a55e4-5d8f-4474-e3c9-92fa6fd1a557"
      },
      "execution_count": null,
      "outputs": [
        {
          "output_type": "stream",
          "name": "stdout",
          "text": [
            "20 10\n"
          ]
        }
      ]
    },
    {
      "cell_type": "code",
      "source": [
        "# 튜플 -> 리스트\n",
        "l = list((1,2,3))\n",
        "type(l)"
      ],
      "metadata": {
        "colab": {
          "base_uri": "https://localhost:8080/"
        },
        "id": "sHvNas_f36aJ",
        "outputId": "f52c1fda-a912-4975-ed66-e8f593c22fc5"
      },
      "execution_count": null,
      "outputs": [
        {
          "output_type": "execute_result",
          "data": {
            "text/plain": [
              "list"
            ]
          },
          "metadata": {},
          "execution_count": 54
        }
      ]
    },
    {
      "cell_type": "code",
      "source": [
        "# 튜플 -> set\n",
        "s = set(l)\n",
        "type(s)"
      ],
      "metadata": {
        "colab": {
          "base_uri": "https://localhost:8080/"
        },
        "id": "TEvMdkI736dA",
        "outputId": "37b01d1a-8578-4c2f-8f00-6586bb10a104"
      },
      "execution_count": null,
      "outputs": [
        {
          "output_type": "execute_result",
          "data": {
            "text/plain": [
              "set"
            ]
          },
          "metadata": {},
          "execution_count": 55
        }
      ]
    },
    {
      "cell_type": "code",
      "source": [],
      "metadata": {
        "id": "BRalan-t36fo"
      },
      "execution_count": null,
      "outputs": []
    },
    {
      "cell_type": "code",
      "source": [
        "d = dict(a=1,b=2,c=3)\n",
        "d"
      ],
      "metadata": {
        "colab": {
          "base_uri": "https://localhost:8080/"
        },
        "id": "hR9Ws3xq2gJa",
        "outputId": "e5a47226-835d-4b6c-943b-f6bd0df0c1c6"
      },
      "execution_count": null,
      "outputs": [
        {
          "output_type": "execute_result",
          "data": {
            "text/plain": [
              "{'a': 1, 'b': 2, 'c': 3}"
            ]
          },
          "metadata": {},
          "execution_count": 56
        }
      ]
    },
    {
      "cell_type": "code",
      "source": [
        "color = {'apple' : 'red', 'banana' : 'yello'}"
      ],
      "metadata": {
        "id": "d7GUCjTM9n0V"
      },
      "execution_count": null,
      "outputs": []
    },
    {
      "cell_type": "code",
      "source": [
        "color['apple']"
      ],
      "metadata": {
        "colab": {
          "base_uri": "https://localhost:8080/",
          "height": 35
        },
        "id": "eTURcVGa9n3K",
        "outputId": "b7052ff0-64d3-4146-cb15-8a1d8ccec710"
      },
      "execution_count": null,
      "outputs": [
        {
          "output_type": "execute_result",
          "data": {
            "text/plain": [
              "'red'"
            ],
            "application/vnd.google.colaboratory.intrinsic+json": {
              "type": "string"
            }
          },
          "metadata": {},
          "execution_count": 58
        }
      ]
    },
    {
      "cell_type": "code",
      "source": [
        "color['apple'] = 'green'\n",
        "color"
      ],
      "metadata": {
        "colab": {
          "base_uri": "https://localhost:8080/"
        },
        "id": "-h0HeIZj9n5-",
        "outputId": "ee170c59-2f33-4016-ed2c-b4f6ca996d45"
      },
      "execution_count": null,
      "outputs": [
        {
          "output_type": "execute_result",
          "data": {
            "text/plain": [
              "{'apple': 'green', 'banana': 'yello'}"
            ]
          },
          "metadata": {},
          "execution_count": 59
        }
      ]
    },
    {
      "cell_type": "code",
      "source": [
        "color['cherry'] = 'red'\n",
        "color"
      ],
      "metadata": {
        "colab": {
          "base_uri": "https://localhost:8080/"
        },
        "id": "WCJYxiPu9n8R",
        "outputId": "4e088eed-2e94-4694-fc4a-fb387b82fd8c"
      },
      "execution_count": null,
      "outputs": [
        {
          "output_type": "execute_result",
          "data": {
            "text/plain": [
              "{'apple': 'green', 'banana': 'yello', 'cherry': 'red'}"
            ]
          },
          "metadata": {},
          "execution_count": 61
        }
      ]
    },
    {
      "cell_type": "code",
      "source": [],
      "metadata": {
        "id": "s8UkTQW19n-o"
      },
      "execution_count": null,
      "outputs": []
    },
    {
      "cell_type": "code",
      "source": [
        "# 반복문\n",
        "for i in [1,2,3,4,5,6,7,8,9,0,10]:\n",
        "  print(i, end = \" \")"
      ],
      "metadata": {
        "colab": {
          "base_uri": "https://localhost:8080/"
        },
        "id": "5BmhDkkS9oA9",
        "outputId": "a8d61f59-625e-4115-d182-b9c3cc11a277"
      },
      "execution_count": null,
      "outputs": [
        {
          "output_type": "stream",
          "name": "stdout",
          "text": [
            "1 2 3 4 5 6 7 8 9 0 10 "
          ]
        }
      ]
    },
    {
      "cell_type": "code",
      "source": [
        "range(100)"
      ],
      "metadata": {
        "colab": {
          "base_uri": "https://localhost:8080/"
        },
        "id": "u89nhPG-9oDx",
        "outputId": "d4c5d2d2-ec9f-42bc-9ecb-820ad7e71bd5"
      },
      "execution_count": null,
      "outputs": [
        {
          "output_type": "execute_result",
          "data": {
            "text/plain": [
              "range(0, 100)"
            ]
          },
          "metadata": {},
          "execution_count": 64
        }
      ]
    },
    {
      "cell_type": "code",
      "source": [
        "for k,v in color.items():\n",
        "  print(k,v)"
      ],
      "metadata": {
        "colab": {
          "base_uri": "https://localhost:8080/"
        },
        "id": "LlR5ndV89oGQ",
        "outputId": "dd9ef38e-353d-4477-f5b6-06883fb9c3a9"
      },
      "execution_count": null,
      "outputs": [
        {
          "output_type": "stream",
          "name": "stdout",
          "text": [
            "apple green\n",
            "banana yello\n",
            "cherry red\n"
          ]
        }
      ]
    },
    {
      "cell_type": "code",
      "source": [
        "for k in color.keys():\n",
        "  print(k)"
      ],
      "metadata": {
        "colab": {
          "base_uri": "https://localhost:8080/"
        },
        "id": "Ug3bUYCz9oJI",
        "outputId": "3ffee7a7-a1cd-4b8e-8a98-8ca55980a6e7"
      },
      "execution_count": null,
      "outputs": [
        {
          "output_type": "stream",
          "name": "stdout",
          "text": [
            "apple\n",
            "banana\n",
            "cherry\n"
          ]
        }
      ]
    },
    {
      "cell_type": "code",
      "source": [
        "for v in color.values():\n",
        "  print(v)"
      ],
      "metadata": {
        "colab": {
          "base_uri": "https://localhost:8080/"
        },
        "id": "4lD46jlH9oLd",
        "outputId": "9749d3db-7c1c-45e3-df8c-eba84f5e5f0e"
      },
      "execution_count": null,
      "outputs": [
        {
          "output_type": "stream",
          "name": "stdout",
          "text": [
            "green\n",
            "yello\n",
            "red\n"
          ]
        }
      ]
    },
    {
      "cell_type": "code",
      "source": [
        "# 딕셔너리 요소 삭제 : del\n",
        "del color['cherry']"
      ],
      "metadata": {
        "id": "a5fI44td9oOU"
      },
      "execution_count": null,
      "outputs": []
    },
    {
      "cell_type": "code",
      "source": [
        "color"
      ],
      "metadata": {
        "colab": {
          "base_uri": "https://localhost:8080/"
        },
        "id": "zRwfC6Rn9oQ8",
        "outputId": "dcc5145e-7174-4e30-bcd6-2e8ffbf02040"
      },
      "execution_count": null,
      "outputs": [
        {
          "output_type": "execute_result",
          "data": {
            "text/plain": [
              "{'apple': 'green', 'banana': 'yello'}"
            ]
          },
          "metadata": {},
          "execution_count": 69
        }
      ]
    },
    {
      "cell_type": "code",
      "source": [],
      "metadata": {
        "id": "WTUYDccS9oTR"
      },
      "execution_count": null,
      "outputs": []
    },
    {
      "cell_type": "code",
      "source": [
        "# 얕은 복사와 깊은 복사\n",
        "a = [1,2,3]\n",
        "b=a\n",
        "b"
      ],
      "metadata": {
        "colab": {
          "base_uri": "https://localhost:8080/"
        },
        "id": "nq5fdvCT9oWI",
        "outputId": "fd261b4b-9e78-4131-8c8f-2d4ceeab8bb6"
      },
      "execution_count": null,
      "outputs": [
        {
          "output_type": "execute_result",
          "data": {
            "text/plain": [
              "[1, 2, 3]"
            ]
          },
          "metadata": {},
          "execution_count": 70
        }
      ]
    },
    {
      "cell_type": "code",
      "source": [
        "b[0] = 100\n",
        "print(a,b)"
      ],
      "metadata": {
        "colab": {
          "base_uri": "https://localhost:8080/"
        },
        "id": "vh3G9-bz9oZi",
        "outputId": "c4ae67d4-5b77-429d-f013-71a1d4a7ddc3"
      },
      "execution_count": null,
      "outputs": [
        {
          "output_type": "stream",
          "name": "stdout",
          "text": [
            "[100, 2, 3] [100, 2, 3]\n"
          ]
        }
      ]
    },
    {
      "cell_type": "code",
      "source": [
        "# 깊은 복사를 도와주는 라이브러리\n",
        "import copy"
      ],
      "metadata": {
        "id": "jaHnYVUT9ob4"
      },
      "execution_count": null,
      "outputs": []
    },
    {
      "cell_type": "code",
      "source": [
        "a = [1,2,3]\n",
        "b = copy.deepcopy(a)\n",
        "b[0] = 100\n",
        "print(a,b)"
      ],
      "metadata": {
        "colab": {
          "base_uri": "https://localhost:8080/"
        },
        "id": "iMm8dUZO9oev",
        "outputId": "83bee343-fc9d-47f3-f0c3-53e24840e2eb"
      },
      "execution_count": null,
      "outputs": [
        {
          "output_type": "stream",
          "name": "stdout",
          "text": [
            "[1, 2, 3] [100, 2, 3]\n"
          ]
        }
      ]
    },
    {
      "cell_type": "code",
      "source": [
        "a = [1,2,3]\n",
        "b = a[:]\n",
        "b[0] = 100\n",
        "print(a,b)"
      ],
      "metadata": {
        "colab": {
          "base_uri": "https://localhost:8080/"
        },
        "id": "tzKx5Lo19ohV",
        "outputId": "817a10ab-1edb-4959-ba88-79c67b65af0e"
      },
      "execution_count": null,
      "outputs": [
        {
          "output_type": "stream",
          "name": "stdout",
          "text": [
            "[1, 2, 3] [100, 2, 3]\n"
          ]
        }
      ]
    },
    {
      "cell_type": "code",
      "source": [],
      "metadata": {
        "id": "ZOAMG9AXF9cv"
      },
      "execution_count": null,
      "outputs": []
    },
    {
      "cell_type": "code",
      "source": [],
      "metadata": {
        "id": "yuyOBVCoF9fd"
      },
      "execution_count": null,
      "outputs": []
    },
    {
      "cell_type": "code",
      "source": [],
      "metadata": {
        "id": "BUp_e-IwF9iR"
      },
      "execution_count": null,
      "outputs": []
    },
    {
      "cell_type": "code",
      "source": [],
      "metadata": {
        "id": "upmv-BfNF9kn"
      },
      "execution_count": null,
      "outputs": []
    }
  ]
}