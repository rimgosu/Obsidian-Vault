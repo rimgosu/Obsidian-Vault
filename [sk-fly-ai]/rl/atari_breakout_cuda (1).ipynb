{
  "cells": [
    {
      "cell_type": "code",
      "execution_count": 1,
      "metadata": {
        "colab": {
          "base_uri": "https://localhost:8080/"
        },
        "id": "a1DR5X85xrva",
        "outputId": "6638dca3-925b-46ba-9931-21953d68fc55"
      },
      "outputs": [
        {
          "name": "stdout",
          "output_type": "stream",
          "text": [
            "Collecting gym[accept-rom-license,atari]==0.26.2\n",
            "  Downloading gym-0.26.2.tar.gz (721 kB)\n",
            "  Installing build dependencies: started\n",
            "  Installing build dependencies: finished with status 'done'\n",
            "  Getting requirements to build wheel: started\n",
            "  Getting requirements to build wheel: finished with status 'done'\n",
            "    Preparing wheel metadata: started\n",
            "    Preparing wheel metadata: finished with status 'done'\n",
            "Collecting gym-notices>=0.0.4\n",
            "  Downloading gym_notices-0.0.8-py3-none-any.whl (3.0 kB)\n",
            "Collecting numpy>=1.18.0\n",
            "  Using cached numpy-1.26.3-cp310-cp310-win_amd64.whl (15.8 MB)\n",
            "Collecting cloudpickle>=1.2.0\n",
            "  Downloading cloudpickle-3.0.0-py3-none-any.whl (20 kB)\n",
            "Collecting autorom[accept-rom-license]~=0.4.2\n",
            "  Downloading AutoROM-0.4.2-py3-none-any.whl (16 kB)\n",
            "Collecting ale-py~=0.8.0\n",
            "  Downloading ale_py-0.8.1-cp310-cp310-win_amd64.whl (952 kB)\n",
            "Collecting importlib-resources\n",
            "  Downloading importlib_resources-6.1.1-py3-none-any.whl (33 kB)\n",
            "Collecting typing-extensions\n",
            "  Using cached typing_extensions-4.9.0-py3-none-any.whl (32 kB)\n",
            "Requirement already satisfied: click in c:\\users\\flt.desktop-i2kqp96\\appdata\\local\\programs\\python\\python310\\lib\\site-packages (from autorom[accept-rom-license]~=0.4.2->gym[accept-rom-license,atari]==0.26.2) (8.1.7)\n",
            "Collecting tqdm\n",
            "  Using cached tqdm-4.66.1-py3-none-any.whl (78 kB)\n",
            "Collecting requests\n",
            "  Using cached requests-2.31.0-py3-none-any.whl (62 kB)\n",
            "Collecting AutoROM.accept-rom-license\n",
            "  Downloading AutoROM.accept-rom-license-0.6.1.tar.gz (434 kB)\n",
            "  Installing build dependencies: started\n",
            "  Installing build dependencies: finished with status 'done'\n",
            "  Getting requirements to build wheel: started\n",
            "  Getting requirements to build wheel: finished with status 'done'\n",
            "    Preparing wheel metadata: started\n",
            "    Preparing wheel metadata: finished with status 'done'\n",
            "Requirement already satisfied: colorama in c:\\users\\flt.desktop-i2kqp96\\appdata\\local\\programs\\python\\python310\\lib\\site-packages (from click->autorom[accept-rom-license]~=0.4.2->gym[accept-rom-license,atari]==0.26.2) (0.4.6)\n",
            "Collecting idna<4,>=2.5\n",
            "  Using cached idna-3.6-py3-none-any.whl (61 kB)\n",
            "Collecting charset-normalizer<4,>=2\n",
            "  Using cached charset_normalizer-3.3.2-cp310-cp310-win_amd64.whl (100 kB)\n",
            "Collecting certifi>=2017.4.17\n",
            "  Using cached certifi-2023.11.17-py3-none-any.whl (162 kB)\n",
            "Collecting urllib3<3,>=1.21.1\n",
            "  Using cached urllib3-2.1.0-py3-none-any.whl (104 kB)\n",
            "Building wheels for collected packages: AutoROM.accept-rom-license, gym\n",
            "  Building wheel for AutoROM.accept-rom-license (PEP 517): started\n",
            "  Building wheel for AutoROM.accept-rom-license (PEP 517): finished with status 'done'\n",
            "  Created wheel for AutoROM.accept-rom-license: filename=AutoROM.accept_rom_license-0.6.1-py3-none-any.whl size=446679 sha256=50c2fca7aedd565a2412d0634826f46203555069978b8358d195d090fab9012f\n",
            "  Stored in directory: c:\\users\\flt.desktop-i2kqp96\\appdata\\local\\pip\\cache\\wheels\\6b\\1b\\ef\\a43ff1a2f1736d5711faa1ba4c1f61be1131b8899e6a057811\n",
            "  Building wheel for gym (PEP 517): started\n",
            "  Building wheel for gym (PEP 517): finished with status 'done'\n",
            "  Created wheel for gym: filename=gym-0.26.2-py3-none-any.whl size=827637 sha256=5bd16483175accc015f13ea3b3c3388df503f58897e9c611a83d7a0fc48f3596\n",
            "  Stored in directory: c:\\users\\flt.desktop-i2kqp96\\appdata\\local\\pip\\cache\\wheels\\b9\\22\\6d\\3e7b32d98451b4cd9d12417052affbeeeea012955d437da1da\n",
            "Successfully built AutoROM.accept-rom-license gym\n",
            "Installing collected packages: urllib3, idna, charset-normalizer, certifi, tqdm, requests, typing-extensions, numpy, importlib-resources, gym-notices, cloudpickle, AutoROM.accept-rom-license, autorom, gym, ale-py\n",
            "Successfully installed AutoROM.accept-rom-license-0.6.1 ale-py-0.8.1 autorom-0.4.2 certifi-2023.11.17 charset-normalizer-3.3.2 cloudpickle-3.0.0 gym-0.26.2 gym-notices-0.0.8 idna-3.6 importlib-resources-6.1.1 numpy-1.26.3 requests-2.31.0 tqdm-4.66.1 typing-extensions-4.9.0 urllib3-2.1.0\n"
          ]
        },
        {
          "name": "stderr",
          "output_type": "stream",
          "text": [
            "WARNING: You are using pip version 21.2.3; however, version 23.3.2 is available.\n",
            "You should consider upgrading via the 'C:\\Users\\flt.DESKTOP-I2KQP96\\AppData\\Local\\Programs\\Python\\Python310\\python.exe -m pip install --upgrade pip' command.\n"
          ]
        }
      ],
      "source": [
        "!pip install gym[atari,accept-rom-license]==0.26.2"
      ]
    },
    {
      "cell_type": "code",
      "execution_count": 2,
      "metadata": {
        "id": "pV0fajGOxxZv"
      },
      "outputs": [],
      "source": [
        "import gym\n",
        "env = gym.make(\"BreakoutNoFrameskip-v4\", render_mode='rgb_array')"
      ]
    },
    {
      "cell_type": "code",
      "execution_count": 3,
      "metadata": {
        "id": "7xyi5_cuycwi"
      },
      "outputs": [],
      "source": [
        "obs, info = env.reset()"
      ]
    },
    {
      "cell_type": "code",
      "execution_count": 4,
      "metadata": {
        "colab": {
          "base_uri": "https://localhost:8080/"
        },
        "id": "6vCHE0a2ys7V",
        "outputId": "de70ba13-cf07-41d3-d466-648edf40f91d"
      },
      "outputs": [
        {
          "data": {
            "text/plain": [
              "array([[[0, 0, 0],\n",
              "        [0, 0, 0],\n",
              "        [0, 0, 0],\n",
              "        ...,\n",
              "        [0, 0, 0],\n",
              "        [0, 0, 0],\n",
              "        [0, 0, 0]],\n",
              "\n",
              "       [[0, 0, 0],\n",
              "        [0, 0, 0],\n",
              "        [0, 0, 0],\n",
              "        ...,\n",
              "        [0, 0, 0],\n",
              "        [0, 0, 0],\n",
              "        [0, 0, 0]],\n",
              "\n",
              "       [[0, 0, 0],\n",
              "        [0, 0, 0],\n",
              "        [0, 0, 0],\n",
              "        ...,\n",
              "        [0, 0, 0],\n",
              "        [0, 0, 0],\n",
              "        [0, 0, 0]],\n",
              "\n",
              "       ...,\n",
              "\n",
              "       [[0, 0, 0],\n",
              "        [0, 0, 0],\n",
              "        [0, 0, 0],\n",
              "        ...,\n",
              "        [0, 0, 0],\n",
              "        [0, 0, 0],\n",
              "        [0, 0, 0]],\n",
              "\n",
              "       [[0, 0, 0],\n",
              "        [0, 0, 0],\n",
              "        [0, 0, 0],\n",
              "        ...,\n",
              "        [0, 0, 0],\n",
              "        [0, 0, 0],\n",
              "        [0, 0, 0]],\n",
              "\n",
              "       [[0, 0, 0],\n",
              "        [0, 0, 0],\n",
              "        [0, 0, 0],\n",
              "        ...,\n",
              "        [0, 0, 0],\n",
              "        [0, 0, 0],\n",
              "        [0, 0, 0]]], dtype=uint8)"
            ]
          },
          "execution_count": 4,
          "metadata": {},
          "output_type": "execute_result"
        }
      ],
      "source": [
        "obs"
      ]
    },
    {
      "cell_type": "code",
      "execution_count": 5,
      "metadata": {
        "colab": {
          "base_uri": "https://localhost:8080/"
        },
        "id": "_stED335yuTJ",
        "outputId": "95a8fb38-5301-4cf1-b154-6606ee52afe8"
      },
      "outputs": [
        {
          "data": {
            "text/plain": [
              "(210, 160, 3)"
            ]
          },
          "execution_count": 5,
          "metadata": {},
          "output_type": "execute_result"
        }
      ],
      "source": [
        "obs.shape # HWC -> CHW"
      ]
    },
    {
      "cell_type": "code",
      "execution_count": 6,
      "metadata": {
        "colab": {
          "base_uri": "https://localhost:8080/"
        },
        "id": "k7DIo2_4yzuP",
        "outputId": "93ab9da1-1b4d-40c8-9c13-d18436d0d5b9"
      },
      "outputs": [
        {
          "data": {
            "text/plain": [
              "{'lives': 5, 'episode_frame_number': 0, 'frame_number': 0}"
            ]
          },
          "execution_count": 6,
          "metadata": {},
          "output_type": "execute_result"
        }
      ],
      "source": [
        "info"
      ]
    },
    {
      "cell_type": "code",
      "execution_count": 8,
      "metadata": {},
      "outputs": [
        {
          "name": "stdout",
          "output_type": "stream",
          "text": [
            "Collecting matplotlib\n",
            "  Using cached matplotlib-3.8.2-cp310-cp310-win_amd64.whl (7.6 MB)\n",
            "Requirement already satisfied: python-dateutil>=2.7 in c:\\users\\flt.desktop-i2kqp96\\appdata\\roaming\\python\\python310\\site-packages (from matplotlib) (2.8.2)\n",
            "Collecting pyparsing>=2.3.1\n",
            "  Using cached pyparsing-3.1.1-py3-none-any.whl (103 kB)\n",
            "Collecting fonttools>=4.22.0\n",
            "  Using cached fonttools-4.47.0-cp310-cp310-win_amd64.whl (2.2 MB)\n",
            "Collecting cycler>=0.10\n",
            "  Using cached cycler-0.12.1-py3-none-any.whl (8.3 kB)\n",
            "Collecting pillow>=8\n",
            "  Using cached pillow-10.2.0-cp310-cp310-win_amd64.whl (2.6 MB)\n",
            "Collecting kiwisolver>=1.3.1\n",
            "  Using cached kiwisolver-1.4.5-cp310-cp310-win_amd64.whl (56 kB)\n",
            "Requirement already satisfied: packaging>=20.0 in c:\\users\\flt.desktop-i2kqp96\\appdata\\roaming\\python\\python310\\site-packages (from matplotlib) (23.2)\n",
            "Collecting contourpy>=1.0.1\n",
            "  Using cached contourpy-1.2.0-cp310-cp310-win_amd64.whl (186 kB)\n",
            "Requirement already satisfied: numpy<2,>=1.21 in c:\\users\\flt.desktop-i2kqp96\\appdata\\local\\programs\\python\\python310\\lib\\site-packages (from matplotlib) (1.26.3)\n",
            "Requirement already satisfied: six>=1.5 in c:\\users\\flt.desktop-i2kqp96\\appdata\\roaming\\python\\python310\\site-packages (from python-dateutil>=2.7->matplotlib) (1.16.0)\n",
            "Installing collected packages: pyparsing, pillow, kiwisolver, fonttools, cycler, contourpy, matplotlib\n",
            "Successfully installed contourpy-1.2.0 cycler-0.12.1 fonttools-4.47.0 kiwisolver-1.4.5 matplotlib-3.8.2 pillow-10.2.0 pyparsing-3.1.1\n"
          ]
        },
        {
          "name": "stderr",
          "output_type": "stream",
          "text": [
            "WARNING: You are using pip version 21.2.3; however, version 23.3.2 is available.\n",
            "You should consider upgrading via the 'C:\\Users\\flt.DESKTOP-I2KQP96\\AppData\\Local\\Programs\\Python\\Python310\\python.exe -m pip install --upgrade pip' command.\n"
          ]
        }
      ],
      "source": [
        "!pip install matplotlib"
      ]
    },
    {
      "cell_type": "code",
      "execution_count": 9,
      "metadata": {
        "colab": {
          "base_uri": "https://localhost:8080/",
          "height": 452
        },
        "id": "bPA8ldgKy5vx",
        "outputId": "dbface98-8f6f-4d7b-b136-17afdbf38add"
      },
      "outputs": [
        {
          "data": {
            "text/plain": [
              "<matplotlib.image.AxesImage at 0x14ca673e320>"
            ]
          },
          "execution_count": 9,
          "metadata": {},
          "output_type": "execute_result"
        },
        {
          "data": {
            "image/png": "[encoded data removed]",
            "text/plain": [
              "<Figure size 640x480 with 1 Axes>"
            ]
          },
          "metadata": {},
          "output_type": "display_data"
        }
      ],
      "source": [
        "import matplotlib.pyplot as plt\n",
        "plt.imshow(obs)"
      ]
    },
    {
      "cell_type": "code",
      "execution_count": 10,
      "metadata": {
        "id": "djbqyEELzI5R"
      },
      "outputs": [
        {
          "name": "stderr",
          "output_type": "stream",
          "text": [
            "c:\\Users\\flt.DESKTOP-I2KQP96\\AppData\\Local\\Programs\\Python\\Python310\\lib\\site-packages\\gym\\utils\\passive_env_checker.py:233: DeprecationWarning: `np.bool8` is a deprecated alias for `np.bool_`.  (Deprecated NumPy 1.24)\n",
            "  if not isinstance(terminated, (bool, np.bool8)):\n"
          ]
        }
      ],
      "source": [
        "obs_next, reward, done, _, info = env.step(1)"
      ]
    },
    {
      "cell_type": "code",
      "execution_count": 11,
      "metadata": {
        "colab": {
          "base_uri": "https://localhost:8080/",
          "height": 452
        },
        "id": "984P5b9IzqzM",
        "outputId": "63dd5e84-9355-45cb-fa9a-e0fa68d11957"
      },
      "outputs": [
        {
          "data": {
            "text/plain": [
              "<matplotlib.image.AxesImage at 0x14ca680dde0>"
            ]
          },
          "execution_count": 11,
          "metadata": {},
          "output_type": "execute_result"
        },
        {
          "data": {
            "image/png": "[encoded data removed]",
            "text/plain": [
              "<Figure size 640x480 with 1 Axes>"
            ]
          },
          "metadata": {},
          "output_type": "display_data"
        }
      ],
      "source": [
        "plt.imshow(obs_next)"
      ]
    },
    {
      "cell_type": "code",
      "execution_count": 16,
      "metadata": {},
      "outputs": [
        {
          "name": "stdout",
          "output_type": "stream",
          "text": [
            "Requirement already satisfied: torch in c:\\users\\flt.desktop-i2kqp96\\appdata\\local\\programs\\python\\python310\\lib\\site-packages (2.1.2)\n",
            "Requirement already satisfied: networkx in c:\\users\\flt.desktop-i2kqp96\\appdata\\local\\programs\\python\\python310\\lib\\site-packages (from torch) (3.2.1)\n",
            "Requirement already satisfied: jinja2 in c:\\users\\flt.desktop-i2kqp96\\appdata\\local\\programs\\python\\python310\\lib\\site-packages (from torch) (3.1.2)\n",
            "Requirement already satisfied: fsspec in c:\\users\\flt.desktop-i2kqp96\\appdata\\local\\programs\\python\\python310\\lib\\site-packages (from torch) (2023.12.2)\n",
            "Requirement already satisfied: filelock in c:\\users\\flt.desktop-i2kqp96\\appdata\\local\\programs\\python\\python310\\lib\\site-packages (from torch) (3.13.1)\n",
            "Requirement already satisfied: typing-extensions in c:\\users\\flt.desktop-i2kqp96\\appdata\\local\\programs\\python\\python310\\lib\\site-packages (from torch) (4.9.0)\n",
            "Requirement already satisfied: sympy in c:\\users\\flt.desktop-i2kqp96\\appdata\\local\\programs\\python\\python310\\lib\\site-packages (from torch) (1.12)\n",
            "Requirement already satisfied: MarkupSafe>=2.0 in c:\\users\\flt.desktop-i2kqp96\\appdata\\local\\programs\\python\\python310\\lib\\site-packages (from jinja2->torch) (2.1.3)\n",
            "Requirement already satisfied: mpmath>=0.19 in c:\\users\\flt.desktop-i2kqp96\\appdata\\local\\programs\\python\\python310\\lib\\site-packages (from sympy->torch) (1.3.0)\n"
          ]
        },
        {
          "name": "stderr",
          "output_type": "stream",
          "text": [
            "WARNING: You are using pip version 21.2.3; however, version 23.3.2 is available.\n",
            "You should consider upgrading via the 'C:\\Users\\flt.DESKTOP-I2KQP96\\AppData\\Local\\Programs\\Python\\Python310\\python.exe -m pip install --upgrade pip' command.\n"
          ]
        },
        {
          "name": "stdout",
          "output_type": "stream",
          "text": [
            "Collecting torchvision\n",
            "  Downloading torchvision-0.16.2-cp310-cp310-win_amd64.whl (1.1 MB)\n",
            "Requirement already satisfied: requests in c:\\users\\flt.desktop-i2kqp96\\appdata\\local\\programs\\python\\python310\\lib\\site-packages (from torchvision) (2.31.0)\n",
            "Requirement already satisfied: numpy in c:\\users\\flt.desktop-i2kqp96\\appdata\\local\\programs\\python\\python310\\lib\\site-packages (from torchvision) (1.26.3)\n",
            "Requirement already satisfied: torch==2.1.2 in c:\\users\\flt.desktop-i2kqp96\\appdata\\local\\programs\\python\\python310\\lib\\site-packages (from torchvision) (2.1.2)\n",
            "Requirement already satisfied: pillow!=8.3.*,>=5.3.0 in c:\\users\\flt.desktop-i2kqp96\\appdata\\local\\programs\\python\\python310\\lib\\site-packages (from torchvision) (10.2.0)\n",
            "Requirement already satisfied: fsspec in c:\\users\\flt.desktop-i2kqp96\\appdata\\local\\programs\\python\\python310\\lib\\site-packages (from torch==2.1.2->torchvision) (2023.12.2)\n",
            "Requirement already satisfied: sympy in c:\\users\\flt.desktop-i2kqp96\\appdata\\local\\programs\\python\\python310\\lib\\site-packages (from torch==2.1.2->torchvision) (1.12)\n",
            "Requirement already satisfied: typing-extensions in c:\\users\\flt.desktop-i2kqp96\\appdata\\local\\programs\\python\\python310\\lib\\site-packages (from torch==2.1.2->torchvision) (4.9.0)\n",
            "Requirement already satisfied: networkx in c:\\users\\flt.desktop-i2kqp96\\appdata\\local\\programs\\python\\python310\\lib\\site-packages (from torch==2.1.2->torchvision) (3.2.1)\n",
            "Requirement already satisfied: filelock in c:\\users\\flt.desktop-i2kqp96\\appdata\\local\\programs\\python\\python310\\lib\\site-packages (from torch==2.1.2->torchvision) (3.13.1)\n",
            "Requirement already satisfied: jinja2 in c:\\users\\flt.desktop-i2kqp96\\appdata\\local\\programs\\python\\python310\\lib\\site-packages (from torch==2.1.2->torchvision) (3.1.2)\n",
            "Requirement already satisfied: MarkupSafe>=2.0 in c:\\users\\flt.desktop-i2kqp96\\appdata\\local\\programs\\python\\python310\\lib\\site-packages (from jinja2->torch==2.1.2->torchvision) (2.1.3)\n",
            "Requirement already satisfied: idna<4,>=2.5 in c:\\users\\flt.desktop-i2kqp96\\appdata\\local\\programs\\python\\python310\\lib\\site-packages (from requests->torchvision) (3.6)\n",
            "Requirement already satisfied: urllib3<3,>=1.21.1 in c:\\users\\flt.desktop-i2kqp96\\appdata\\local\\programs\\python\\python310\\lib\\site-packages (from requests->torchvision) (2.1.0)\n",
            "Requirement already satisfied: certifi>=2017.4.17 in c:\\users\\flt.desktop-i2kqp96\\appdata\\local\\programs\\python\\python310\\lib\\site-packages (from requests->torchvision) (2023.11.17)\n",
            "Requirement already satisfied: charset-normalizer<4,>=2 in c:\\users\\flt.desktop-i2kqp96\\appdata\\local\\programs\\python\\python310\\lib\\site-packages (from requests->torchvision) (3.3.2)\n",
            "Requirement already satisfied: mpmath>=0.19 in c:\\users\\flt.desktop-i2kqp96\\appdata\\local\\programs\\python\\python310\\lib\\site-packages (from sympy->torch==2.1.2->torchvision) (1.3.0)\n",
            "Installing collected packages: torchvision\n",
            "Successfully installed torchvision-0.16.2\n"
          ]
        },
        {
          "name": "stderr",
          "output_type": "stream",
          "text": [
            "WARNING: You are using pip version 21.2.3; however, version 23.3.2 is available.\n",
            "You should consider upgrading via the 'C:\\Users\\flt.DESKTOP-I2KQP96\\AppData\\Local\\Programs\\Python\\Python310\\python.exe -m pip install --upgrade pip' command.\n"
          ]
        }
      ],
      "source": [
        "!pip install torch\n",
        "!pip install torchvision"
      ]
    },
    {
      "cell_type": "code",
      "execution_count": 23,
      "metadata": {},
      "outputs": [
        {
          "name": "stdout",
          "output_type": "stream",
          "text": [
            "Collecting torch==2.0.0\n",
            "  Downloading torch-2.0.0-cp310-cp310-win_amd64.whl (172.3 MB)\n",
            "Collecting torchvision==0.15.0\n",
            "  Downloading torchvision-0.15.0-cp310-cp310-win_amd64.whl (1.2 MB)\n",
            "Collecting torchaudio==2.0.0\n",
            "  Downloading torchaudio-2.0.0-cp310-cp310-win_amd64.whl (2.1 MB)\n",
            "Requirement already satisfied: typing-extensions in c:\\users\\flt.desktop-i2kqp96\\appdata\\local\\programs\\python\\python310\\lib\\site-packages (from torch==2.0.0) (4.9.0)\n",
            "Requirement already satisfied: jinja2 in c:\\users\\flt.desktop-i2kqp96\\appdata\\local\\programs\\python\\python310\\lib\\site-packages (from torch==2.0.0) (3.1.2)\n",
            "Requirement already satisfied: filelock in c:\\users\\flt.desktop-i2kqp96\\appdata\\local\\programs\\python\\python310\\lib\\site-packages (from torch==2.0.0) (3.13.1)\n",
            "Requirement already satisfied: networkx in c:\\users\\flt.desktop-i2kqp96\\appdata\\local\\programs\\python\\python310\\lib\\site-packages (from torch==2.0.0) (3.2.1)\n",
            "Requirement already satisfied: sympy in c:\\users\\flt.desktop-i2kqp96\\appdata\\local\\programs\\python\\python310\\lib\\site-packages (from torch==2.0.0) (1.12)\n",
            "Requirement already satisfied: pillow!=8.3.*,>=5.3.0 in c:\\users\\flt.desktop-i2kqp96\\appdata\\local\\programs\\python\\python310\\lib\\site-packages (from torchvision==0.15.0) (10.2.0)\n",
            "Requirement already satisfied: numpy in c:\\users\\flt.desktop-i2kqp96\\appdata\\local\\programs\\python\\python310\\lib\\site-packages (from torchvision==0.15.0) (1.26.3)\n",
            "Requirement already satisfied: requests in c:\\users\\flt.desktop-i2kqp96\\appdata\\local\\programs\\python\\python310\\lib\\site-packages (from torchvision==0.15.0) (2.31.0)\n",
            "Requirement already satisfied: MarkupSafe>=2.0 in c:\\users\\flt.desktop-i2kqp96\\appdata\\local\\programs\\python\\python310\\lib\\site-packages (from jinja2->torch==2.0.0) (2.1.3)\n",
            "Requirement already satisfied: idna<4,>=2.5 in c:\\users\\flt.desktop-i2kqp96\\appdata\\local\\programs\\python\\python310\\lib\\site-packages (from requests->torchvision==0.15.0) (3.6)\n",
            "Requirement already satisfied: certifi>=2017.4.17 in c:\\users\\flt.desktop-i2kqp96\\appdata\\local\\programs\\python\\python310\\lib\\site-packages (from requests->torchvision==0.15.0) (2023.11.17)\n",
            "Requirement already satisfied: urllib3<3,>=1.21.1 in c:\\users\\flt.desktop-i2kqp96\\appdata\\local\\programs\\python\\python310\\lib\\site-packages (from requests->torchvision==0.15.0) (2.1.0)\n",
            "Requirement already satisfied: charset-normalizer<4,>=2 in c:\\users\\flt.desktop-i2kqp96\\appdata\\local\\programs\\python\\python310\\lib\\site-packages (from requests->torchvision==0.15.0) (3.3.2)\n",
            "Requirement already satisfied: mpmath>=0.19 in c:\\users\\flt.desktop-i2kqp96\\appdata\\local\\programs\\python\\python310\\lib\\site-packages (from sympy->torch==2.0.0) (1.3.0)\n",
            "Installing collected packages: torch, torchvision, torchaudio\n",
            "  Attempting uninstall: torch\n",
            "    Found existing installation: torch 2.1.2\n",
            "    Uninstalling torch-2.1.2:\n",
            "      Successfully uninstalled torch-2.1.2\n"
          ]
        },
        {
          "name": "stderr",
          "output_type": "stream",
          "text": [
            "WARNING: The candidate selected for download or install is a yanked version: 'torchvision' candidate (version 0.15.0 at https://files.pythonhosted.org/packages/9b/e7/bb564c29a96e34b295681c55a12fd31ebc98941dac01d999abadc9a0fe51/torchvision-0.15.0-cp310-cp310-win_amd64.whl#sha256=e4617ce4ed9f86e3e31343c297648011d0425fc9b2d59167664cd89cd28101f9 (from https://pypi.org/simple/torchvision/) (requires-python:>=3.8))\n",
            "Reason for being yanked: Contains an incorrect torch dependency\n",
            "WARNING: The candidate selected for download or install is a yanked version: 'torchaudio' candidate (version 2.0.0 at https://files.pythonhosted.org/packages/dc/59/e8cea4e17892b8a900f9f32fa11aaa775d179cf12a8ef0f6963e8fa3a278/torchaudio-2.0.0-cp310-cp310-win_amd64.whl#sha256=707b09b9ea3fb8df4d8bbcfe8f91ed196e44e4e10d7051a121e249b58df035a4 (from https://pypi.org/simple/torchaudio/))\n",
            "Reason for being yanked: Contains an incorrect torch dependency\n",
            "ERROR: Could not install packages due to an OSError: [WinError 5] 액세스가 거부되었습니다: 'C:\\\\Users\\\\flt.DESKTOP-I2KQP96\\\\AppData\\\\Local\\\\Programs\\\\Python\\\\Python310\\\\Lib\\\\site-packages\\\\~orch\\\\lib\\\\asmjit.dll'\n",
            "Consider using the `--user` option or check the permissions.\n",
            "\n",
            "WARNING: You are using pip version 21.2.3; however, version 23.3.2 is available.\n",
            "You should consider upgrading via the 'C:\\Users\\flt.DESKTOP-I2KQP96\\AppData\\Local\\Programs\\Python\\Python310\\python.exe -m pip install --upgrade pip' command.\n"
          ]
        }
      ],
      "source": [
        "!pip install torch==2.0.0 torchvision==0.15.0 torchaudio==2.0.0\n"
      ]
    },
    {
      "cell_type": "code",
      "execution_count": 24,
      "metadata": {
        "id": "WZ5JPdNSzupR"
      },
      "outputs": [],
      "source": [
        "import numpy as np\n",
        "import gym\n",
        "import torch\n",
        "import torch.nn as nn\n",
        "import torchvision.transforms as T\n",
        "\n",
        "# Configuration paramaters for the whole setup\n",
        "seed = 42\n",
        "gamma = 0.99  # Discount factor for past rewards\n",
        "epsilon = 1.0  # Epsilon greedy parameter\n",
        "epsilon_min = 0.1  # Minimum epsilon greedy parameter\n",
        "epsilon_max = 1.0  # Maximum epsilon greedy parameter\n",
        "epsilon_interval = (\n",
        "    epsilon_max - epsilon_min\n",
        ")  # Rate at which to reduce chance of random action being taken\n",
        "batch_size = 64  # Size of batch taken from replay buffer\n",
        "max_steps_per_episode = 1000"
      ]
    },
    {
      "cell_type": "code",
      "execution_count": 25,
      "metadata": {
        "id": "dc4_u5zq0gWg"
      },
      "outputs": [],
      "source": [
        "num_actions = env.action_space.n\n",
        "\n",
        "class QModel(nn.Module):\n",
        "    def __init__(self, num_actions):\n",
        "        super(QModel, self).__init__()\n",
        "        self.conv1 = nn.Conv2d(1, 32, kernel_size=8, stride=4)\n",
        "        self.conv2 = nn.Conv2d(32, 64, kernel_size=4, stride=2)\n",
        "        self.dropout = nn.Dropout(p=0.3)\n",
        "        self.conv3 = nn.Conv2d(64, 64, kernel_size=3, stride=1)\n",
        "        self.flatten = nn.Flatten()\n",
        "        self.fc1 = nn.Linear(3136, 512)\n",
        "        self.fc2 = nn.Linear(512, num_actions)\n",
        "\n",
        "    def forward(self, x):\n",
        "        x = nn.functional.relu(self.conv1(x))\n",
        "        x = nn.functional.relu(self.conv2(x))\n",
        "        x = self.dropout(x)\n",
        "        x = nn.functional.relu(self.conv3(x))\n",
        "        x = self.flatten(x)\n",
        "        x = nn.functional.relu(self.fc1(x))\n",
        "        x = self.dropout(x)\n",
        "        action = self.fc2(x)\n",
        "        return action"
      ]
    },
    {
      "cell_type": "code",
      "execution_count": 26,
      "metadata": {
        "id": "3u3lUayG0o7T"
      },
      "outputs": [
        {
          "ename": "AssertionError",
          "evalue": "Torch not compiled with CUDA enabled",
          "output_type": "error",
          "traceback": [
            "\u001b[1;31m---------------------------------------------------------------------------\u001b[0m",
            "\u001b[1;31mAssertionError\u001b[0m                            Traceback (most recent call last)",
            "Cell \u001b[1;32mIn[26], line 4\u001b[0m\n\u001b[0;32m      1\u001b[0m \u001b[38;5;66;03m# The first model makes the predictions for Q-values which are used to\u001b[39;00m\n\u001b[0;32m      2\u001b[0m \u001b[38;5;66;03m# make a action.\u001b[39;00m\n\u001b[0;32m      3\u001b[0m model \u001b[38;5;241m=\u001b[39m QModel(num_actions)\n\u001b[1;32m----> 4\u001b[0m \u001b[43mmodel\u001b[49m\u001b[38;5;241;43m.\u001b[39;49m\u001b[43mto\u001b[49m\u001b[43m(\u001b[49m\u001b[38;5;124;43m'\u001b[39;49m\u001b[38;5;124;43mcuda\u001b[39;49m\u001b[38;5;124;43m'\u001b[39;49m\u001b[43m)\u001b[49m\n\u001b[0;32m      6\u001b[0m \u001b[38;5;66;03m# Build a target model for the prediction of future rewards.\u001b[39;00m\n\u001b[0;32m      7\u001b[0m \u001b[38;5;66;03m# The weights of a target model get updated every 10000 steps thus when the\u001b[39;00m\n\u001b[0;32m      8\u001b[0m \u001b[38;5;66;03m# loss between the Q-values is calculated the target Q-value is stable.\u001b[39;00m\n\u001b[0;32m      9\u001b[0m model_target \u001b[38;5;241m=\u001b[39m QModel(num_actions)\n",
            "File \u001b[1;32mc:\\Users\\flt.DESKTOP-I2KQP96\\AppData\\Local\\Programs\\Python\\Python310\\lib\\site-packages\\torch\\nn\\modules\\module.py:1160\u001b[0m, in \u001b[0;36mModule.to\u001b[1;34m(self, *args, **kwargs)\u001b[0m\n\u001b[0;32m   1156\u001b[0m         \u001b[38;5;28;01mreturn\u001b[39;00m t\u001b[38;5;241m.\u001b[39mto(device, dtype \u001b[38;5;28;01mif\u001b[39;00m t\u001b[38;5;241m.\u001b[39mis_floating_point() \u001b[38;5;129;01mor\u001b[39;00m t\u001b[38;5;241m.\u001b[39mis_complex() \u001b[38;5;28;01melse\u001b[39;00m \u001b[38;5;28;01mNone\u001b[39;00m,\n\u001b[0;32m   1157\u001b[0m                     non_blocking, memory_format\u001b[38;5;241m=\u001b[39mconvert_to_format)\n\u001b[0;32m   1158\u001b[0m     \u001b[38;5;28;01mreturn\u001b[39;00m t\u001b[38;5;241m.\u001b[39mto(device, dtype \u001b[38;5;28;01mif\u001b[39;00m t\u001b[38;5;241m.\u001b[39mis_floating_point() \u001b[38;5;129;01mor\u001b[39;00m t\u001b[38;5;241m.\u001b[39mis_complex() \u001b[38;5;28;01melse\u001b[39;00m \u001b[38;5;28;01mNone\u001b[39;00m, non_blocking)\n\u001b[1;32m-> 1160\u001b[0m \u001b[38;5;28;01mreturn\u001b[39;00m \u001b[38;5;28;43mself\u001b[39;49m\u001b[38;5;241;43m.\u001b[39;49m\u001b[43m_apply\u001b[49m\u001b[43m(\u001b[49m\u001b[43mconvert\u001b[49m\u001b[43m)\u001b[49m\n",
            "File \u001b[1;32mc:\\Users\\flt.DESKTOP-I2KQP96\\AppData\\Local\\Programs\\Python\\Python310\\lib\\site-packages\\torch\\nn\\modules\\module.py:810\u001b[0m, in \u001b[0;36mModule._apply\u001b[1;34m(self, fn, recurse)\u001b[0m\n\u001b[0;32m    808\u001b[0m \u001b[38;5;28;01mif\u001b[39;00m recurse:\n\u001b[0;32m    809\u001b[0m     \u001b[38;5;28;01mfor\u001b[39;00m module \u001b[38;5;129;01min\u001b[39;00m \u001b[38;5;28mself\u001b[39m\u001b[38;5;241m.\u001b[39mchildren():\n\u001b[1;32m--> 810\u001b[0m         \u001b[43mmodule\u001b[49m\u001b[38;5;241;43m.\u001b[39;49m\u001b[43m_apply\u001b[49m\u001b[43m(\u001b[49m\u001b[43mfn\u001b[49m\u001b[43m)\u001b[49m\n\u001b[0;32m    812\u001b[0m \u001b[38;5;28;01mdef\u001b[39;00m \u001b[38;5;21mcompute_should_use_set_data\u001b[39m(tensor, tensor_applied):\n\u001b[0;32m    813\u001b[0m     \u001b[38;5;28;01mif\u001b[39;00m torch\u001b[38;5;241m.\u001b[39m_has_compatible_shallow_copy_type(tensor, tensor_applied):\n\u001b[0;32m    814\u001b[0m         \u001b[38;5;66;03m# If the new tensor has compatible tensor type as the existing tensor,\u001b[39;00m\n\u001b[0;32m    815\u001b[0m         \u001b[38;5;66;03m# the current behavior is to change the tensor in-place using `.data =`,\u001b[39;00m\n\u001b[1;32m   (...)\u001b[0m\n\u001b[0;32m    820\u001b[0m         \u001b[38;5;66;03m# global flag to let the user control whether they want the future\u001b[39;00m\n\u001b[0;32m    821\u001b[0m         \u001b[38;5;66;03m# behavior of overwriting the existing tensor or not.\u001b[39;00m\n",
            "File \u001b[1;32mc:\\Users\\flt.DESKTOP-I2KQP96\\AppData\\Local\\Programs\\Python\\Python310\\lib\\site-packages\\torch\\nn\\modules\\module.py:833\u001b[0m, in \u001b[0;36mModule._apply\u001b[1;34m(self, fn, recurse)\u001b[0m\n\u001b[0;32m    829\u001b[0m \u001b[38;5;66;03m# Tensors stored in modules are graph leaves, and we don't want to\u001b[39;00m\n\u001b[0;32m    830\u001b[0m \u001b[38;5;66;03m# track autograd history of `param_applied`, so we have to use\u001b[39;00m\n\u001b[0;32m    831\u001b[0m \u001b[38;5;66;03m# `with torch.no_grad():`\u001b[39;00m\n\u001b[0;32m    832\u001b[0m \u001b[38;5;28;01mwith\u001b[39;00m torch\u001b[38;5;241m.\u001b[39mno_grad():\n\u001b[1;32m--> 833\u001b[0m     param_applied \u001b[38;5;241m=\u001b[39m \u001b[43mfn\u001b[49m\u001b[43m(\u001b[49m\u001b[43mparam\u001b[49m\u001b[43m)\u001b[49m\n\u001b[0;32m    834\u001b[0m should_use_set_data \u001b[38;5;241m=\u001b[39m compute_should_use_set_data(param, param_applied)\n\u001b[0;32m    835\u001b[0m \u001b[38;5;28;01mif\u001b[39;00m should_use_set_data:\n",
            "File \u001b[1;32mc:\\Users\\flt.DESKTOP-I2KQP96\\AppData\\Local\\Programs\\Python\\Python310\\lib\\site-packages\\torch\\nn\\modules\\module.py:1158\u001b[0m, in \u001b[0;36mModule.to.<locals>.convert\u001b[1;34m(t)\u001b[0m\n\u001b[0;32m   1155\u001b[0m \u001b[38;5;28;01mif\u001b[39;00m convert_to_format \u001b[38;5;129;01mis\u001b[39;00m \u001b[38;5;129;01mnot\u001b[39;00m \u001b[38;5;28;01mNone\u001b[39;00m \u001b[38;5;129;01mand\u001b[39;00m t\u001b[38;5;241m.\u001b[39mdim() \u001b[38;5;129;01min\u001b[39;00m (\u001b[38;5;241m4\u001b[39m, \u001b[38;5;241m5\u001b[39m):\n\u001b[0;32m   1156\u001b[0m     \u001b[38;5;28;01mreturn\u001b[39;00m t\u001b[38;5;241m.\u001b[39mto(device, dtype \u001b[38;5;28;01mif\u001b[39;00m t\u001b[38;5;241m.\u001b[39mis_floating_point() \u001b[38;5;129;01mor\u001b[39;00m t\u001b[38;5;241m.\u001b[39mis_complex() \u001b[38;5;28;01melse\u001b[39;00m \u001b[38;5;28;01mNone\u001b[39;00m,\n\u001b[0;32m   1157\u001b[0m                 non_blocking, memory_format\u001b[38;5;241m=\u001b[39mconvert_to_format)\n\u001b[1;32m-> 1158\u001b[0m \u001b[38;5;28;01mreturn\u001b[39;00m \u001b[43mt\u001b[49m\u001b[38;5;241;43m.\u001b[39;49m\u001b[43mto\u001b[49m\u001b[43m(\u001b[49m\u001b[43mdevice\u001b[49m\u001b[43m,\u001b[49m\u001b[43m \u001b[49m\u001b[43mdtype\u001b[49m\u001b[43m \u001b[49m\u001b[38;5;28;43;01mif\u001b[39;49;00m\u001b[43m \u001b[49m\u001b[43mt\u001b[49m\u001b[38;5;241;43m.\u001b[39;49m\u001b[43mis_floating_point\u001b[49m\u001b[43m(\u001b[49m\u001b[43m)\u001b[49m\u001b[43m \u001b[49m\u001b[38;5;129;43;01mor\u001b[39;49;00m\u001b[43m \u001b[49m\u001b[43mt\u001b[49m\u001b[38;5;241;43m.\u001b[39;49m\u001b[43mis_complex\u001b[49m\u001b[43m(\u001b[49m\u001b[43m)\u001b[49m\u001b[43m \u001b[49m\u001b[38;5;28;43;01melse\u001b[39;49;00m\u001b[43m \u001b[49m\u001b[38;5;28;43;01mNone\u001b[39;49;00m\u001b[43m,\u001b[49m\u001b[43m \u001b[49m\u001b[43mnon_blocking\u001b[49m\u001b[43m)\u001b[49m\n",
            "File \u001b[1;32mc:\\Users\\flt.DESKTOP-I2KQP96\\AppData\\Local\\Programs\\Python\\Python310\\lib\\site-packages\\torch\\cuda\\__init__.py:289\u001b[0m, in \u001b[0;36m_lazy_init\u001b[1;34m()\u001b[0m\n\u001b[0;32m    284\u001b[0m     \u001b[38;5;28;01mraise\u001b[39;00m \u001b[38;5;167;01mRuntimeError\u001b[39;00m(\n\u001b[0;32m    285\u001b[0m         \u001b[38;5;124m\"\u001b[39m\u001b[38;5;124mCannot re-initialize CUDA in forked subprocess. To use CUDA with \u001b[39m\u001b[38;5;124m\"\u001b[39m\n\u001b[0;32m    286\u001b[0m         \u001b[38;5;124m\"\u001b[39m\u001b[38;5;124mmultiprocessing, you must use the \u001b[39m\u001b[38;5;124m'\u001b[39m\u001b[38;5;124mspawn\u001b[39m\u001b[38;5;124m'\u001b[39m\u001b[38;5;124m start method\u001b[39m\u001b[38;5;124m\"\u001b[39m\n\u001b[0;32m    287\u001b[0m     )\n\u001b[0;32m    288\u001b[0m \u001b[38;5;28;01mif\u001b[39;00m \u001b[38;5;129;01mnot\u001b[39;00m \u001b[38;5;28mhasattr\u001b[39m(torch\u001b[38;5;241m.\u001b[39m_C, \u001b[38;5;124m\"\u001b[39m\u001b[38;5;124m_cuda_getDeviceCount\u001b[39m\u001b[38;5;124m\"\u001b[39m):\n\u001b[1;32m--> 289\u001b[0m     \u001b[38;5;28;01mraise\u001b[39;00m \u001b[38;5;167;01mAssertionError\u001b[39;00m(\u001b[38;5;124m\"\u001b[39m\u001b[38;5;124mTorch not compiled with CUDA enabled\u001b[39m\u001b[38;5;124m\"\u001b[39m)\n\u001b[0;32m    290\u001b[0m \u001b[38;5;28;01mif\u001b[39;00m _cudart \u001b[38;5;129;01mis\u001b[39;00m \u001b[38;5;28;01mNone\u001b[39;00m:\n\u001b[0;32m    291\u001b[0m     \u001b[38;5;28;01mraise\u001b[39;00m \u001b[38;5;167;01mAssertionError\u001b[39;00m(\n\u001b[0;32m    292\u001b[0m         \u001b[38;5;124m\"\u001b[39m\u001b[38;5;124mlibcudart functions unavailable. It looks like you have a broken build?\u001b[39m\u001b[38;5;124m\"\u001b[39m\n\u001b[0;32m    293\u001b[0m     )\n",
            "\u001b[1;31mAssertionError\u001b[0m: Torch not compiled with CUDA enabled"
          ]
        }
      ],
      "source": [
        "# The first model makes the predictions for Q-values which are used to\n",
        "# make a action.\n",
        "model = QModel(num_actions)\n",
        "model.to('cuda')\n",
        "\n",
        "# Build a target model for the prediction of future rewards.\n",
        "# The weights of a target model get updated every 10000 steps thus when the\n",
        "# loss between the Q-values is calculated the target Q-value is stable.\n",
        "model_target = QModel(num_actions)\n",
        "model_target.to('cuda')\n",
        "\n",
        "loss_function = nn.SmoothL1Loss()\n",
        "optimizer = torch.optim.Adam(model.parameters(), lr=0.00025)"
      ]
    },
    {
      "cell_type": "code",
      "execution_count": null,
      "metadata": {
        "id": "3hGodqNc08rZ"
      },
      "outputs": [],
      "source": [
        "# Experience replay buffers\n",
        "action_history = []\n",
        "state_history = []\n",
        "state_next_history = []\n",
        "rewards_history = []\n",
        "done_history = []\n",
        "episode_reward_history = []\n",
        "running_reward = 0\n",
        "episode_count = 0\n",
        "frame_count = 0\n",
        "\n",
        "# Number of frames to take random action and observe output\n",
        "epsilon_random_frames = 50000\n",
        "# Number of frames for exploration\n",
        "epsilon_greedy_frames = 100000.0\n",
        "# Maximum replay length\n",
        "# Note: The Deepmind paper suggests 1000000 however this causes memory issues\n",
        "max_memory_length = 500000\n",
        "# Train the model after 4 actions\n",
        "update_after_actions = 4\n",
        "# How often to update the target network\n",
        "update_target_network = 10000"
      ]
    },
    {
      "cell_type": "code",
      "execution_count": null,
      "metadata": {
        "id": "-kZIWhM71Ns-"
      },
      "outputs": [],
      "source": [
        "preprocess = T.Compose([\n",
        "    T.ToPILImage(),\n",
        "    T.Grayscale(),\n",
        "    T.Resize((84, 84)),\n",
        "    T.ToTensor()\n",
        "])\n",
        "\n",
        "# Function to preprocess the state\n",
        "def preprocess_state(state):\n",
        "    state = preprocess(state).unsqueeze(0)\n",
        "    return state"
      ]
    },
    {
      "cell_type": "code",
      "execution_count": null,
      "metadata": {
        "id": "CPfiO0nZ09Yi"
      },
      "outputs": [],
      "source": [
        "# Function to select an action\n",
        "def get_greedy_epsilon(model, state):\n",
        "    global epsilon\n",
        "\n",
        "    #if frame_count < epsilon_random_frames or np.random.rand(1)[0] < epsilon:\n",
        "    if np.random.rand(1)[0] < epsilon:\n",
        "        action = np.random.randint(num_actions)\n",
        "    else:\n",
        "        with torch.no_grad():\n",
        "            # add a batch axis\n",
        "            #state = state.unsqueeze(0)\n",
        "            # compute the q-values\n",
        "            q_values = model(state)\n",
        "            # the action of maximum q-value\n",
        "            action = q_values.argmax().item()\n",
        "\n",
        "    # decay epsilon\n",
        "    epsilon -= epsilon_interval / epsilon_greedy_frames\n",
        "    epsilon = max(epsilon, epsilon_min)\n",
        "\n",
        "    return action"
      ]
    },
    {
      "cell_type": "code",
      "execution_count": null,
      "metadata": {
        "id": "FVhhXbi92f3t"
      },
      "outputs": [],
      "source": [
        "def get_greedy_action(model, state):\n",
        "    global epsilon\n",
        "\n",
        "    with torch.no_grad():\n",
        "        #state = state.unsqueeze(0) # batch dimension\n",
        "        q_values = model(state)\n",
        "        action = q_values.argmax().item()\n",
        "\n",
        "    return action"
      ]
    },
    {
      "cell_type": "code",
      "execution_count": null,
      "metadata": {
        "id": "3_9hivE42mlp"
      },
      "outputs": [],
      "source": [
        "# sample a batch of _batch_size from replay buffers\n",
        "# return numpy.ndarrays\n",
        "def sample_batch(_batch_size):\n",
        "    # Get indices of samples for replay buffers\n",
        "    indices = np.random.choice(range(len(done_history)), size=_batch_size, replace=False)\n",
        "\n",
        "    state_sample = np.array([state_history[i].squeeze(0).numpy() for i in indices])\n",
        "    state_next_sample = np.array([state_next_history[i].squeeze(0).numpy() for i in indices])\n",
        "    rewards_sample = np.array([rewards_history[i] for i in indices], dtype=np.float32)\n",
        "    action_sample = np.array([action_history[i] for i in indices])\n",
        "    done_sample = np.array([float(done_history[i]) for i in indices])\n",
        "\n",
        "    return state_sample, state_next_sample, rewards_sample, action_sample, done_sample"
      ]
    },
    {
      "cell_type": "code",
      "execution_count": null,
      "metadata": {
        "id": "067LMCDM2xDq"
      },
      "outputs": [],
      "source": [
        "# Function to update the Q-network\n",
        "def update_network():\n",
        "    # sample a batch of ...\n",
        "    state_sample, state_next_sample, rewards_sample, action_sample, done_sample = \\\n",
        "        sample_batch(batch_size)\n",
        "\n",
        "    # Convert numpy arrays to PyTorch tensors\n",
        "    state_sample = torch.tensor(state_sample, dtype=torch.float32).to('cuda')\n",
        "    state_next_sample = torch.tensor(state_next_sample, dtype=torch.float32).to('cuda')\n",
        "    action_sample = torch.tensor(action_sample, dtype=torch.int64).to('cuda')\n",
        "    rewards_sample = torch.tensor(rewards_sample, dtype=torch.float32).to('cuda')\n",
        "    done_sample = torch.tensor(done_sample, dtype=torch.float32).to('cuda')\n",
        "\n",
        "    # Compute the target Q-values for the states\n",
        "    with torch.no_grad():\n",
        "        future_rewards = model_target(state_next_sample)\n",
        "\n",
        "        # compute the q-value for the next state and the action maximizing the q-value\n",
        "        max_q_values = future_rewards.max(dim=1).values\n",
        "\n",
        "        # compute the target q-value\n",
        "        # if the step was final, max_q_values should not be added\n",
        "        target_q_values = rewards_sample + gamma * max_q_values * (1. - done_sample)\n",
        "\n",
        "    # It's forward propagation! Compute the Q-values for the taken actions\n",
        "    q_values = model(state_sample)\n",
        "    q_values_action = q_values.gather(dim=1, index=action_sample.unsqueeze(1)).squeeze(1)\n",
        "\n",
        "    # Compute the loss\n",
        "    loss = loss_function(q_values_action, target_q_values)\n",
        "\n",
        "    # Perform the optimization step\n",
        "    optimizer.zero_grad()\n",
        "    loss.backward()\n",
        "    optimizer.step()"
      ]
    },
    {
      "cell_type": "code",
      "execution_count": null,
      "metadata": {
        "colab": {
          "base_uri": "https://localhost:8080/"
        },
        "id": "pgPMTl6F2_st",
        "outputId": "9b1bb087-14c1-4c5f-b5ea-c8f344549301"
      },
      "outputs": [
        {
          "name": "stdout",
          "output_type": "stream",
          "text": [
            "Episode: 10, Frame count: 6429, Running reward: 0.8\n"
          ]
        }
      ],
      "source": [
        "while True:  # Run until solved\n",
        "    state, info = env.reset()\n",
        "    state, reward, done, _, info = env.step(1)\n",
        "    state = preprocess_state(state)\n",
        "    episode_reward = 0\n",
        "\n",
        "    for timestep in range(1, max_steps_per_episode):\n",
        "        frame_count += 1\n",
        "\n",
        "        # Select an action\n",
        "        action = get_greedy_epsilon(model, state.to('cuda'))\n",
        "\n",
        "        # Take the selected action\n",
        "        state_next, reward, done, _, info = env.step(action)\n",
        "        state_next = preprocess_state(state_next)\n",
        "\n",
        "        episode_reward += reward\n",
        "\n",
        "        # Store the transition in the replay buffer\n",
        "        action_history.append(action)\n",
        "        state_history.append(state)\n",
        "        state_next_history.append(state_next)\n",
        "        rewards_history.append(reward)\n",
        "        done_history.append(done)\n",
        "\n",
        "        state = state_next\n",
        "\n",
        "        # Update every fourth frame and once batch size is over 32\n",
        "        if frame_count % update_after_actions == 0 and len(done_history) > batch_size:\n",
        "            update_network()\n",
        "\n",
        "        if frame_count % update_target_network == 0:\n",
        "            model_target.load_state_dict(model.state_dict())\n",
        "\n",
        "        # Limit the state and reward history\n",
        "        if len(rewards_history) > max_memory_length:\n",
        "            del rewards_history[:1]\n",
        "            del state_history[:1]\n",
        "            del state_next_history[:1]\n",
        "            del action_history[:1]\n",
        "            del done_history[:1]\n",
        "\n",
        "        if done:\n",
        "            break\n",
        "\n",
        "    episode_count += 1\n",
        "    episode_reward_history.append(episode_reward)\n",
        "\n",
        "    # Update running reward to check condition for solving\n",
        "    if len(episode_reward_history) > 100:\n",
        "        del episode_reward_history[:1]\n",
        "    running_reward = np.mean(episode_reward_history)\n",
        "\n",
        "    if episode_count % 10 == 0:\n",
        "        print(f\"Episode: {episode_count}, Frame count: {frame_count}, Running reward: {running_reward}\")\n",
        "\n",
        "    if episode_count % 5000 == 0:\n",
        "        torch.save(model, 'model.{}'.format(episode_count))\n",
        "    if running_reward > 20:\n",
        "        print(f\"Solved at episode {episode_count}!\")\n",
        "        break\n",
        "    if episode_count % 10 == 0:\n",
        "        break\n",
        "\n",
        "\n",
        "torch.save(model, 'model.final')"
      ]
    },
    {
      "cell_type": "code",
      "execution_count": null,
      "metadata": {
        "colab": {
          "base_uri": "https://localhost:8080/",
          "height": 1337
        },
        "id": "s4lM71lH5FFz",
        "outputId": "64adda46-9ee9-455e-ca48-2591b0f04a6a"
      },
      "outputs": [
        {
          "name": "stdout",
          "output_type": "stream",
          "text": [
            "0\n",
            "2\n",
            "0\n",
            "0\n",
            "0\n",
            "0\n",
            "0\n",
            "0\n",
            "0\n",
            "0\n",
            "0\n",
            "0\n",
            "2\n",
            "0\n",
            "0\n",
            "0\n",
            "0\n",
            "0\n",
            "0\n",
            "0\n",
            "0\n",
            "0\n",
            "2\n",
            "3\n",
            "0\n",
            "0\n",
            "0\n",
            "0\n",
            "0\n",
            "0\n",
            "0\n",
            "0\n",
            "0\n",
            "0\n",
            "3\n",
            "0\n",
            "0\n",
            "0\n",
            "0\n",
            "0\n",
            "0\n",
            "0\n",
            "0\n",
            "0\n",
            "0\n",
            "0\n",
            "0\n",
            "0\n",
            "0\n"
          ]
        },
        {
          "data": {
            "image/png": "[encoded data removed]",
            "text/plain": [
              "<Figure size 640x480 with 1 Axes>"
            ]
          },
          "metadata": {},
          "output_type": "display_data"
        }
      ],
      "source": [
        "import time, sys\n",
        "from IPython.display import clear_output\n",
        "from matplotlib import animation\n",
        "import matplotlib.pyplot as plt\n",
        "import glob\n",
        "import imageio\n",
        "\n",
        "anim_file = 'atari.gif'\n",
        "\n",
        "turn =  0\n",
        "board, info = env.reset()\n",
        "state = preprocess_state(board)\n",
        "board, reward, done, _, info = env.step(1)\n",
        "state = preprocess_state(board)\n",
        "plt.imshow(board)\n",
        "plt.savefig('image_at_turn_{:04d}.png'.format(turn))\n",
        "\n",
        "for timestep in range(1, 50):\n",
        "    turn += 1\n",
        "    action = get_greedy_action(model, state.to('cuda'))\n",
        "    print(action)\n",
        "    board, reward, done, _, info = env.step(action)\n",
        "    state = preprocess_state(board)\n",
        "    plt.imshow(board)\n",
        "    plt.savefig('image_at_turn_{:04d}.png'.format(turn))\n",
        "\n",
        "    if done:\n",
        "        break"
      ]
    },
    {
      "cell_type": "code",
      "execution_count": null,
      "metadata": {
        "colab": {
          "base_uri": "https://localhost:8080/"
        },
        "id": "aP7OauQk5eZs",
        "outputId": "3058f4c7-3460-4795-859f-e239c0dfa62d"
      },
      "outputs": [
        {
          "name": "stdout",
          "output_type": "stream",
          "text": [
            "image_at_turn_0000.png\timage_at_turn_0017.png\timage_at_turn_0034.png\n",
            "image_at_turn_0001.png\timage_at_turn_0018.png\timage_at_turn_0035.png\n",
            "image_at_turn_0002.png\timage_at_turn_0019.png\timage_at_turn_0036.png\n",
            "image_at_turn_0003.png\timage_at_turn_0020.png\timage_at_turn_0037.png\n",
            "image_at_turn_0004.png\timage_at_turn_0021.png\timage_at_turn_0038.png\n",
            "image_at_turn_0005.png\timage_at_turn_0022.png\timage_at_turn_0039.png\n",
            "image_at_turn_0006.png\timage_at_turn_0023.png\timage_at_turn_0040.png\n",
            "image_at_turn_0007.png\timage_at_turn_0024.png\timage_at_turn_0041.png\n",
            "image_at_turn_0008.png\timage_at_turn_0025.png\timage_at_turn_0042.png\n",
            "image_at_turn_0009.png\timage_at_turn_0026.png\timage_at_turn_0043.png\n",
            "image_at_turn_0010.png\timage_at_turn_0027.png\timage_at_turn_0044.png\n",
            "image_at_turn_0011.png\timage_at_turn_0028.png\timage_at_turn_0045.png\n",
            "image_at_turn_0012.png\timage_at_turn_0029.png\timage_at_turn_0046.png\n",
            "image_at_turn_0013.png\timage_at_turn_0030.png\timage_at_turn_0047.png\n",
            "image_at_turn_0014.png\timage_at_turn_0031.png\timage_at_turn_0048.png\n",
            "image_at_turn_0015.png\timage_at_turn_0032.png\timage_at_turn_0049.png\n",
            "image_at_turn_0016.png\timage_at_turn_0033.png\tsample_data\n"
          ]
        }
      ],
      "source": [
        "!ls"
      ]
    },
    {
      "cell_type": "code",
      "execution_count": null,
      "metadata": {
        "colab": {
          "base_uri": "https://localhost:8080/"
        },
        "id": "E4Wm0t1m5fa9",
        "outputId": "8d531a9d-a871-4485-a313-9880f216ac3b"
      },
      "outputs": [
        {
          "name": "stdout",
          "output_type": "stream",
          "text": [
            "image_at_turn_0000.png\n",
            "image_at_turn_0001.png\n",
            "image_at_turn_0002.png\n"
          ]
        },
        {
          "name": "stderr",
          "output_type": "stream",
          "text": [
            "<ipython-input-18-940c3b7b686a>:7: DeprecationWarning: Starting with ImageIO v3 the behavior of this function will switch to that of iio.v3.imread. To keep the current behavior (and make this warning disappear) use `import imageio.v2 as imageio` or call `imageio.v2.imread` directly.\n",
            "  image = imageio.imread(filename)\n"
          ]
        },
        {
          "name": "stdout",
          "output_type": "stream",
          "text": [
            "image_at_turn_0003.png\n",
            "image_at_turn_0004.png\n",
            "image_at_turn_0005.png\n",
            "image_at_turn_0006.png\n",
            "image_at_turn_0007.png\n",
            "image_at_turn_0008.png\n",
            "image_at_turn_0009.png\n",
            "image_at_turn_0010.png\n",
            "image_at_turn_0011.png\n",
            "image_at_turn_0012.png\n",
            "image_at_turn_0013.png\n",
            "image_at_turn_0014.png\n",
            "image_at_turn_0015.png\n",
            "image_at_turn_0016.png\n",
            "image_at_turn_0017.png\n",
            "image_at_turn_0018.png\n",
            "image_at_turn_0019.png\n",
            "image_at_turn_0020.png\n",
            "image_at_turn_0021.png\n",
            "image_at_turn_0022.png\n",
            "image_at_turn_0023.png\n",
            "image_at_turn_0024.png\n",
            "image_at_turn_0025.png\n",
            "image_at_turn_0026.png\n",
            "image_at_turn_0027.png\n",
            "image_at_turn_0028.png\n",
            "image_at_turn_0029.png\n",
            "image_at_turn_0030.png\n",
            "image_at_turn_0031.png\n",
            "image_at_turn_0032.png\n",
            "image_at_turn_0033.png\n",
            "image_at_turn_0034.png\n",
            "image_at_turn_0035.png\n",
            "image_at_turn_0036.png\n",
            "image_at_turn_0037.png\n",
            "image_at_turn_0038.png\n",
            "image_at_turn_0039.png\n",
            "image_at_turn_0040.png\n",
            "image_at_turn_0041.png\n",
            "image_at_turn_0042.png\n",
            "image_at_turn_0043.png\n",
            "image_at_turn_0044.png\n",
            "image_at_turn_0045.png\n",
            "image_at_turn_0046.png\n",
            "image_at_turn_0047.png\n",
            "image_at_turn_0048.png\n",
            "image_at_turn_0049.png\n"
          ]
        },
        {
          "name": "stderr",
          "output_type": "stream",
          "text": [
            "<ipython-input-18-940c3b7b686a>:9: DeprecationWarning: Starting with ImageIO v3 the behavior of this function will switch to that of iio.v3.imread. To keep the current behavior (and make this warning disappear) use `import imageio.v2 as imageio` or call `imageio.v2.imread` directly.\n",
            "  image = imageio.imread(filename)\n"
          ]
        }
      ],
      "source": [
        "# generate animated gif file\n",
        "with imageio.get_writer(anim_file, mode='I') as writer:\n",
        "    filenames = glob.glob('image_at_turn_*.png')\n",
        "    filenames = sorted(filenames)\n",
        "    for filename in filenames:\n",
        "        print(filename)\n",
        "        image = imageio.imread(filename)\n",
        "        writer.append_data(image)\n",
        "    image = imageio.imread(filename)\n",
        "    writer.append_data(image)\n"
      ]
    },
    {
      "cell_type": "code",
      "execution_count": null,
      "metadata": {
        "colab": {
          "base_uri": "https://localhost:8080/"
        },
        "id": "BnACjbHv5kii",
        "outputId": "642dfdda-aa3d-4ec2-bb0f-d18b40fe3087"
      },
      "outputs": [
        {
          "name": "stdout",
          "output_type": "stream",
          "text": [
            "atari.gif\t\timage_at_turn_0017.png\timage_at_turn_0035.png\n",
            "image_at_turn_0000.png\timage_at_turn_0018.png\timage_at_turn_0036.png\n",
            "image_at_turn_0001.png\timage_at_turn_0019.png\timage_at_turn_0037.png\n",
            "image_at_turn_0002.png\timage_at_turn_0020.png\timage_at_turn_0038.png\n",
            "image_at_turn_0003.png\timage_at_turn_0021.png\timage_at_turn_0039.png\n",
            "image_at_turn_0004.png\timage_at_turn_0022.png\timage_at_turn_0040.png\n",
            "image_at_turn_0005.png\timage_at_turn_0023.png\timage_at_turn_0041.png\n",
            "image_at_turn_0006.png\timage_at_turn_0024.png\timage_at_turn_0042.png\n",
            "image_at_turn_0007.png\timage_at_turn_0025.png\timage_at_turn_0043.png\n",
            "image_at_turn_0008.png\timage_at_turn_0026.png\timage_at_turn_0044.png\n",
            "image_at_turn_0009.png\timage_at_turn_0027.png\timage_at_turn_0045.png\n",
            "image_at_turn_0010.png\timage_at_turn_0028.png\timage_at_turn_0046.png\n",
            "image_at_turn_0011.png\timage_at_turn_0029.png\timage_at_turn_0047.png\n",
            "image_at_turn_0012.png\timage_at_turn_0030.png\timage_at_turn_0048.png\n",
            "image_at_turn_0013.png\timage_at_turn_0031.png\timage_at_turn_0049.png\n",
            "image_at_turn_0014.png\timage_at_turn_0032.png\tsample_data\n",
            "image_at_turn_0015.png\timage_at_turn_0033.png\n",
            "image_at_turn_0016.png\timage_at_turn_0034.png\n"
          ]
        }
      ],
      "source": [
        "!ls"
      ]
    },
    {
      "cell_type": "code",
      "execution_count": null,
      "metadata": {
        "id": "Lq4nVgPe5ttQ"
      },
      "outputs": [],
      "source": [
        "from google.colab import drive"
      ]
    },
    {
      "cell_type": "code",
      "execution_count": null,
      "metadata": {
        "colab": {
          "base_uri": "https://localhost:8080/"
        },
        "id": "-aGtj3dn50Y3",
        "outputId": "1f352c14-1f5f-4e09-f8c4-ab9f4ca137f0"
      },
      "outputs": [
        {
          "name": "stdout",
          "output_type": "stream",
          "text": [
            "Mounted at /content/drive\n"
          ]
        }
      ],
      "source": [
        "drive.mount('/content/drive')"
      ]
    },
    {
      "cell_type": "code",
      "execution_count": null,
      "metadata": {
        "id": "sEAWU9lg54oG"
      },
      "outputs": [],
      "source": [
        "!cp atari.gif drive/MyDrive/Test/SKT/new.gif"
      ]
    },
    {
      "cell_type": "code",
      "execution_count": null,
      "metadata": {
        "id": "oeiD8oBN5-Oz"
      },
      "outputs": [],
      "source": []
    }
  ],
  "metadata": {
    "accelerator": "GPU",
    "colab": {
      "gpuType": "T4",
      "provenance": []
    },
    "kernelspec": {
      "display_name": "Python 3",
      "name": "python3"
    },
    "language_info": {
      "codemirror_mode": {
        "name": "ipython",
        "version": 3
      },
      "file_extension": ".py",
      "mimetype": "text/x-python",
      "name": "python",
      "nbconvert_exporter": "python",
      "pygments_lexer": "ipython3",
      "version": "3.10.0"
    }
  },
  "nbformat": 4,
  "nbformat_minor": 0
}
