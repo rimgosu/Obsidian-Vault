{
 "cells": [
  {
   "cell_type": "code",
   "execution_count": 1,
   "id": "2bb9f365",
   "metadata": {},
   "outputs": [
    {
     "data": {
      "text/html": [
       "<div>\n",
       "<style scoped>\n",
       "    .dataframe tbody tr th:only-of-type {\n",
       "        vertical-align: middle;\n",
       "    }\n",
       "\n",
       "    .dataframe tbody tr th {\n",
       "        vertical-align: top;\n",
       "    }\n",
       "\n",
       "    .dataframe thead th {\n",
       "        text-align: right;\n",
       "    }\n",
       "</style>\n",
       "<table border=\"1\" class=\"dataframe\">\n",
       "  <thead>\n",
       "    <tr style=\"text-align: right;\">\n",
       "      <th></th>\n",
       "      <th>car</th>\n",
       "      <th>mpg</th>\n",
       "      <th>cyl</th>\n",
       "      <th>disp</th>\n",
       "      <th>hp</th>\n",
       "      <th>drat</th>\n",
       "      <th>wt</th>\n",
       "      <th>qsec</th>\n",
       "      <th>vs</th>\n",
       "      <th>am</th>\n",
       "      <th>gear</th>\n",
       "      <th>carb</th>\n",
       "    </tr>\n",
       "  </thead>\n",
       "  <tbody>\n",
       "    <tr>\n",
       "      <th>0</th>\n",
       "      <td>Mazda RX4</td>\n",
       "      <td>21.0</td>\n",
       "      <td>6</td>\n",
       "      <td>160.0</td>\n",
       "      <td>110</td>\n",
       "      <td>3.90</td>\n",
       "      <td>2.620</td>\n",
       "      <td>16.46</td>\n",
       "      <td>0</td>\n",
       "      <td>1</td>\n",
       "      <td>4</td>\n",
       "      <td>4</td>\n",
       "    </tr>\n",
       "    <tr>\n",
       "      <th>1</th>\n",
       "      <td>Mazda RX4 Wag</td>\n",
       "      <td>21.0</td>\n",
       "      <td>6</td>\n",
       "      <td>160.0</td>\n",
       "      <td>110</td>\n",
       "      <td>3.90</td>\n",
       "      <td>2.875</td>\n",
       "      <td>17.02</td>\n",
       "      <td>0</td>\n",
       "      <td>1</td>\n",
       "      <td>4</td>\n",
       "      <td>4</td>\n",
       "    </tr>\n",
       "    <tr>\n",
       "      <th>2</th>\n",
       "      <td>Datsun 710</td>\n",
       "      <td>22.8</td>\n",
       "      <td>4</td>\n",
       "      <td>108.0</td>\n",
       "      <td>93</td>\n",
       "      <td>3.85</td>\n",
       "      <td>2.320</td>\n",
       "      <td>18.61</td>\n",
       "      <td>1</td>\n",
       "      <td>1</td>\n",
       "      <td>4</td>\n",
       "      <td>1</td>\n",
       "    </tr>\n",
       "    <tr>\n",
       "      <th>3</th>\n",
       "      <td>Hornet 4 Drive</td>\n",
       "      <td>21.4</td>\n",
       "      <td>6</td>\n",
       "      <td>258.0</td>\n",
       "      <td>110</td>\n",
       "      <td>3.08</td>\n",
       "      <td>3.215</td>\n",
       "      <td>19.44</td>\n",
       "      <td>1</td>\n",
       "      <td>0</td>\n",
       "      <td>3</td>\n",
       "      <td>1</td>\n",
       "    </tr>\n",
       "    <tr>\n",
       "      <th>4</th>\n",
       "      <td>Hornet Sportabout</td>\n",
       "      <td>18.7</td>\n",
       "      <td>8</td>\n",
       "      <td>360.0</td>\n",
       "      <td>175</td>\n",
       "      <td>3.15</td>\n",
       "      <td>3.440</td>\n",
       "      <td>17.02</td>\n",
       "      <td>0</td>\n",
       "      <td>0</td>\n",
       "      <td>3</td>\n",
       "      <td>2</td>\n",
       "    </tr>\n",
       "  </tbody>\n",
       "</table>\n",
       "</div>"
      ],
      "text/plain": [
       "                 car   mpg  cyl   disp   hp  drat     wt   qsec  vs  am  gear  \\\n",
       "0          Mazda RX4  21.0    6  160.0  110  3.90  2.620  16.46   0   1     4   \n",
       "1      Mazda RX4 Wag  21.0    6  160.0  110  3.90  2.875  17.02   0   1     4   \n",
       "2         Datsun 710  22.8    4  108.0   93  3.85  2.320  18.61   1   1     4   \n",
       "3     Hornet 4 Drive  21.4    6  258.0  110  3.08  3.215  19.44   1   0     3   \n",
       "4  Hornet Sportabout  18.7    8  360.0  175  3.15  3.440  17.02   0   0     3   \n",
       "\n",
       "   carb  \n",
       "0     4  \n",
       "1     4  \n",
       "2     1  \n",
       "3     1  \n",
       "4     2  "
      ]
     },
     "execution_count": 1,
     "metadata": {},
     "output_type": "execute_result"
    }
   ],
   "source": [
    "import pandas as pd\n",
    "import numpy as np\n",
    "df = pd.read_csv('./강의자료/mtcars.csv')\n",
    "df.head()"
   ]
  },
  {
   "cell_type": "code",
   "execution_count": 17,
   "id": "51c81e07",
   "metadata": {},
   "outputs": [
    {
     "name": "stdout",
     "output_type": "stream",
     "text": [
      "15.0\n"
     ]
    }
   ],
   "source": [
    "q1 = df['mpg'].quantile(.25)\n",
    "print(np.round(q1,0))"
   ]
  },
  {
   "cell_type": "code",
   "execution_count": 14,
   "id": "eca95023",
   "metadata": {},
   "outputs": [],
   "source": [
    "cond1 = df['mpg'] >= 19\n",
    "cond2 = df['mpg'] <= 21"
   ]
  },
  {
   "cell_type": "code",
   "execution_count": 18,
   "id": "b3dbb026",
   "metadata": {},
   "outputs": [
    {
     "data": {
      "text/plain": [
       "5"
      ]
     },
     "execution_count": 18,
     "metadata": {},
     "output_type": "execute_result"
    }
   ],
   "source": [
    "len(df[cond1 & cond2])"
   ]
  },
  {
   "cell_type": "code",
   "execution_count": 19,
   "id": "1d7955e4",
   "metadata": {},
   "outputs": [],
   "source": [
    "q1 = df['hp'].quantile(.25)\n",
    "q3 = df['hp'].quantile(.75)"
   ]
  },
  {
   "cell_type": "code",
   "execution_count": 20,
   "id": "1c040cf1",
   "metadata": {},
   "outputs": [
    {
     "data": {
      "text/plain": [
       "83.5"
      ]
     },
     "execution_count": 20,
     "metadata": {},
     "output_type": "execute_result"
    }
   ],
   "source": [
    "iqr = q3-q1\n",
    "iqr"
   ]
  },
  {
   "cell_type": "code",
   "execution_count": 28,
   "id": "d2858ba1",
   "metadata": {},
   "outputs": [
    {
     "name": "stdout",
     "output_type": "stream",
     "text": [
      "42.0\n"
     ]
    }
   ],
   "source": [
    "wt = df.sort_values('wt',ascending=False).head(10).loc[:,'wt'].sum()\n",
    "print(np.floor(wt))"
   ]
  },
  {
   "cell_type": "code",
   "execution_count": 35,
   "id": "23451934",
   "metadata": {},
   "outputs": [
    {
     "data": {
      "text/plain": [
       "0.2"
      ]
     },
     "execution_count": 35,
     "metadata": {},
     "output_type": "execute_result"
    }
   ],
   "source": [
    "df = pd.read_csv('./강의자료/mtcars.csv')\n",
    "df.value_counts('cyl')\n",
    "np.round(len(df[df['cyl']== 6])/len(df), 1)"
   ]
  },
  {
   "cell_type": "code",
   "execution_count": 40,
   "id": "6543d046",
   "metadata": {},
   "outputs": [
    {
     "data": {
      "text/plain": [
       "20.0"
      ]
     },
     "execution_count": 40,
     "metadata": {},
     "output_type": "execute_result"
    }
   ],
   "source": [
    "np.round(df.head(10)['mpg'].mean())"
   ]
  },
  {
   "cell_type": "code",
   "execution_count": 44,
   "id": "3fa57d1f",
   "metadata": {},
   "outputs": [
    {
     "data": {
      "text/plain": [
       "3.44"
      ]
     },
     "execution_count": 44,
     "metadata": {},
     "output_type": "execute_result"
    }
   ],
   "source": [
    "df.head(len(df)//2)['wt'].median()"
   ]
  },
  {
   "cell_type": "code",
   "execution_count": 54,
   "id": "02a5c3c8",
   "metadata": {},
   "outputs": [],
   "source": [
    "df=pd.DataFrame( {\n",
    "'날짜': ['20220103','20220105', None,'20230127','20220203', '20220205','20230210','20230223','20230312','20230422', '20230503', '20230505'],\n",
    "   '제품' : ['A','B', None, 'B', 'A', None,'A', 'B', 'A', 'B', 'A', 'A'],\n",
    "'판매수': [3, None, 5, 10, 10, 10, 15, 15, 20, None, 30, 40],\n",
    "'개당수익': [300, 400, 500, 600, 400, 500, 500, 600, 600, 700, 600, 600] })\n"
   ]
  },
  {
   "cell_type": "code",
   "execution_count": 56,
   "id": "12b9383c",
   "metadata": {},
   "outputs": [
    {
     "data": {
      "text/plain": [
       "5"
      ]
     },
     "execution_count": 56,
     "metadata": {},
     "output_type": "execute_result"
    }
   ],
   "source": [
    "df.isnull().sum().sum()"
   ]
  },
  {
   "cell_type": "code",
   "execution_count": 87,
   "id": "067f2efb",
   "metadata": {},
   "outputs": [
    {
     "data": {
      "text/plain": [
       "5"
      ]
     },
     "execution_count": 87,
     "metadata": {},
     "output_type": "execute_result"
    }
   ],
   "source": [
    "import pandas as pd\n",
    "import numpy as np\n",
    "\n",
    "df=pd.DataFrame( {\n",
    "'날짜': ['20220103','20220105', None,'20230127','20220203', '20220205','20230210','20230223','20230312','20230422', '20230503', '20230505'],\n",
    "'제품' : ['A','B', None, 'B', 'A', None,'A', 'B', 'A', 'B', 'A', 'A'],\n",
    "'판매수': [3, None, 5, 10, 10, 10, 15, 15, 20, None, 30, 40],\n",
    "'개당수익': [300, 400, 500, 600, 400, 500, 500, 600, 600, 700, 600, 600] })\n",
    "\n",
    "#\t문제\t10\n",
    "#\t판매수 컬럼에 결측치가 있는 행을 제거하고,\n",
    "#\t첫번째 행부터 순서대로\t50%까지의 데이터를 추출하여\n",
    "#\t판매수 변수의\tQ1(제1사분위수)값을 반올림하여 정수로 출력하시오.\t\n",
    "\n",
    "a = df['판매수'].dropna()\n",
    "len(a)\n",
    "b = a.head(len(a)//2)\n",
    "round(b.quantile(.25))"
   ]
  },
  {
   "cell_type": "code",
   "execution_count": 96,
   "id": "6626aa1c",
   "metadata": {},
   "outputs": [],
   "source": [
    "# 문제 11\n",
    "df = pd.read_csv('./강의자료/mtcars.csv')\n",
    "df.head()\n",
    "\n",
    "#\t문제\t11\n",
    "#\tcyl가\t4인 자동차와\t6인 자동차 그룹의\tmpg\t평균값 차이를 절대값으로 반올림하여 정수로 출력하시오.\n",
    "\n",
    "cyl_cond = df['cyl'] == 4\n",
    "cyl_cond2 = df['cyl'] == 6"
   ]
  },
  {
   "cell_type": "code",
   "execution_count": 104,
   "id": "c50e4860",
   "metadata": {},
   "outputs": [
    {
     "data": {
      "text/plain": [
       "7"
      ]
     },
     "execution_count": 104,
     "metadata": {},
     "output_type": "execute_result"
    }
   ],
   "source": [
    "a = df[cyl_cond]['mpg'].mean()\n",
    "b = df[cyl_cond2]['mpg'].mean()\n",
    "round(abs(a-b))"
   ]
  },
  {
   "cell_type": "code",
   "execution_count": 120,
   "id": "10b9ff01",
   "metadata": {},
   "outputs": [],
   "source": [
    "#\t문제\t12\n",
    "#\thp\t변수에 대해 데이터표준화(Z-score)를 진행하고 이상치의 수를 구하시오.\n",
    "#\t(단,\t이상치는\tZ값이\t1.5를 초과하거나\t-1.5\t미만인 값이다)\n",
    "_mean = df['hp'].mean()\n",
    "_std = df['hp'].std()\n",
    "df['hp_z'] = (df['hp'] - _mean) / _std\n",
    "abnormal1 =  df['hp_z'] > 1.5\n",
    "abnormal2 = df['hp_z'] < -1.5 "
   ]
  },
  {
   "cell_type": "code",
   "execution_count": 121,
   "id": "267172e1",
   "metadata": {},
   "outputs": [
    {
     "data": {
      "text/plain": [
       "2"
      ]
     },
     "execution_count": 121,
     "metadata": {},
     "output_type": "execute_result"
    }
   ],
   "source": [
    "len(df['hp_z'][abnormal1 | abnormal2])"
   ]
  },
  {
   "cell_type": "code",
   "execution_count": 139,
   "id": "4b370b69",
   "metadata": {},
   "outputs": [
    {
     "data": {
      "text/plain": [
       "5"
      ]
     },
     "execution_count": 139,
     "metadata": {},
     "output_type": "execute_result"
    }
   ],
   "source": [
    "#\t문제\t13\n",
    "#\tmpg\t컬럼을 최소최대\tScaling을 진행한 후\t0.7보다 큰 값을 가지는 레코드 수를 구하라.\n",
    "mpg_min =  df['mpg'].min()\n",
    "mpg_max = df['mpg'].max()\n",
    "\n",
    "df['mpg_mx'] = (df['mpg'] - mpg_min) / (mpg_max - mpg_min)\n",
    "cond = df['mpg_mx'] > 0.7\n",
    "len(df[cond])"
   ]
  },
  {
   "cell_type": "code",
   "execution_count": 148,
   "id": "2ff65075",
   "metadata": {},
   "outputs": [
    {
     "name": "stdout",
     "output_type": "stream",
     "text": [
      "3\n"
     ]
    }
   ],
   "source": [
    "#\t문제\t14\n",
    "#\twt컬럼에 대해 상자그림 기준으로 이상치의 개수를 구하시오\n",
    "q3 = df['wt'].quantile(.75)\n",
    "q1 = df['wt'].quantile(.25)\n",
    "iqr = q3-q1\n",
    "\n",
    "upper = q3 + 1.5 * iqr\n",
    "lower = q1 - 1.5 * iqr\n",
    "\n",
    "cond1 = df['wt'] > upper\n",
    "cond2 = df['wt'] < lower\n",
    "\n",
    "\n",
    "\n",
    "print(len(df[cond1 | cond2]))"
   ]
  },
  {
   "cell_type": "code",
   "execution_count": 160,
   "id": "6256d681",
   "metadata": {},
   "outputs": [
    {
     "name": "stdout",
     "output_type": "stream",
     "text": [
      "날짜      1\n",
      "제품      2\n",
      "판매수     2\n",
      "개당수익    0\n",
      "dtype: int64\n",
      "날짜      1\n",
      "제품      2\n",
      "판매수     0\n",
      "개당수익    0\n",
      "dtype: int64\n",
      "2\n"
     ]
    }
   ],
   "source": [
    "#\t문제\t15\n",
    "#\t판매수 컬럼의 결측치를 최소값으로 대체하고\n",
    "#\t결측치가 있을 때와 최소값으로 대체했을 때 평균값의 차이를 절대값으로 반올림하여 정수로 출력하시오\n",
    "\n",
    "df=pd.DataFrame( {\n",
    "'날짜': ['20220103','20220105', None,'20230127','20220203', '20220205','20230210','20230223','20230312','20230422', '20230503', '20230505'],\n",
    "   '제품' : ['A','B', None, 'B', 'A', None,'A', 'B', 'A', 'B', 'A', 'A'],\n",
    "'판매수': [3, None, 5, 10, 10, 10, 15, 15, 20, None, 30, 40],\n",
    "'개당수익': [300, 400, 500, 600, 400, 500, 500, 600, 600, 700, 600, 600] })\n",
    "\n",
    "sell_mean1 = df['판매수'].mean()\n",
    "\n",
    "print(df.isnull().sum())\n",
    "\n",
    "sell_min = df['판매수'].min()\n",
    "df['판매수'] = df['판매수'].fillna(sell_min)\n",
    "\n",
    "print(df.isnull().sum())\n",
    "\n",
    "sell_mean2 = df['판매수'].mean()\n",
    "\n",
    "print(round(abs(sell_mean1 - sell_mean2)))\n"
   ]
  },
  {
   "cell_type": "code",
   "execution_count": 171,
   "id": "2d1adf2a",
   "metadata": {},
   "outputs": [
    {
     "name": "stdout",
     "output_type": "stream",
     "text": [
      "65\n"
     ]
    }
   ],
   "source": [
    "#\t문제\t16\n",
    "#\tvs변수가\t0이 아닌 차량 중에\tmpg\t값이 가장 큰 차량의\thp\t값을 출력하시오.\t\n",
    "\n",
    "df = pd.read_csv('./강의자료/mtcars.csv')\n",
    "df.head()\n",
    "\n",
    "cond1 = df['vs'] != 0\n",
    "a = df[df['mpg']==df[cond1]['mpg'].max()]['hp']\n",
    "print(a.iloc[0])"
   ]
  },
  {
   "cell_type": "code",
   "execution_count": 179,
   "id": "dbf244b3",
   "metadata": {},
   "outputs": [
    {
     "name": "stdout",
     "output_type": "stream",
     "text": [
      "21.8\n"
     ]
    }
   ],
   "source": [
    "#\t문제\t17\n",
    "#\tgear\t변수값이\t3,\t4인 두 그룹의\thp\t표준편차값의 차이를 절대값으로\n",
    "#\t반올림하여 소수점 첫째자리까지 출력하시오.\n",
    "\n",
    "df = pd.read_csv('./강의자료/mtcars.csv')\n",
    "\n",
    "cond1 = df['gear'] == 3\n",
    "cond2 = df['gear'] == 4\n",
    "\n",
    "std1 = df[cond1]['hp'].std()\n",
    "std2 = df[cond2]['hp'].std()\n",
    "\n",
    "print(round(abs(std1-std2), 1))"
   ]
  },
  {
   "cell_type": "code",
   "execution_count": 197,
   "id": "67b43baf",
   "metadata": {},
   "outputs": [
    {
     "name": "stderr",
     "output_type": "stream",
     "text": [
      "C:\\Users\\newny\\AppData\\Local\\Temp\\ipykernel_10476\\2579831243.py:6: FutureWarning: The default value of numeric_only in DataFrameGroupBy.mean is deprecated. In a future version, numeric_only will default to False. Either specify numeric_only or select only columns which should be valid for the function.\n",
      "  cond = df['gear'] == df.groupby('gear').mean()['mpg'].sort_values(ascending=False).index[0]\n"
     ]
    },
    {
     "data": {
      "text/plain": [
       "28.075"
      ]
     },
     "execution_count": 197,
     "metadata": {},
     "output_type": "execute_result"
    }
   ],
   "source": [
    "#\t문제\t18\n",
    "#\tgear\t변수의 값별로 그룹화하여\tmpg평균값을 산출하고\n",
    "#\t평균값이 높은 그룹의\tmpg\t제3사분위수 값을 구하시오.\n",
    "df = pd.read_csv('./강의자료/mtcars.csv')\n",
    "\n",
    "cond = df['gear'] == df.groupby('gear').mean()['mpg'].sort_values(ascending=False).index[0]\n",
    "df[cond]['mpg'].quantile(.75)"
   ]
  },
  {
   "cell_type": "code",
   "execution_count": 259,
   "id": "0f17ebcc",
   "metadata": {
    "scrolled": true
   },
   "outputs": [
    {
     "data": {
      "text/plain": [
       "187"
      ]
     },
     "execution_count": 259,
     "metadata": {},
     "output_type": "execute_result"
    }
   ],
   "source": [
    "#\t문제\t19\n",
    "#\thp\t항목의 상위\t7번째 값으로 상위\t7개 값을 변환한 후,\n",
    "#\thp가\t150\t이상인 데이터를 추출하여\thp의 평균값을 반올림하여 정수로 출력하시오.\n",
    "\n",
    "df=pd.read_csv(\"./강의자료/mtcars.csv\")\n",
    "_7th = df['hp'].sort_values(ascending=False).head(7).iloc[-1] # 205\n",
    "\n",
    "df['hp'] = np.where(df['hp'] >= _7th, _7th, df['hp'])\n",
    "\n",
    "cond = df['hp'] >= 150\n",
    "round(df[cond]['hp'].mean())"
   ]
  },
  {
   "cell_type": "code",
   "execution_count": 261,
   "id": "ca7336dc",
   "metadata": {},
   "outputs": [
    {
     "data": {
      "text/html": [
       "<div>\n",
       "<style scoped>\n",
       "    .dataframe tbody tr th:only-of-type {\n",
       "        vertical-align: middle;\n",
       "    }\n",
       "\n",
       "    .dataframe tbody tr th {\n",
       "        vertical-align: top;\n",
       "    }\n",
       "\n",
       "    .dataframe thead th {\n",
       "        text-align: right;\n",
       "    }\n",
       "</style>\n",
       "<table border=\"1\" class=\"dataframe\">\n",
       "  <thead>\n",
       "    <tr style=\"text-align: right;\">\n",
       "      <th></th>\n",
       "      <th>car</th>\n",
       "      <th>mpg</th>\n",
       "      <th>cyl</th>\n",
       "      <th>disp</th>\n",
       "      <th>hp</th>\n",
       "      <th>drat</th>\n",
       "      <th>wt</th>\n",
       "      <th>qsec</th>\n",
       "      <th>vs</th>\n",
       "      <th>am</th>\n",
       "      <th>gear</th>\n",
       "      <th>carb</th>\n",
       "    </tr>\n",
       "  </thead>\n",
       "  <tbody>\n",
       "    <tr>\n",
       "      <th>0</th>\n",
       "      <td>Mazda RX4</td>\n",
       "      <td>21.0</td>\n",
       "      <td>6</td>\n",
       "      <td>160.0</td>\n",
       "      <td>110</td>\n",
       "      <td>3.90</td>\n",
       "      <td>2.620</td>\n",
       "      <td>16.46</td>\n",
       "      <td>0</td>\n",
       "      <td>1</td>\n",
       "      <td>4</td>\n",
       "      <td>4</td>\n",
       "    </tr>\n",
       "    <tr>\n",
       "      <th>1</th>\n",
       "      <td>Mazda RX4 Wag</td>\n",
       "      <td>21.0</td>\n",
       "      <td>6</td>\n",
       "      <td>160.0</td>\n",
       "      <td>110</td>\n",
       "      <td>3.90</td>\n",
       "      <td>2.875</td>\n",
       "      <td>17.02</td>\n",
       "      <td>0</td>\n",
       "      <td>1</td>\n",
       "      <td>4</td>\n",
       "      <td>4</td>\n",
       "    </tr>\n",
       "    <tr>\n",
       "      <th>2</th>\n",
       "      <td>Datsun 710</td>\n",
       "      <td>22.8</td>\n",
       "      <td>4</td>\n",
       "      <td>108.0</td>\n",
       "      <td>93</td>\n",
       "      <td>3.85</td>\n",
       "      <td>2.320</td>\n",
       "      <td>18.61</td>\n",
       "      <td>1</td>\n",
       "      <td>1</td>\n",
       "      <td>4</td>\n",
       "      <td>1</td>\n",
       "    </tr>\n",
       "    <tr>\n",
       "      <th>3</th>\n",
       "      <td>Hornet 4 Drive</td>\n",
       "      <td>21.4</td>\n",
       "      <td>6</td>\n",
       "      <td>258.0</td>\n",
       "      <td>110</td>\n",
       "      <td>3.08</td>\n",
       "      <td>3.215</td>\n",
       "      <td>19.44</td>\n",
       "      <td>1</td>\n",
       "      <td>0</td>\n",
       "      <td>3</td>\n",
       "      <td>1</td>\n",
       "    </tr>\n",
       "    <tr>\n",
       "      <th>4</th>\n",
       "      <td>Hornet Sportabout</td>\n",
       "      <td>18.7</td>\n",
       "      <td>8</td>\n",
       "      <td>360.0</td>\n",
       "      <td>175</td>\n",
       "      <td>3.15</td>\n",
       "      <td>3.440</td>\n",
       "      <td>17.02</td>\n",
       "      <td>0</td>\n",
       "      <td>0</td>\n",
       "      <td>3</td>\n",
       "      <td>2</td>\n",
       "    </tr>\n",
       "  </tbody>\n",
       "</table>\n",
       "</div>"
      ],
      "text/plain": [
       "                 car   mpg  cyl   disp   hp  drat     wt   qsec  vs  am  gear  \\\n",
       "0          Mazda RX4  21.0    6  160.0  110  3.90  2.620  16.46   0   1     4   \n",
       "1      Mazda RX4 Wag  21.0    6  160.0  110  3.90  2.875  17.02   0   1     4   \n",
       "2         Datsun 710  22.8    4  108.0   93  3.85  2.320  18.61   1   1     4   \n",
       "3     Hornet 4 Drive  21.4    6  258.0  110  3.08  3.215  19.44   1   0     3   \n",
       "4  Hornet Sportabout  18.7    8  360.0  175  3.15  3.440  17.02   0   0     3   \n",
       "\n",
       "   carb  \n",
       "0     4  \n",
       "1     4  \n",
       "2     1  \n",
       "3     1  \n",
       "4     2  "
      ]
     },
     "execution_count": 261,
     "metadata": {},
     "output_type": "execute_result"
    }
   ],
   "source": [
    "# 문제 20 \n",
    "# car 변수에 Merc 문구가 포함된 자동차의 mpg 평균값을 반올림하여 정수로 출력하시오. \n",
    "df = pd.read_csv(\"./강의자료/mtcars.csv\")\n",
    "df.head()"
   ]
  },
  {
   "cell_type": "code",
   "execution_count": 266,
   "id": "5c5ad260",
   "metadata": {},
   "outputs": [
    {
     "data": {
      "text/plain": [
       "19"
      ]
     },
     "execution_count": 266,
     "metadata": {},
     "output_type": "execute_result"
    }
   ],
   "source": [
    "cond = df['car'].str.contains('Merc')\n",
    "round(df[cond]['mpg'].mean())"
   ]
  },
  {
   "cell_type": "code",
   "execution_count": 286,
   "id": "e3e9a406",
   "metadata": {},
   "outputs": [
    {
     "name": "stdout",
     "output_type": "stream",
     "text": [
      "<class 'pandas.core.frame.DataFrame'>\n",
      "RangeIndex: 12 entries, 0 to 11\n",
      "Data columns (total 4 columns):\n",
      " #   Column  Non-Null Count  Dtype         \n",
      "---  ------  --------------  -----         \n",
      " 0   날짜      11 non-null     datetime64[ns]\n",
      " 1   제품      10 non-null     object        \n",
      " 2   판매수     10 non-null     float64       \n",
      " 3   개당수익    12 non-null     int64         \n",
      "dtypes: datetime64[ns](1), float64(1), int64(1), object(1)\n",
      "memory usage: 516.0+ bytes\n"
     ]
    },
    {
     "data": {
      "text/plain": [
       "9900.0"
      ]
     },
     "execution_count": 286,
     "metadata": {},
     "output_type": "execute_result"
    }
   ],
   "source": [
    "# 문제 21 \n",
    "# '22 년 1 분기 매출액을 구하시오 \n",
    "# ( 매출액 = 판매수* 개당수익)\n",
    "\n",
    "df=pd.DataFrame( {\n",
    "'날짜': ['20220103','20220105', None,'20230127','20220203', '20220205','20230210','20230223','20230312','20230422', '20230503', '20230505'],\n",
    "   '제품' : ['A','B', None, 'B', 'A', None,'A', 'B', 'A', 'B', 'A', 'A'],\n",
    "'판매수': [3, None, 5, 10, 10, 10, 15, 15, 20, None, 30, 40],\n",
    "'개당수익': [300, 400, 500, 600, 400, 500, 500, 600, 600, 700, 600, 600] })\n",
    "\n",
    "\n",
    "df['날짜'] = pd.to_datetime(df['날짜'])\n",
    "df.info()\n",
    "\n",
    "cond = df['날짜'].between('20220101', '20220331')\n",
    "\n",
    "df['매출액'] = df['판매수'] * df['개당수익']\n",
    "df[cond]['매출액'].sum()"
   ]
  },
  {
   "cell_type": "code",
   "execution_count": 292,
   "id": "fee0d705",
   "metadata": {},
   "outputs": [
    {
     "data": {
      "text/html": [
       "<div>\n",
       "<style scoped>\n",
       "    .dataframe tbody tr th:only-of-type {\n",
       "        vertical-align: middle;\n",
       "    }\n",
       "\n",
       "    .dataframe tbody tr th {\n",
       "        vertical-align: top;\n",
       "    }\n",
       "\n",
       "    .dataframe thead th {\n",
       "        text-align: right;\n",
       "    }\n",
       "</style>\n",
       "<table border=\"1\" class=\"dataframe\">\n",
       "  <thead>\n",
       "    <tr style=\"text-align: right;\">\n",
       "      <th></th>\n",
       "      <th>날짜</th>\n",
       "      <th>제품</th>\n",
       "      <th>판매수</th>\n",
       "      <th>개당수익</th>\n",
       "    </tr>\n",
       "  </thead>\n",
       "  <tbody>\n",
       "    <tr>\n",
       "      <th>0</th>\n",
       "      <td>20220103</td>\n",
       "      <td>A</td>\n",
       "      <td>3</td>\n",
       "      <td>300</td>\n",
       "    </tr>\n",
       "    <tr>\n",
       "      <th>1</th>\n",
       "      <td>20220105</td>\n",
       "      <td>B</td>\n",
       "      <td>5</td>\n",
       "      <td>400</td>\n",
       "    </tr>\n",
       "    <tr>\n",
       "      <th>2</th>\n",
       "      <td>20230105</td>\n",
       "      <td>A</td>\n",
       "      <td>5</td>\n",
       "      <td>500</td>\n",
       "    </tr>\n",
       "    <tr>\n",
       "      <th>3</th>\n",
       "      <td>20230127</td>\n",
       "      <td>B</td>\n",
       "      <td>10</td>\n",
       "      <td>600</td>\n",
       "    </tr>\n",
       "    <tr>\n",
       "      <th>4</th>\n",
       "      <td>20220203</td>\n",
       "      <td>A</td>\n",
       "      <td>10</td>\n",
       "      <td>400</td>\n",
       "    </tr>\n",
       "    <tr>\n",
       "      <th>5</th>\n",
       "      <td>20220205</td>\n",
       "      <td>B</td>\n",
       "      <td>10</td>\n",
       "      <td>500</td>\n",
       "    </tr>\n",
       "    <tr>\n",
       "      <th>6</th>\n",
       "      <td>20230210</td>\n",
       "      <td>A</td>\n",
       "      <td>15</td>\n",
       "      <td>500</td>\n",
       "    </tr>\n",
       "    <tr>\n",
       "      <th>7</th>\n",
       "      <td>20230223</td>\n",
       "      <td>B</td>\n",
       "      <td>15</td>\n",
       "      <td>600</td>\n",
       "    </tr>\n",
       "    <tr>\n",
       "      <th>8</th>\n",
       "      <td>20230312</td>\n",
       "      <td>A</td>\n",
       "      <td>20</td>\n",
       "      <td>600</td>\n",
       "    </tr>\n",
       "    <tr>\n",
       "      <th>9</th>\n",
       "      <td>20230422</td>\n",
       "      <td>B</td>\n",
       "      <td>25</td>\n",
       "      <td>700</td>\n",
       "    </tr>\n",
       "    <tr>\n",
       "      <th>10</th>\n",
       "      <td>20220505</td>\n",
       "      <td>A</td>\n",
       "      <td>30</td>\n",
       "      <td>600</td>\n",
       "    </tr>\n",
       "    <tr>\n",
       "      <th>11</th>\n",
       "      <td>20230511</td>\n",
       "      <td>A</td>\n",
       "      <td>40</td>\n",
       "      <td>600</td>\n",
       "    </tr>\n",
       "  </tbody>\n",
       "</table>\n",
       "</div>"
      ],
      "text/plain": [
       "          날짜 제품  판매수  개당수익\n",
       "0   20220103  A    3   300\n",
       "1   20220105  B    5   400\n",
       "2   20230105  A    5   500\n",
       "3   20230127  B   10   600\n",
       "4   20220203  A   10   400\n",
       "5   20220205  B   10   500\n",
       "6   20230210  A   15   500\n",
       "7   20230223  B   15   600\n",
       "8   20230312  A   20   600\n",
       "9   20230422  B   25   700\n",
       "10  20220505  A   30   600\n",
       "11  20230511  A   40   600"
      ]
     },
     "execution_count": 292,
     "metadata": {},
     "output_type": "execute_result"
    }
   ],
   "source": [
    "df=pd.DataFrame( {\n",
    "'날짜': ['20220103','20220105', '20230105','20230127','20220203', '20220205','20230210','20230223','20230312','20230422','20220505','20230511'],\n",
    "'제품' : ['A','B', 'A', 'B', 'A', 'B','A', 'B', 'A', 'B', 'A', 'A'],\n",
    "'판매수': [3, 5, 5, 10, 10, 10, 15, 15, 20, 25, 30, 40],\n",
    "'개당수익': [300, 400, 500, 600, 400, 500, 500, 600, 600, 700, 600, 600] })\n",
    "df"
   ]
  },
  {
   "cell_type": "code",
   "execution_count": 304,
   "id": "9053ac83",
   "metadata": {},
   "outputs": [
    {
     "data": {
      "text/plain": [
       "48600"
      ]
     },
     "execution_count": 304,
     "metadata": {},
     "output_type": "execute_result"
    }
   ],
   "source": [
    "#\t문제\t22\n",
    "#\t'22년과\t'23년의 총 매출액 차이를 절대값으로 구하시오.\t\n",
    "#\t(매출액\t=\t판매수*개당수익)\n",
    "\n",
    "df['날짜'] = pd.to_datetime(df['날짜'])\n",
    "year2022 = df['날짜'].between('2022-01-01', '2022-12-31')\n",
    "year2023 = df['날짜'].between('2023-01-01', '2023-12-31')\n",
    "\n",
    "df['매출액'] = df['판매수'] * df['개당수익']\n",
    "abs(df[year2022]['매출액'].sum() - df[year2023]['매출액'].sum())"
   ]
  },
  {
   "cell_type": "code",
   "execution_count": 332,
   "id": "e863d471",
   "metadata": {},
   "outputs": [
    {
     "name": "stderr",
     "output_type": "stream",
     "text": [
      "C:\\Users\\newny\\AppData\\Local\\Temp\\ipykernel_10476\\722792683.py:15: FutureWarning: The default value of numeric_only in DataFrameGroupBy.sum is deprecated. In a future version, numeric_only will default to False. Either specify numeric_only or select only columns which should be valid for the function.\n",
      "  df[cond].groupby('제품').sum().sort_values('매출액', ascending=False).iloc[0]['판매수'] # A\n"
     ]
    },
    {
     "data": {
      "text/plain": [
       "80"
      ]
     },
     "execution_count": 332,
     "metadata": {},
     "output_type": "execute_result"
    }
   ],
   "source": [
    "#\t문제\t23\n",
    "#\t'23년 총 매출액이 큰 제품의\t23년 판매수를 구하시오.\n",
    "#\t(매출액\t=\t판매수*개당수익)\n",
    "\n",
    "df=pd.DataFrame( {\n",
    "'날짜': ['20220103','20220105', '20230105','20230127','20220203', '20220205','20230210','20230223','20230312','20230422','20220505','20230511'],\n",
    "'제품' : ['A','B', 'A', 'B', 'A', 'B','A', 'B', 'A', 'B', 'A', 'A'],\n",
    "'판매수': [3, 5, 5, 10, 10, 10, 15, 15, 20, 25, 30, 40],\n",
    "'개당수익': [300, 400, 500, 600, 400, 500, 500, 600, 600, 700, 600, 600] })\n",
    "\n",
    "df['매출액'] = df['판매수'] * df['개당수익']\n",
    "\n",
    "df['날짜'] = pd.to_datetime(df['날짜'])\n",
    "cond = df['날짜'].between('20230101', '20231231')\n",
    "df[cond].groupby('제품').sum().sort_values('매출액', ascending=False).iloc[0]['판매수'] # A\n"
   ]
  },
  {
   "cell_type": "code",
   "execution_count": 339,
   "id": "09ea4b0b",
   "metadata": {},
   "outputs": [
    {
     "data": {
      "text/plain": [
       "4"
      ]
     },
     "execution_count": 339,
     "metadata": {},
     "output_type": "execute_result"
    }
   ],
   "source": [
    "#\t문제\t24\n",
    "#\t매출액이\t4천원 초과,\t1만원 미만인 데이터 수를 출력하시오.\t\n",
    "#\t(매출액\t=\t판매수*개당수익)\n",
    "\n",
    "df=pd.DataFrame( {\n",
    "'날짜': ['20220103','20220105', '20230105','20230127','20220203', '20220205','20230210','20230223','20230312','20230422','20220505','20230511'],\n",
    "'제품' : ['A','B', 'A', 'B', 'A', 'B','A', 'B', 'A', 'B', 'A', 'A'],\n",
    "'판매수': [3, 5, 5, 10, 10, 10, 15, 15, 20, 25, 30, 40],\n",
    "'개당수익': [300, 400, 500, 600, 400, 500, 500, 600, 600, 700, 600, 600] })\n",
    "\n",
    "# 1. 매출액 4천원 초과\n",
    "# 2. 매출액 1만원 미만\n",
    "# 3. 데이터 수를 구하라\n",
    "\n",
    "df['매출액'] = df['판매수'] * df['개당수익']\n",
    "\n",
    "cond1 = df['매출액'] > 4000\n",
    "cond2 = df['매출액'] < 10000\n",
    "\n",
    "len(df[cond1 & cond2])"
   ]
  },
  {
   "cell_type": "code",
   "execution_count": 349,
   "id": "d132ba44",
   "metadata": {},
   "outputs": [
    {
     "data": {
      "text/plain": [
       "25"
      ]
     },
     "execution_count": 349,
     "metadata": {},
     "output_type": "execute_result"
    }
   ],
   "source": [
    "#\t문제\t25\n",
    "#\t23년\t9월\t24일\t16:00~22:00\t사이에 전체 제품의 판매수를 구하시오.\t\n",
    "#\t시간 데이터 만들기(수정금지)\n",
    "df\t=\tpd.DataFrame( {\n",
    "\t\t\t\t'물품' : ['A', 'B', 'A', 'B', 'A', 'B', 'A'],\n",
    "\t\t\t\t'판매수': [5, 10, 15, 15, 20, 25, 40],\n",
    "\t\t\t\t'개당수익': [500, 600, 500, 600, 600, 700, 600] })\n",
    "time\t=\tpd.date_range('2023-09-24\t12:25:00','2023-09-25\t14:45:30',\tperiods= 7)\n",
    "df['time']=time\n",
    "df\t=\tdf[ ['time','물품','판매수','개당수익']]\n",
    "\n",
    "df['time'] = pd.to_datetime(df['time'])\n",
    "df[df['time'].between('2023-09-24 16:00:00', '2023-09-24 22:00:00')]['판매수'].sum()"
   ]
  },
  {
   "cell_type": "code",
   "execution_count": 355,
   "id": "25a9ca17",
   "metadata": {},
   "outputs": [
    {
     "data": {
      "text/html": [
       "<div>\n",
       "<style scoped>\n",
       "    .dataframe tbody tr th:only-of-type {\n",
       "        vertical-align: middle;\n",
       "    }\n",
       "\n",
       "    .dataframe tbody tr th {\n",
       "        vertical-align: top;\n",
       "    }\n",
       "\n",
       "    .dataframe thead th {\n",
       "        text-align: right;\n",
       "    }\n",
       "</style>\n",
       "<table border=\"1\" class=\"dataframe\">\n",
       "  <thead>\n",
       "    <tr style=\"text-align: right;\">\n",
       "      <th></th>\n",
       "      <th>time</th>\n",
       "      <th>물품</th>\n",
       "      <th>판매수</th>\n",
       "      <th>개당수익</th>\n",
       "    </tr>\n",
       "  </thead>\n",
       "  <tbody>\n",
       "    <tr>\n",
       "      <th>0</th>\n",
       "      <td>2023-09-24 12:25:00</td>\n",
       "      <td>A</td>\n",
       "      <td>5</td>\n",
       "      <td>500</td>\n",
       "    </tr>\n",
       "    <tr>\n",
       "      <th>1</th>\n",
       "      <td>2023-09-24 16:48:25</td>\n",
       "      <td>B</td>\n",
       "      <td>10</td>\n",
       "      <td>600</td>\n",
       "    </tr>\n",
       "    <tr>\n",
       "      <th>2</th>\n",
       "      <td>2023-09-24 21:11:50</td>\n",
       "      <td>A</td>\n",
       "      <td>15</td>\n",
       "      <td>500</td>\n",
       "    </tr>\n",
       "    <tr>\n",
       "      <th>3</th>\n",
       "      <td>2023-09-25 01:35:15</td>\n",
       "      <td>B</td>\n",
       "      <td>15</td>\n",
       "      <td>600</td>\n",
       "    </tr>\n",
       "    <tr>\n",
       "      <th>4</th>\n",
       "      <td>2023-09-25 05:58:40</td>\n",
       "      <td>A</td>\n",
       "      <td>20</td>\n",
       "      <td>600</td>\n",
       "    </tr>\n",
       "    <tr>\n",
       "      <th>5</th>\n",
       "      <td>2023-09-25 10:22:05</td>\n",
       "      <td>B</td>\n",
       "      <td>25</td>\n",
       "      <td>700</td>\n",
       "    </tr>\n",
       "    <tr>\n",
       "      <th>6</th>\n",
       "      <td>2023-09-25 14:45:30</td>\n",
       "      <td>A</td>\n",
       "      <td>40</td>\n",
       "      <td>600</td>\n",
       "    </tr>\n",
       "  </tbody>\n",
       "</table>\n",
       "</div>"
      ],
      "text/plain": [
       "                 time 물품  판매수  개당수익\n",
       "0 2023-09-24 12:25:00  A    5   500\n",
       "1 2023-09-24 16:48:25  B   10   600\n",
       "2 2023-09-24 21:11:50  A   15   500\n",
       "3 2023-09-25 01:35:15  B   15   600\n",
       "4 2023-09-25 05:58:40  A   20   600\n",
       "5 2023-09-25 10:22:05  B   25   700\n",
       "6 2023-09-25 14:45:30  A   40   600"
      ]
     },
     "execution_count": 355,
     "metadata": {},
     "output_type": "execute_result"
    }
   ],
   "source": [
    "#\t문제\t26\n",
    "#\t9월\t25일\t00:00~12:00\t까지의\tB물품의 매출액 총합을 구하시오.\n",
    "#\t(매출액\t=\t판매수*개당수익)\n",
    "#\t시간 데이터 만들기(수정금지)\n",
    "df\t=\tpd.DataFrame( {\n",
    "\t\t\t\t'물품' : ['A', 'B', 'A', 'B', 'A', 'B', 'A'],\n",
    "\t\t\t\t'판매수': [5, 10, 15, 15, 20, 25, 40],\n",
    "\t\t\t\t'개당수익': [500, 600, 500, 600, 600, 700, 600] } )\n",
    "df['time'] =\tpd.date_range('2023-09-24\t12:25:00','2023-09-25\t14:45:30',\tperiods= 7)\n",
    "df\t=\tdf[ ['time','물품','판매수','개당수익'] ]\n",
    "df\t=\tdf.set_index('time',\tdrop=True)\n",
    "df\n",
    "\n",
    "df = df.reset_index()\n",
    "df['time'].between('2023-09-25 00:00:00', '2023-09-25 12:00:00')"
   ]
  },
  {
   "cell_type": "code",
   "execution_count": null,
   "id": "596843d2",
   "metadata": {},
   "outputs": [],
   "source": []
  },
  {
   "cell_type": "code",
   "execution_count": null,
   "id": "3fd1f95a",
   "metadata": {},
   "outputs": [],
   "source": []
  },
  {
   "cell_type": "code",
   "execution_count": null,
   "id": "fd32da36",
   "metadata": {},
   "outputs": [],
   "source": []
  },
  {
   "cell_type": "code",
   "execution_count": null,
   "id": "e0b61c1e",
   "metadata": {},
   "outputs": [],
   "source": []
  },
  {
   "cell_type": "code",
   "execution_count": null,
   "id": "4a446055",
   "metadata": {},
   "outputs": [],
   "source": []
  },
  {
   "cell_type": "code",
   "execution_count": null,
   "id": "7b781bb9",
   "metadata": {},
   "outputs": [],
   "source": []
  },
  {
   "cell_type": "code",
   "execution_count": null,
   "id": "6494e744",
   "metadata": {},
   "outputs": [],
   "source": []
  },
  {
   "cell_type": "code",
   "execution_count": null,
   "id": "b070f50a",
   "metadata": {},
   "outputs": [],
   "source": []
  },
  {
   "cell_type": "code",
   "execution_count": null,
   "id": "6bbb9e00",
   "metadata": {},
   "outputs": [],
   "source": []
  },
  {
   "cell_type": "code",
   "execution_count": null,
   "id": "cc6cacb2",
   "metadata": {},
   "outputs": [],
   "source": []
  }
 ],
 "metadata": {
  "kernelspec": {
   "display_name": "Python 3 (ipykernel)",
   "language": "python",
   "name": "python3"
  },
  "language_info": {
   "codemirror_mode": {
    "name": "ipython",
    "version": 3
   },
   "file_extension": ".py",
   "mimetype": "text/x-python",
   "name": "python",
   "nbconvert_exporter": "python",
   "pygments_lexer": "ipython3",
   "version": "3.11.4"
  }
 },
 "nbformat": 4,
 "nbformat_minor": 5
}
