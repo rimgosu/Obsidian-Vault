{
 "cells": [
  {
   "cell_type": "code",
   "execution_count": 1,
   "id": "440b1e67",
   "metadata": {},
   "outputs": [],
   "source": [
    "import pandas as pd\n",
    "import numpy as np"
   ]
  },
  {
   "cell_type": "code",
   "execution_count": null,
   "id": "8a6246b9",
   "metadata": {},
   "outputs": [],
   "source": []
  },
  {
   "cell_type": "code",
   "execution_count": 2,
   "id": "befd70f5",
   "metadata": {},
   "outputs": [],
   "source": [
    "#\t문제\t1\n",
    "#\tmpg\t변수의 제\t1사분위수를 구하고 반올림하여 정수값으로 출력하시오.\n",
    "df\t=\tpd.read_csv(\"mtcars.csv\")"
   ]
  },
  {
   "cell_type": "code",
   "execution_count": 3,
   "id": "34b20a91",
   "metadata": {},
   "outputs": [
    {
     "data": {
      "text/html": [
       "<div>\n",
       "<style scoped>\n",
       "    .dataframe tbody tr th:only-of-type {\n",
       "        vertical-align: middle;\n",
       "    }\n",
       "\n",
       "    .dataframe tbody tr th {\n",
       "        vertical-align: top;\n",
       "    }\n",
       "\n",
       "    .dataframe thead th {\n",
       "        text-align: right;\n",
       "    }\n",
       "</style>\n",
       "<table border=\"1\" class=\"dataframe\">\n",
       "  <thead>\n",
       "    <tr style=\"text-align: right;\">\n",
       "      <th></th>\n",
       "      <th>car</th>\n",
       "      <th>mpg</th>\n",
       "      <th>cyl</th>\n",
       "      <th>disp</th>\n",
       "      <th>hp</th>\n",
       "      <th>drat</th>\n",
       "      <th>wt</th>\n",
       "      <th>qsec</th>\n",
       "      <th>vs</th>\n",
       "      <th>am</th>\n",
       "      <th>gear</th>\n",
       "      <th>carb</th>\n",
       "    </tr>\n",
       "  </thead>\n",
       "  <tbody>\n",
       "    <tr>\n",
       "      <th>0</th>\n",
       "      <td>Mazda RX4</td>\n",
       "      <td>21.0</td>\n",
       "      <td>6</td>\n",
       "      <td>160.0</td>\n",
       "      <td>110</td>\n",
       "      <td>3.90</td>\n",
       "      <td>2.620</td>\n",
       "      <td>16.46</td>\n",
       "      <td>0</td>\n",
       "      <td>1</td>\n",
       "      <td>4</td>\n",
       "      <td>4</td>\n",
       "    </tr>\n",
       "    <tr>\n",
       "      <th>1</th>\n",
       "      <td>Mazda RX4 Wag</td>\n",
       "      <td>21.0</td>\n",
       "      <td>6</td>\n",
       "      <td>160.0</td>\n",
       "      <td>110</td>\n",
       "      <td>3.90</td>\n",
       "      <td>2.875</td>\n",
       "      <td>17.02</td>\n",
       "      <td>0</td>\n",
       "      <td>1</td>\n",
       "      <td>4</td>\n",
       "      <td>4</td>\n",
       "    </tr>\n",
       "    <tr>\n",
       "      <th>2</th>\n",
       "      <td>Datsun 710</td>\n",
       "      <td>22.8</td>\n",
       "      <td>4</td>\n",
       "      <td>108.0</td>\n",
       "      <td>93</td>\n",
       "      <td>3.85</td>\n",
       "      <td>2.320</td>\n",
       "      <td>18.61</td>\n",
       "      <td>1</td>\n",
       "      <td>1</td>\n",
       "      <td>4</td>\n",
       "      <td>1</td>\n",
       "    </tr>\n",
       "    <tr>\n",
       "      <th>3</th>\n",
       "      <td>Hornet 4 Drive</td>\n",
       "      <td>21.4</td>\n",
       "      <td>6</td>\n",
       "      <td>258.0</td>\n",
       "      <td>110</td>\n",
       "      <td>3.08</td>\n",
       "      <td>3.215</td>\n",
       "      <td>19.44</td>\n",
       "      <td>1</td>\n",
       "      <td>0</td>\n",
       "      <td>3</td>\n",
       "      <td>1</td>\n",
       "    </tr>\n",
       "    <tr>\n",
       "      <th>4</th>\n",
       "      <td>Hornet Sportabout</td>\n",
       "      <td>18.7</td>\n",
       "      <td>8</td>\n",
       "      <td>360.0</td>\n",
       "      <td>175</td>\n",
       "      <td>3.15</td>\n",
       "      <td>3.440</td>\n",
       "      <td>17.02</td>\n",
       "      <td>0</td>\n",
       "      <td>0</td>\n",
       "      <td>3</td>\n",
       "      <td>2</td>\n",
       "    </tr>\n",
       "  </tbody>\n",
       "</table>\n",
       "</div>"
      ],
      "text/plain": [
       "                 car   mpg  cyl   disp   hp  drat     wt   qsec  vs  am  gear  \\\n",
       "0          Mazda RX4  21.0    6  160.0  110  3.90  2.620  16.46   0   1     4   \n",
       "1      Mazda RX4 Wag  21.0    6  160.0  110  3.90  2.875  17.02   0   1     4   \n",
       "2         Datsun 710  22.8    4  108.0   93  3.85  2.320  18.61   1   1     4   \n",
       "3     Hornet 4 Drive  21.4    6  258.0  110  3.08  3.215  19.44   1   0     3   \n",
       "4  Hornet Sportabout  18.7    8  360.0  175  3.15  3.440  17.02   0   0     3   \n",
       "\n",
       "   carb  \n",
       "0     4  \n",
       "1     4  \n",
       "2     1  \n",
       "3     1  \n",
       "4     2  "
      ]
     },
     "execution_count": 3,
     "metadata": {},
     "output_type": "execute_result"
    }
   ],
   "source": [
    "df.head()"
   ]
  },
  {
   "cell_type": "code",
   "execution_count": 5,
   "id": "870f5b61",
   "metadata": {},
   "outputs": [
    {
     "name": "stdout",
     "output_type": "stream",
     "text": [
      "15\n"
     ]
    }
   ],
   "source": [
    "q1 = df['mpg'].quantile(.25)\n",
    "print(round(q1))"
   ]
  },
  {
   "cell_type": "code",
   "execution_count": null,
   "id": "b1ea33c6",
   "metadata": {},
   "outputs": [],
   "source": []
  },
  {
   "cell_type": "code",
   "execution_count": 6,
   "id": "fefabefd",
   "metadata": {},
   "outputs": [],
   "source": [
    "#\t문제\t2\n",
    "#\tmpg\t값이\t19이상\t21이하인 데이터의 수를 구하시오.\n",
    "df\t=\tpd.read_csv(\"mtcars.csv\")"
   ]
  },
  {
   "cell_type": "code",
   "execution_count": 9,
   "id": "410fef9f",
   "metadata": {},
   "outputs": [],
   "source": [
    "cond1 = df['mpg'] >=19\n",
    "cond2 = df['mpg'] <=21"
   ]
  },
  {
   "cell_type": "code",
   "execution_count": 11,
   "id": "189761fe",
   "metadata": {},
   "outputs": [
    {
     "data": {
      "text/plain": [
       "5"
      ]
     },
     "execution_count": 11,
     "metadata": {},
     "output_type": "execute_result"
    }
   ],
   "source": [
    "len(df[cond1 & cond2])"
   ]
  },
  {
   "cell_type": "code",
   "execution_count": 12,
   "id": "c92488a3",
   "metadata": {},
   "outputs": [],
   "source": [
    "#\t문제\t3\n",
    "#\thp\t변수의\tIQR\t값을 구하시오.\n",
    "df\t=\tpd.read_csv(\"mtcars.csv\")\n"
   ]
  },
  {
   "cell_type": "code",
   "execution_count": 14,
   "id": "375a81f5",
   "metadata": {},
   "outputs": [],
   "source": [
    "q1 = df['hp'].quantile(.25)\n",
    "q3 = df['hp'].quantile(.75)\n",
    "iqr = q3-q1"
   ]
  },
  {
   "cell_type": "code",
   "execution_count": 15,
   "id": "ed0f2986",
   "metadata": {},
   "outputs": [
    {
     "name": "stdout",
     "output_type": "stream",
     "text": [
      "83.5\n"
     ]
    }
   ],
   "source": [
    "print(iqr)"
   ]
  },
  {
   "cell_type": "code",
   "execution_count": null,
   "id": "8441c423",
   "metadata": {},
   "outputs": [],
   "source": []
  },
  {
   "cell_type": "code",
   "execution_count": 16,
   "id": "25ff31a0",
   "metadata": {},
   "outputs": [],
   "source": [
    "#\t문제\t4\n",
    "#\twt\t변수의 상위\t10개 값의 총합을 구하여 소수점을 버리고 정수로 출력하시오.\t\n",
    "df\t=\tpd.read_csv(\"mtcars.csv\")\n"
   ]
  },
  {
   "cell_type": "code",
   "execution_count": 23,
   "id": "8605d696",
   "metadata": {
    "collapsed": true
   },
   "outputs": [
    {
     "name": "stdout",
     "output_type": "stream",
     "text": [
      "Help on method sort_values in module pandas.core.frame:\n",
      "\n",
      "sort_values(by: 'IndexLabel', *, axis: 'Axis' = 0, ascending: 'bool | list[bool] | tuple[bool, ...]' = True, inplace: 'bool' = False, kind: 'str' = 'quicksort', na_position: 'str' = 'last', ignore_index: 'bool' = False, key: 'ValueKeyFunc' = None) -> 'DataFrame | None' method of pandas.core.frame.DataFrame instance\n",
      "    Sort by the values along either axis.\n",
      "    \n",
      "    Parameters\n",
      "    ----------\n",
      "            by : str or list of str\n",
      "                Name or list of names to sort by.\n",
      "    \n",
      "                - if `axis` is 0 or `'index'` then `by` may contain index\n",
      "                  levels and/or column labels.\n",
      "                - if `axis` is 1 or `'columns'` then `by` may contain column\n",
      "                  levels and/or index labels.\n",
      "    axis : {0 or 'index', 1 or 'columns'}, default 0\n",
      "         Axis to be sorted.\n",
      "    ascending : bool or list of bool, default True\n",
      "         Sort ascending vs. descending. Specify list for multiple sort\n",
      "         orders.  If this is a list of bools, must match the length of\n",
      "         the by.\n",
      "    inplace : bool, default False\n",
      "         If True, perform operation in-place.\n",
      "    kind : {'quicksort', 'mergesort', 'heapsort', 'stable'}, default 'quicksort'\n",
      "         Choice of sorting algorithm. See also :func:`numpy.sort` for more\n",
      "         information. `mergesort` and `stable` are the only stable algorithms. For\n",
      "         DataFrames, this option is only applied when sorting on a single\n",
      "         column or label.\n",
      "    na_position : {'first', 'last'}, default 'last'\n",
      "         Puts NaNs at the beginning if `first`; `last` puts NaNs at the\n",
      "         end.\n",
      "    ignore_index : bool, default False\n",
      "         If True, the resulting axis will be labeled 0, 1, …, n - 1.\n",
      "    \n",
      "         .. versionadded:: 1.0.0\n",
      "    \n",
      "    key : callable, optional\n",
      "        Apply the key function to the values\n",
      "        before sorting. This is similar to the `key` argument in the\n",
      "        builtin :meth:`sorted` function, with the notable difference that\n",
      "        this `key` function should be *vectorized*. It should expect a\n",
      "        ``Series`` and return a Series with the same shape as the input.\n",
      "        It will be applied to each column in `by` independently.\n",
      "    \n",
      "        .. versionadded:: 1.1.0\n",
      "    \n",
      "    Returns\n",
      "    -------\n",
      "    DataFrame or None\n",
      "        DataFrame with sorted values or None if ``inplace=True``.\n",
      "    \n",
      "    See Also\n",
      "    --------\n",
      "    DataFrame.sort_index : Sort a DataFrame by the index.\n",
      "    Series.sort_values : Similar method for a Series.\n",
      "    \n",
      "    Examples\n",
      "    --------\n",
      "    >>> df = pd.DataFrame({\n",
      "    ...     'col1': ['A', 'A', 'B', np.nan, 'D', 'C'],\n",
      "    ...     'col2': [2, 1, 9, 8, 7, 4],\n",
      "    ...     'col3': [0, 1, 9, 4, 2, 3],\n",
      "    ...     'col4': ['a', 'B', 'c', 'D', 'e', 'F']\n",
      "    ... })\n",
      "    >>> df\n",
      "      col1  col2  col3 col4\n",
      "    0    A     2     0    a\n",
      "    1    A     1     1    B\n",
      "    2    B     9     9    c\n",
      "    3  NaN     8     4    D\n",
      "    4    D     7     2    e\n",
      "    5    C     4     3    F\n",
      "    \n",
      "    Sort by col1\n",
      "    \n",
      "    >>> df.sort_values(by=['col1'])\n",
      "      col1  col2  col3 col4\n",
      "    0    A     2     0    a\n",
      "    1    A     1     1    B\n",
      "    2    B     9     9    c\n",
      "    5    C     4     3    F\n",
      "    4    D     7     2    e\n",
      "    3  NaN     8     4    D\n",
      "    \n",
      "    Sort by multiple columns\n",
      "    \n",
      "    >>> df.sort_values(by=['col1', 'col2'])\n",
      "      col1  col2  col3 col4\n",
      "    1    A     1     1    B\n",
      "    0    A     2     0    a\n",
      "    2    B     9     9    c\n",
      "    5    C     4     3    F\n",
      "    4    D     7     2    e\n",
      "    3  NaN     8     4    D\n",
      "    \n",
      "    Sort Descending\n",
      "    \n",
      "    >>> df.sort_values(by='col1', ascending=False)\n",
      "      col1  col2  col3 col4\n",
      "    4    D     7     2    e\n",
      "    5    C     4     3    F\n",
      "    2    B     9     9    c\n",
      "    0    A     2     0    a\n",
      "    1    A     1     1    B\n",
      "    3  NaN     8     4    D\n",
      "    \n",
      "    Putting NAs first\n",
      "    \n",
      "    >>> df.sort_values(by='col1', ascending=False, na_position='first')\n",
      "      col1  col2  col3 col4\n",
      "    3  NaN     8     4    D\n",
      "    4    D     7     2    e\n",
      "    5    C     4     3    F\n",
      "    2    B     9     9    c\n",
      "    0    A     2     0    a\n",
      "    1    A     1     1    B\n",
      "    \n",
      "    Sorting with a key function\n",
      "    \n",
      "    >>> df.sort_values(by='col4', key=lambda col: col.str.lower())\n",
      "       col1  col2  col3 col4\n",
      "    0    A     2     0    a\n",
      "    1    A     1     1    B\n",
      "    2    B     9     9    c\n",
      "    3  NaN     8     4    D\n",
      "    4    D     7     2    e\n",
      "    5    C     4     3    F\n",
      "    \n",
      "    Natural sort with the key argument,\n",
      "    using the `natsort <https://github.com/SethMMorton/natsort>` package.\n",
      "    \n",
      "    >>> df = pd.DataFrame({\n",
      "    ...    \"time\": ['0hr', '128hr', '72hr', '48hr', '96hr'],\n",
      "    ...    \"value\": [10, 20, 30, 40, 50]\n",
      "    ... })\n",
      "    >>> df\n",
      "        time  value\n",
      "    0    0hr     10\n",
      "    1  128hr     20\n",
      "    2   72hr     30\n",
      "    3   48hr     40\n",
      "    4   96hr     50\n",
      "    >>> from natsort import index_natsorted\n",
      "    >>> df.sort_values(\n",
      "    ...    by=\"time\",\n",
      "    ...    key=lambda x: np.argsort(index_natsorted(df[\"time\"]))\n",
      "    ... )\n",
      "        time  value\n",
      "    0    0hr     10\n",
      "    3   48hr     40\n",
      "    2   72hr     30\n",
      "    4   96hr     50\n",
      "    1  128hr     20\n",
      "\n"
     ]
    }
   ],
   "source": [
    "# df.sort_values()\n",
    "help(df.sort_values)"
   ]
  },
  {
   "cell_type": "code",
   "execution_count": 26,
   "id": "f633b75c",
   "metadata": {},
   "outputs": [],
   "source": [
    "df = df.sort_values(by=['wt'], ascending=False)"
   ]
  },
  {
   "cell_type": "code",
   "execution_count": 28,
   "id": "4c9216fc",
   "metadata": {},
   "outputs": [
    {
     "name": "stdout",
     "output_type": "stream",
     "text": [
      "42\n"
     ]
    }
   ],
   "source": [
    "print(round(df['wt'].head(10).sum()))"
   ]
  },
  {
   "cell_type": "code",
   "execution_count": null,
   "id": "9731d962",
   "metadata": {},
   "outputs": [],
   "source": []
  },
  {
   "cell_type": "code",
   "execution_count": 29,
   "id": "ebde4df6",
   "metadata": {},
   "outputs": [],
   "source": [
    "# 문제5\n",
    "#\t전체 자동차에서\tcyl가\t6인 비율이 얼마인지 반올림하여 소수점 첫째자리까지 출력하시오.\n",
    "df\t=\tpd.read_csv(\"mtcars.csv\")"
   ]
  },
  {
   "cell_type": "code",
   "execution_count": 35,
   "id": "62855299",
   "metadata": {},
   "outputs": [
    {
     "data": {
      "text/plain": [
       "0.2"
      ]
     },
     "execution_count": 35,
     "metadata": {},
     "output_type": "execute_result"
    }
   ],
   "source": [
    "cond = df['cyl'] == 6\n",
    "round(len(df[cond]) / len(df), 1)"
   ]
  },
  {
   "cell_type": "code",
   "execution_count": null,
   "id": "b20310c9",
   "metadata": {},
   "outputs": [],
   "source": []
  },
  {
   "cell_type": "code",
   "execution_count": 36,
   "id": "7499b7af",
   "metadata": {},
   "outputs": [],
   "source": [
    "#\t문제\t6\n",
    "#\t첫번째 행부터 순서대로\t10개 뽑은 후\tmpg\t열의 평균값을 반올림하여 정수로 출력하시오.\t\n",
    "df\t=\tpd.read_csv(\"mtcars.csv\")"
   ]
  },
  {
   "cell_type": "code",
   "execution_count": 40,
   "id": "211cbae4",
   "metadata": {},
   "outputs": [
    {
     "name": "stdout",
     "output_type": "stream",
     "text": [
      "20\n"
     ]
    }
   ],
   "source": [
    "print(round(df.head(10)['mpg'].mean()))"
   ]
  },
  {
   "cell_type": "code",
   "execution_count": null,
   "id": "a76df836",
   "metadata": {},
   "outputs": [],
   "source": []
  },
  {
   "cell_type": "code",
   "execution_count": 41,
   "id": "dbf64ff6",
   "metadata": {},
   "outputs": [],
   "source": [
    "#\t문제\t7\n",
    "#\t첫번째 행부터 순서대로\t50%까지 데이터를 뽑아\twt\t변수의 중앙값을 구하시오.\n",
    "df\t=\tpd.read_csv(\"mtcars.csv\")"
   ]
  },
  {
   "cell_type": "code",
   "execution_count": 43,
   "id": "1cc31055",
   "metadata": {},
   "outputs": [
    {
     "data": {
      "text/plain": [
       "3.44"
      ]
     },
     "execution_count": 43,
     "metadata": {},
     "output_type": "execute_result"
    }
   ],
   "source": [
    "df.head(len(df)//2)['wt'].median()"
   ]
  },
  {
   "cell_type": "code",
   "execution_count": null,
   "id": "b14ee3d8",
   "metadata": {},
   "outputs": [],
   "source": []
  },
  {
   "cell_type": "code",
   "execution_count": 45,
   "id": "e6c5179b",
   "metadata": {},
   "outputs": [],
   "source": [
    "#\t문제\t8\t\n",
    "#\t결측값이 있는 데이터의 수를 출력하시오.\t\n",
    "#\t데이터 생성(수정금지)\n",
    "df = pd.DataFrame( {\n",
    "    '날짜': ['20220103','20220105', None,'20230127','20220203', '20220205','20230210','20230223','20230312','20230422','20220505','20230511'],\n",
    "    '제품' : ['A','B', None, 'B', 'A', None,'A', 'B', 'A', 'B', 'A', 'A'],\n",
    "    '판매수': [3, None, 5, 10, 10, 10, 15, 15, 20, None, 30, 40], \n",
    "    '개당수익': [300, 400, 500, 600, 400, 500, 500, 600, 600, 700, 600, 600] })"
   ]
  },
  {
   "cell_type": "code",
   "execution_count": 50,
   "id": "60080616",
   "metadata": {},
   "outputs": [
    {
     "name": "stdout",
     "output_type": "stream",
     "text": [
      "5\n"
     ]
    }
   ],
   "source": [
    "print(df.isnull().sum().sum())"
   ]
  },
  {
   "cell_type": "code",
   "execution_count": null,
   "id": "e7408e14",
   "metadata": {},
   "outputs": [],
   "source": []
  },
  {
   "cell_type": "code",
   "execution_count": 51,
   "id": "ff9f6b17",
   "metadata": {},
   "outputs": [],
   "source": [
    "#\t문제\t9\n",
    "#\t'판매수'\t컬럼의 결측값을 판매수의 중앙값으로 대체하고\n",
    "#\t\t판매수의 평균값을 반올림하여 정수로 출력하시오.\t\n",
    "\n",
    "df = pd.DataFrame( {\n",
    "    '날짜': ['20220103','20220105', None,'20230127','20220203', '20220205','20230210','20230223','20230312','20230422','20220505','20230511'],\n",
    "    '제품' : ['A','B', None, 'B', 'A', None,'A', 'B', 'A', 'B', 'A', 'A'],\n",
    "    '판매수': [3, None, 5, 10, 10, 10, 15, 15, 20, None, 30, 40], \n",
    "    '개당수익': [300, 400, 500, 600, 400, 500, 500, 600, 600, 700, 600, 600] })\n"
   ]
  },
  {
   "cell_type": "code",
   "execution_count": 57,
   "id": "f896761f",
   "metadata": {},
   "outputs": [
    {
     "data": {
      "text/plain": [
       "15"
      ]
     },
     "execution_count": 57,
     "metadata": {},
     "output_type": "execute_result"
    }
   ],
   "source": [
    "sell_median = df['판매수'].median()\n",
    "\n",
    "df['판매수'] = df['판매수'].fillna(sell_median)\n",
    "round(df['판매수'].mean())"
   ]
  },
  {
   "cell_type": "code",
   "execution_count": null,
   "id": "84842434",
   "metadata": {},
   "outputs": [],
   "source": []
  },
  {
   "cell_type": "code",
   "execution_count": 69,
   "id": "59daff14",
   "metadata": {},
   "outputs": [],
   "source": [
    "#\t문제\t10\n",
    "#\t판매수 컬럼에 결측치가 있는 행을 제거하고,\n",
    "#\t첫번째 행부터 순서대로\t50%까지의 데이터를 추출하여\n",
    "#\t판매수 변수의\tQ1(제1사분위수)값을 반올림하여 정수로 출력하시오\n",
    "\n",
    "df = pd.DataFrame( {\n",
    "    '날짜': ['20220103','20220105', None,'20230127','20220203', '20220205','20230210','20230223','20230312','20230422','20220505','20230511'],\n",
    "    '제품' : ['A','B', None, 'B', 'A', None,'A', 'B', 'A', 'B', 'A', 'A'],\n",
    "    '판매수': [3, None, 5, 10, 10, 10, 15, 15, 20, None, 30, 40], \n",
    "    '개당수익': [300, 400, 500, 600, 400, 500, 500, 600, 600, 700, 600, 600] })"
   ]
  },
  {
   "cell_type": "code",
   "execution_count": 82,
   "id": "03febfc8",
   "metadata": {
    "collapsed": true
   },
   "outputs": [
    {
     "ename": "KeyError",
     "evalue": "'판매수'",
     "output_type": "error",
     "traceback": [
      "\u001b[1;31m---------------------------------------------------------------------------\u001b[0m",
      "\u001b[1;31mKeyError\u001b[0m                                  Traceback (most recent call last)",
      "File \u001b[1;32mC:\\ProgramData\\anaconda3\\Lib\\site-packages\\pandas\\core\\indexes\\base.py:3802\u001b[0m, in \u001b[0;36mIndex.get_loc\u001b[1;34m(self, key, method, tolerance)\u001b[0m\n\u001b[0;32m   3801\u001b[0m \u001b[38;5;28;01mtry\u001b[39;00m:\n\u001b[1;32m-> 3802\u001b[0m     \u001b[38;5;28;01mreturn\u001b[39;00m \u001b[38;5;28mself\u001b[39m\u001b[38;5;241m.\u001b[39m_engine\u001b[38;5;241m.\u001b[39mget_loc(casted_key)\n\u001b[0;32m   3803\u001b[0m \u001b[38;5;28;01mexcept\u001b[39;00m \u001b[38;5;167;01mKeyError\u001b[39;00m \u001b[38;5;28;01mas\u001b[39;00m err:\n",
      "File \u001b[1;32mC:\\ProgramData\\anaconda3\\Lib\\site-packages\\pandas\\_libs\\index.pyx:138\u001b[0m, in \u001b[0;36mpandas._libs.index.IndexEngine.get_loc\u001b[1;34m()\u001b[0m\n",
      "File \u001b[1;32mC:\\ProgramData\\anaconda3\\Lib\\site-packages\\pandas\\_libs\\index.pyx:146\u001b[0m, in \u001b[0;36mpandas._libs.index.IndexEngine.get_loc\u001b[1;34m()\u001b[0m\n",
      "File \u001b[1;32mpandas\\_libs\\index_class_helper.pxi:49\u001b[0m, in \u001b[0;36mpandas._libs.index.Int64Engine._check_type\u001b[1;34m()\u001b[0m\n",
      "\u001b[1;31mKeyError\u001b[0m: '판매수'",
      "\nThe above exception was the direct cause of the following exception:\n",
      "\u001b[1;31mKeyError\u001b[0m                                  Traceback (most recent call last)",
      "Cell \u001b[1;32mIn[82], line 1\u001b[0m\n\u001b[1;32m----> 1\u001b[0m df \u001b[38;5;241m=\u001b[39m df[\u001b[38;5;124m'\u001b[39m\u001b[38;5;124m판매수\u001b[39m\u001b[38;5;124m'\u001b[39m]\u001b[38;5;241m.\u001b[39mdropna()\n\u001b[0;32m      2\u001b[0m df\n",
      "File \u001b[1;32mC:\\ProgramData\\anaconda3\\Lib\\site-packages\\pandas\\core\\series.py:981\u001b[0m, in \u001b[0;36mSeries.__getitem__\u001b[1;34m(self, key)\u001b[0m\n\u001b[0;32m    978\u001b[0m     \u001b[38;5;28;01mreturn\u001b[39;00m \u001b[38;5;28mself\u001b[39m\u001b[38;5;241m.\u001b[39m_values[key]\n\u001b[0;32m    980\u001b[0m \u001b[38;5;28;01melif\u001b[39;00m key_is_scalar:\n\u001b[1;32m--> 981\u001b[0m     \u001b[38;5;28;01mreturn\u001b[39;00m \u001b[38;5;28mself\u001b[39m\u001b[38;5;241m.\u001b[39m_get_value(key)\n\u001b[0;32m    983\u001b[0m \u001b[38;5;28;01mif\u001b[39;00m is_hashable(key):\n\u001b[0;32m    984\u001b[0m     \u001b[38;5;66;03m# Otherwise index.get_value will raise InvalidIndexError\u001b[39;00m\n\u001b[0;32m    985\u001b[0m     \u001b[38;5;28;01mtry\u001b[39;00m:\n\u001b[0;32m    986\u001b[0m         \u001b[38;5;66;03m# For labels that don't resolve as scalars like tuples and frozensets\u001b[39;00m\n",
      "File \u001b[1;32mC:\\ProgramData\\anaconda3\\Lib\\site-packages\\pandas\\core\\series.py:1089\u001b[0m, in \u001b[0;36mSeries._get_value\u001b[1;34m(self, label, takeable)\u001b[0m\n\u001b[0;32m   1086\u001b[0m     \u001b[38;5;28;01mreturn\u001b[39;00m \u001b[38;5;28mself\u001b[39m\u001b[38;5;241m.\u001b[39m_values[label]\n\u001b[0;32m   1088\u001b[0m \u001b[38;5;66;03m# Similar to Index.get_value, but we do not fall back to positional\u001b[39;00m\n\u001b[1;32m-> 1089\u001b[0m loc \u001b[38;5;241m=\u001b[39m \u001b[38;5;28mself\u001b[39m\u001b[38;5;241m.\u001b[39mindex\u001b[38;5;241m.\u001b[39mget_loc(label)\n\u001b[0;32m   1090\u001b[0m \u001b[38;5;28;01mreturn\u001b[39;00m \u001b[38;5;28mself\u001b[39m\u001b[38;5;241m.\u001b[39mindex\u001b[38;5;241m.\u001b[39m_get_values_for_loc(\u001b[38;5;28mself\u001b[39m, loc, label)\n",
      "File \u001b[1;32mC:\\ProgramData\\anaconda3\\Lib\\site-packages\\pandas\\core\\indexes\\base.py:3804\u001b[0m, in \u001b[0;36mIndex.get_loc\u001b[1;34m(self, key, method, tolerance)\u001b[0m\n\u001b[0;32m   3802\u001b[0m     \u001b[38;5;28;01mreturn\u001b[39;00m \u001b[38;5;28mself\u001b[39m\u001b[38;5;241m.\u001b[39m_engine\u001b[38;5;241m.\u001b[39mget_loc(casted_key)\n\u001b[0;32m   3803\u001b[0m \u001b[38;5;28;01mexcept\u001b[39;00m \u001b[38;5;167;01mKeyError\u001b[39;00m \u001b[38;5;28;01mas\u001b[39;00m err:\n\u001b[1;32m-> 3804\u001b[0m     \u001b[38;5;28;01mraise\u001b[39;00m \u001b[38;5;167;01mKeyError\u001b[39;00m(key) \u001b[38;5;28;01mfrom\u001b[39;00m \u001b[38;5;21;01merr\u001b[39;00m\n\u001b[0;32m   3805\u001b[0m \u001b[38;5;28;01mexcept\u001b[39;00m \u001b[38;5;167;01mTypeError\u001b[39;00m:\n\u001b[0;32m   3806\u001b[0m     \u001b[38;5;66;03m# If we have a listlike key, _check_indexing_error will raise\u001b[39;00m\n\u001b[0;32m   3807\u001b[0m     \u001b[38;5;66;03m#  InvalidIndexError. Otherwise we fall through and re-raise\u001b[39;00m\n\u001b[0;32m   3808\u001b[0m     \u001b[38;5;66;03m#  the TypeError.\u001b[39;00m\n\u001b[0;32m   3809\u001b[0m     \u001b[38;5;28mself\u001b[39m\u001b[38;5;241m.\u001b[39m_check_indexing_error(key)\n",
      "\u001b[1;31mKeyError\u001b[0m: '판매수'"
     ]
    }
   ],
   "source": [
    "df = df['판매수'].dropna()\n"
   ]
  },
  {
   "cell_type": "code",
   "execution_count": 85,
   "id": "b4d80de4",
   "metadata": {},
   "outputs": [
    {
     "data": {
      "text/plain": [
       "5"
      ]
     },
     "execution_count": 85,
     "metadata": {},
     "output_type": "execute_result"
    }
   ],
   "source": [
    "round(df.head(len(df)//2).quantile(.25))"
   ]
  },
  {
   "cell_type": "code",
   "execution_count": null,
   "id": "582f1024",
   "metadata": {},
   "outputs": [],
   "source": []
  },
  {
   "cell_type": "code",
   "execution_count": 86,
   "id": "af6d2b8d",
   "metadata": {},
   "outputs": [],
   "source": [
    "#\t문제\t11\n",
    "#\tcyl가\t4인 자동차와\t6인 자동차 그룹의\tmpg\t평균값 차이를 절대값으로 반올림하여 정수로 출력하시오.\n",
    "df\t=\tpd.read_csv(\"mtcars.csv\")"
   ]
  },
  {
   "cell_type": "code",
   "execution_count": 98,
   "id": "8f3bc571",
   "metadata": {},
   "outputs": [
    {
     "data": {
      "text/plain": [
       "7"
      ]
     },
     "execution_count": 98,
     "metadata": {},
     "output_type": "execute_result"
    }
   ],
   "source": [
    "cyl4 = df.groupby(['cyl'])['mpg'].mean().loc[4]\n",
    "cyl6 = df.groupby(['cyl'])['mpg'].mean().loc[6]\n",
    "round(abs(cyl4-cyl6))"
   ]
  },
  {
   "cell_type": "code",
   "execution_count": null,
   "id": "0c1c17f1",
   "metadata": {},
   "outputs": [],
   "source": []
  },
  {
   "cell_type": "code",
   "execution_count": 99,
   "id": "529d4aa2",
   "metadata": {},
   "outputs": [],
   "source": [
    "#\t문제\t12\n",
    "#\thp\t변수에 대해 데이터표준화(Z-score)를 진행하고 이상치의 수를 구하시오.\n",
    "#\t(단,\t이상치는\tZ값이\t1.5를 초과하거나\t-1.5\t미만인 값이다)\n",
    "df\t=\tpd.read_csv(\"mtcars.csv\")"
   ]
  },
  {
   "cell_type": "code",
   "execution_count": 118,
   "id": "2b6713c3",
   "metadata": {},
   "outputs": [],
   "source": [
    "mean = df['hp'].describe().loc['mean']\n",
    "std = df['hp'].describe().loc['std']"
   ]
  },
  {
   "cell_type": "code",
   "execution_count": 121,
   "id": "acc00c2f",
   "metadata": {},
   "outputs": [],
   "source": [
    "df['hp'] = (df['hp'] - mean ) / std"
   ]
  },
  {
   "cell_type": "code",
   "execution_count": 123,
   "id": "3f96add7",
   "metadata": {},
   "outputs": [],
   "source": [
    "cond1 = df['hp'] > 1.5\n",
    "cond2 = df['hp'] < -1.5"
   ]
  },
  {
   "cell_type": "code",
   "execution_count": 124,
   "id": "a449927d",
   "metadata": {},
   "outputs": [
    {
     "data": {
      "text/plain": [
       "2"
      ]
     },
     "execution_count": 124,
     "metadata": {},
     "output_type": "execute_result"
    }
   ],
   "source": [
    "len(df['hp'][cond1 | cond2])"
   ]
  },
  {
   "cell_type": "code",
   "execution_count": null,
   "id": "4b28e562",
   "metadata": {},
   "outputs": [],
   "source": []
  },
  {
   "cell_type": "code",
   "execution_count": 126,
   "id": "7be6afb0",
   "metadata": {},
   "outputs": [],
   "source": [
    "#\t문제\t13\n",
    "#\tmpg\t컬럼을 최소최대\tScaling을 진행한 후\t0.7보다 큰 값을 가지는 레코드 수를 구하라.\n",
    "df\t=\tpd.read_csv(\"mtcars.csv\")"
   ]
  },
  {
   "cell_type": "code",
   "execution_count": 128,
   "id": "3b521bad",
   "metadata": {},
   "outputs": [
    {
     "data": {
      "text/plain": [
       "0    21.0\n",
       "1    21.0\n",
       "2    22.8\n",
       "3    21.4\n",
       "4    18.7\n",
       "Name: mpg, dtype: float64"
      ]
     },
     "execution_count": 128,
     "metadata": {},
     "output_type": "execute_result"
    }
   ],
   "source": [
    "df['mpg'].head()"
   ]
  },
  {
   "cell_type": "code",
   "execution_count": 134,
   "id": "c5b17888",
   "metadata": {},
   "outputs": [],
   "source": [
    "Max = df['mpg'].max()\n",
    "Min = df['mpg'].min()"
   ]
  },
  {
   "cell_type": "code",
   "execution_count": 135,
   "id": "9dbee4dd",
   "metadata": {},
   "outputs": [],
   "source": [
    "df['mpg'] = (df['mpg'] - Min) / (Max - Min)"
   ]
  },
  {
   "cell_type": "code",
   "execution_count": 137,
   "id": "189c9431",
   "metadata": {},
   "outputs": [],
   "source": [
    "cond1 = df['mpg'] > 0.7"
   ]
  },
  {
   "cell_type": "code",
   "execution_count": 138,
   "id": "023aa002",
   "metadata": {},
   "outputs": [
    {
     "data": {
      "text/plain": [
       "5"
      ]
     },
     "execution_count": 138,
     "metadata": {},
     "output_type": "execute_result"
    }
   ],
   "source": [
    "len(df[cond1])"
   ]
  },
  {
   "cell_type": "code",
   "execution_count": null,
   "id": "2dda6be0",
   "metadata": {},
   "outputs": [],
   "source": []
  },
  {
   "cell_type": "code",
   "execution_count": 139,
   "id": "6040869d",
   "metadata": {},
   "outputs": [],
   "source": [
    "#\t문제\t14\n",
    "#\twt컬럼에 대해 상자그림 기준으로 이상치의 개수를 구하시오.\t\n",
    "df\t=\tpd.read_csv(\"mtcars.csv\")"
   ]
  },
  {
   "cell_type": "code",
   "execution_count": 144,
   "id": "20c3c2f9",
   "metadata": {},
   "outputs": [],
   "source": [
    "q1 = df['wt'].quantile(.25)\n",
    "q3 = df['wt'].quantile(.75)\n",
    "iqr = q3-q1"
   ]
  },
  {
   "cell_type": "code",
   "execution_count": 146,
   "id": "3fa2fa90",
   "metadata": {},
   "outputs": [],
   "source": [
    "Max = q3 + 1.5 * iqr\n",
    "Min = q1 - 1.5 * iqr"
   ]
  },
  {
   "cell_type": "code",
   "execution_count": 147,
   "id": "119f2cf6",
   "metadata": {},
   "outputs": [],
   "source": [
    "cond1 = df['wt'] > Max\n",
    "cond2 = df['wt'] < Min"
   ]
  },
  {
   "cell_type": "code",
   "execution_count": 149,
   "id": "51581447",
   "metadata": {},
   "outputs": [
    {
     "data": {
      "text/plain": [
       "3"
      ]
     },
     "execution_count": 149,
     "metadata": {},
     "output_type": "execute_result"
    }
   ],
   "source": [
    "len(df[cond1 | cond2])"
   ]
  },
  {
   "cell_type": "code",
   "execution_count": null,
   "id": "9b371181",
   "metadata": {},
   "outputs": [],
   "source": []
  },
  {
   "cell_type": "code",
   "execution_count": 151,
   "id": "712c3b9d",
   "metadata": {},
   "outputs": [],
   "source": [
    "#\t문제\t15\n",
    "#\t판매수 컬럼의 결측치를 최소값으로 대체하고\n",
    "#\t결측치가 있을 때와 최소값으로 대체했을 때 평균값의 차이를 절대값으로 반올림하여 정수로 출력하시오\n",
    "\n",
    "df = pd.DataFrame( {\n",
    "    '날짜': ['20220103','20220105', None,'20230127','20220203', '20220205','20230210','20230223','20230312','20230422','20220505','20230511'],\n",
    "    '제품' : ['A','B', None, 'B', 'A', None,'A', 'B', 'A', 'B', 'A', 'A'],\n",
    "    '판매수': [3, None, 5, 10, 10, 10, 15, 15, 20, None, 30, 40], \n",
    "    '개당수익': [300, 400, 500, 600, 400, 500, 500, 600, 600, 700, 600, 600] })\n",
    "\n"
   ]
  },
  {
   "cell_type": "code",
   "execution_count": 158,
   "id": "8fdac5b8",
   "metadata": {},
   "outputs": [
    {
     "data": {
      "text/plain": [
       "15.8"
      ]
     },
     "execution_count": 158,
     "metadata": {},
     "output_type": "execute_result"
    }
   ],
   "source": [
    "Min = df['판매수'].min()\n",
    "df['판매수'].isnull().sum()\n",
    "Avg = df['판매수'].mean()\n",
    "Avg"
   ]
  },
  {
   "cell_type": "code",
   "execution_count": 162,
   "id": "96038cd0",
   "metadata": {},
   "outputs": [],
   "source": [
    "Avg2 = df['판매수'].fillna(Min).mean()"
   ]
  },
  {
   "cell_type": "code",
   "execution_count": 163,
   "id": "2e391d59",
   "metadata": {},
   "outputs": [
    {
     "name": "stdout",
     "output_type": "stream",
     "text": [
      "2\n"
     ]
    }
   ],
   "source": [
    "print(round(abs(Avg-Avg2)))"
   ]
  },
  {
   "cell_type": "code",
   "execution_count": null,
   "id": "d50d063f",
   "metadata": {},
   "outputs": [],
   "source": []
  },
  {
   "cell_type": "code",
   "execution_count": 165,
   "id": "73fe545f",
   "metadata": {},
   "outputs": [],
   "source": [
    "#\t문제\t16\n",
    "#\tvs변수가\t0이 아닌 차량 중에\tmpg\t값이 가장 큰 차량의\thp\t값을 출력하시오.\t\t\n",
    "df\t=\tpd.read_csv(\"mtcars.csv\")"
   ]
  },
  {
   "cell_type": "code",
   "execution_count": 179,
   "id": "42b7b4ed",
   "metadata": {},
   "outputs": [
    {
     "data": {
      "text/plain": [
       "65"
      ]
     },
     "execution_count": 179,
     "metadata": {},
     "output_type": "execute_result"
    }
   ],
   "source": [
    "cond = df['vs'] !=0\n",
    "cond2 = df['mpg'][cond].max() == df['mpg']\n",
    "df[cond2]['hp'].iloc[0]"
   ]
  },
  {
   "cell_type": "code",
   "execution_count": null,
   "id": "815904ce",
   "metadata": {},
   "outputs": [],
   "source": []
  },
  {
   "cell_type": "code",
   "execution_count": 181,
   "id": "13297f02",
   "metadata": {},
   "outputs": [],
   "source": [
    "#\t문제\t17\n",
    "#\tgear\t변수값이\t3,\t4인 두 그룹의\thp\t표준편차값의 차이를 절대값으로\n",
    "#\t반올림하여 소수점 첫째자리까지 출력하시오.\t\n",
    "df\t=\tpd.read_csv(\"mtcars.csv\")\n"
   ]
  },
  {
   "cell_type": "code",
   "execution_count": 208,
   "id": "5476826c",
   "metadata": {},
   "outputs": [
    {
     "name": "stdout",
     "output_type": "stream",
     "text": [
      "21.8\n"
     ]
    }
   ],
   "source": [
    "cond1 = df['gear'] == 3\n",
    "cond2 = df['gear'] == 4\n",
    "std1 = df[cond1]['hp'].std()\n",
    "std2 = df[cond2]['hp'].std()\n",
    "print(round(abs(std1-std2), 1))"
   ]
  },
  {
   "cell_type": "code",
   "execution_count": null,
   "id": "b19689e8",
   "metadata": {},
   "outputs": [],
   "source": []
  },
  {
   "cell_type": "code",
   "execution_count": 209,
   "id": "489401c0",
   "metadata": {},
   "outputs": [],
   "source": [
    "#\t문제\t18\n",
    "#\tgear\t변수의 값별로 그룹화하여\tmpg평균값을 산출하고\n",
    "#\t평균값이 높은 그룹의\tmpg\t제3사분위수 값을 구하시오.\n",
    "df\t=\tpd.read_csv(\"mtcars.csv\")\n"
   ]
  },
  {
   "cell_type": "code",
   "execution_count": 229,
   "id": "c54c2b4d",
   "metadata": {},
   "outputs": [
    {
     "data": {
      "text/plain": [
       "gear\n",
       "3    16.106667\n",
       "4    24.533333\n",
       "5    21.380000\n",
       "Name: mpg, dtype: float64"
      ]
     },
     "execution_count": 229,
     "metadata": {},
     "output_type": "execute_result"
    }
   ],
   "source": [
    "group_mean = df.groupby(['gear'])['mpg'].mean() \n",
    "group_mean\n",
    "# gear == 4"
   ]
  },
  {
   "cell_type": "code",
   "execution_count": 230,
   "id": "ddf751a7",
   "metadata": {},
   "outputs": [
    {
     "data": {
      "text/plain": [
       "28.075"
      ]
     },
     "execution_count": 230,
     "metadata": {},
     "output_type": "execute_result"
    }
   ],
   "source": [
    "df[df['gear'] == 4]['mpg'].quantile(.75)"
   ]
  },
  {
   "cell_type": "code",
   "execution_count": null,
   "id": "62c61bf8",
   "metadata": {},
   "outputs": [],
   "source": []
  },
  {
   "cell_type": "code",
   "execution_count": 248,
   "id": "1c779517",
   "metadata": {},
   "outputs": [],
   "source": [
    "#\t문제\t19\n",
    "#\thp\t항목의 상위\t7번째 값으로 상위\t7개 값을 변환한 후,\n",
    "#\thp가\t150\t이상인 데이터를 추출하여\thp의 평균값을 반올림하여 정수로 출력하시오.\n",
    "df\t=\tpd.read_csv(\"mtcars.csv\")\n"
   ]
  },
  {
   "cell_type": "code",
   "execution_count": 249,
   "id": "34ae1971",
   "metadata": {},
   "outputs": [],
   "source": [
    "top7 = df.sort_values(['hp'], ascending=False)['hp'].head(7).iloc[-1]"
   ]
  },
  {
   "cell_type": "code",
   "execution_count": 250,
   "id": "b51ff56c",
   "metadata": {},
   "outputs": [],
   "source": [
    "# condition, true : x, false : y\n",
    "df['hp'] = np.where(df['hp'] >= top7, top7, df['hp'])"
   ]
  },
  {
   "cell_type": "code",
   "execution_count": 252,
   "id": "356e1a39",
   "metadata": {},
   "outputs": [
    {
     "data": {
      "text/plain": [
       "187"
      ]
     },
     "execution_count": 252,
     "metadata": {},
     "output_type": "execute_result"
    }
   ],
   "source": [
    "cond = df['hp'] >= 150\n",
    "round(df[cond]['hp'].mean())"
   ]
  },
  {
   "cell_type": "code",
   "execution_count": null,
   "id": "b463df58",
   "metadata": {},
   "outputs": [],
   "source": []
  },
  {
   "cell_type": "code",
   "execution_count": 253,
   "id": "30707ccc",
   "metadata": {},
   "outputs": [],
   "source": [
    "#\t문제\t20\n",
    "#\tcar변수에\tMerc\t문구가 포함된 자동차의\tmpg\t평균값을 반올림하여 정수로 출력하시오.\n",
    "df\t=\tpd.read_csv(\"mtcars.csv\")\n"
   ]
  },
  {
   "cell_type": "code",
   "execution_count": 257,
   "id": "8bedc64c",
   "metadata": {},
   "outputs": [
    {
     "data": {
      "text/plain": [
       "19"
      ]
     },
     "execution_count": 257,
     "metadata": {},
     "output_type": "execute_result"
    }
   ],
   "source": [
    "cond_Merc = df['car'].str.contains('Merc')\n",
    "round(df[cond_Merc]['mpg'].mean())"
   ]
  },
  {
   "cell_type": "code",
   "execution_count": null,
   "id": "3bedccc3",
   "metadata": {},
   "outputs": [],
   "source": []
  },
  {
   "cell_type": "code",
   "execution_count": 299,
   "id": "324ce2d1",
   "metadata": {},
   "outputs": [],
   "source": [
    "#\t문제\t21\n",
    "#\t'22년\t1분기 매출액을 구하시오\n",
    "#\t(매출액\t=\t판매수*개당수익)\n",
    "\n",
    "df = pd.DataFrame( {\n",
    "    '날짜': ['20220103','20220105', '20230105','20230127','20220203', '20220205','20230210','20230223','20230312','20230422','20220505','20230511'],\n",
    "    '제품' : ['A','B', 'A', 'B', 'A', 'B','A', 'B', 'A', 'B', 'A', 'A'],\n",
    "    '판매수': [3, 5, 5, 10, 10, 10, 15, 15, 20, 25, 30, 40], \n",
    "    '개당수익': [300, 400, 500, 600, 400, 500, 500, 600, 600, 700, 600, 600] })\n",
    "\n",
    "\n",
    "df['매출액'] = df['판매수'] * df['개당수익']"
   ]
  },
  {
   "cell_type": "code",
   "execution_count": 300,
   "id": "4b61aeb0",
   "metadata": {},
   "outputs": [
    {
     "name": "stdout",
     "output_type": "stream",
     "text": [
      "<class 'pandas.core.frame.DataFrame'>\n",
      "RangeIndex: 12 entries, 0 to 11\n",
      "Data columns (total 5 columns):\n",
      " #   Column  Non-Null Count  Dtype \n",
      "---  ------  --------------  ----- \n",
      " 0   날짜      12 non-null     object\n",
      " 1   제품      12 non-null     object\n",
      " 2   판매수     12 non-null     int64 \n",
      " 3   개당수익    12 non-null     int64 \n",
      " 4   매출액     12 non-null     int64 \n",
      "dtypes: int64(3), object(2)\n",
      "memory usage: 612.0+ bytes\n"
     ]
    }
   ],
   "source": [
    "df.info()"
   ]
  },
  {
   "cell_type": "code",
   "execution_count": 301,
   "id": "09fcab2d",
   "metadata": {},
   "outputs": [],
   "source": [
    "#dates = pd.to_datetime(['2018-01-01', '2018-01-01',\n",
    "#  |      ...                         '2018-01-02', '2018-01-02'])\n",
    "df['날짜'] = pd.to_datetime(df['날짜'])"
   ]
  },
  {
   "cell_type": "code",
   "execution_count": 302,
   "id": "2d3573f0",
   "metadata": {},
   "outputs": [],
   "source": [
    "cond = df['날짜'].between('20220101', '20220331')"
   ]
  },
  {
   "cell_type": "code",
   "execution_count": 304,
   "id": "8d96f586",
   "metadata": {},
   "outputs": [
    {
     "data": {
      "text/plain": [
       "11900"
      ]
     },
     "execution_count": 304,
     "metadata": {},
     "output_type": "execute_result"
    }
   ],
   "source": [
    "df[cond]['매출액'].sum()"
   ]
  },
  {
   "cell_type": "code",
   "execution_count": null,
   "id": "78f8e615",
   "metadata": {},
   "outputs": [],
   "source": []
  },
  {
   "cell_type": "code",
   "execution_count": 305,
   "id": "f47ee627",
   "metadata": {},
   "outputs": [],
   "source": [
    "#\t문제\t23\n",
    "#\t'23년 총 매출액이 큰 제품의\t23년 판매수를 구하시오.\n",
    "#\t(매출액\t=\t판매수*개당수익)\n",
    "\n",
    "df = pd.DataFrame( {\n",
    "    '날짜': ['20220103','20220105', '20230105','20230127','20220203', '20220205','20230210','20230223','20230312','20230422','20220505','20230511'],\n",
    "    '제품' : ['A','B', 'A', 'B', 'A', 'B','A', 'B', 'A', 'B', 'A', 'A'],\n",
    "    '판매수': [3, 5, 5, 10, 10, 10, 15, 15, 20, 25, 30, 40], \n",
    "    '개당수익': [300, 400, 500, 600, 400, 500, 500, 600, 600, 700, 600, 600] })\n",
    "\n",
    "\n",
    "df['매출액'] = df['판매수'] * df['개당수익']"
   ]
  },
  {
   "cell_type": "code",
   "execution_count": 306,
   "id": "0022f10c",
   "metadata": {},
   "outputs": [],
   "source": [
    "df['날짜'] = pd.to_datetime(df['날짜'])"
   ]
  },
  {
   "cell_type": "code",
   "execution_count": 308,
   "id": "5aeced27",
   "metadata": {},
   "outputs": [],
   "source": [
    "cond = df['날짜'].between('20230101', '20231231')"
   ]
  },
  {
   "cell_type": "code",
   "execution_count": 313,
   "id": "c4690803",
   "metadata": {},
   "outputs": [
    {
     "name": "stderr",
     "output_type": "stream",
     "text": [
      "C:\\Users\\newny\\AppData\\Local\\Temp\\ipykernel_4120\\1011573798.py:1: FutureWarning: The default value of numeric_only in DataFrameGroupBy.sum is deprecated. In a future version, numeric_only will default to False. Either specify numeric_only or select only columns which should be valid for the function.\n",
      "  df[cond].groupby(['제품']).sum() # A\n",
      "C:\\Users\\newny\\AppData\\Local\\Temp\\ipykernel_4120\\1011573798.py:2: UserWarning: Boolean Series key will be reindexed to match DataFrame index.\n",
      "  df[cond][df['제품'] == 'A']['판매수'].sum()\n"
     ]
    },
    {
     "data": {
      "text/plain": [
       "80"
      ]
     },
     "execution_count": 313,
     "metadata": {},
     "output_type": "execute_result"
    }
   ],
   "source": [
    "df[cond].groupby(['제품']).sum() # A\n",
    "df[cond][df['제품'] == 'A']['판매수'].sum()"
   ]
  },
  {
   "cell_type": "code",
   "execution_count": null,
   "id": "47a118ea",
   "metadata": {},
   "outputs": [],
   "source": []
  },
  {
   "cell_type": "code",
   "execution_count": 316,
   "id": "904d7f54",
   "metadata": {},
   "outputs": [],
   "source": [
    "#\t문제\t24\n",
    "#\t매출액이\t4천원 초과,\t1만원 미만인 데이터 수를 출력하시오.\t\n",
    "#\t(매출액\t=\t판매수*개당수익)\n",
    "#\t데이터 생성(수정금지)\n",
    "\n",
    "df = pd.DataFrame( {\n",
    "    '날짜': ['20220103','20220105', '20230105','20230127','20220203', '20220205','20230210','20230223','20230312','20230422','20220505','20230511'],\n",
    "    '제품' : ['A','B', 'A', 'B', 'A', 'B','A', 'B', 'A', 'B', 'A', 'A'],\n",
    "    '판매수': [3, 5, 5, 10, 10, 10, 15, 15, 20, 25, 30, 40], \n",
    "    '개당수익': [300, 400, 500, 600, 400, 500, 500, 600, 600, 700, 600, 600] })\n",
    "\n",
    "\n",
    "df['매출액'] = df['판매수'] * df['개당수익']"
   ]
  },
  {
   "cell_type": "code",
   "execution_count": 317,
   "id": "9eaec917",
   "metadata": {},
   "outputs": [],
   "source": [
    "cond1 = df['매출액'] > 4000\n",
    "cond2 = df['매출액'] < 10000"
   ]
  },
  {
   "cell_type": "code",
   "execution_count": 319,
   "id": "0dfefb24",
   "metadata": {},
   "outputs": [
    {
     "data": {
      "text/plain": [
       "4"
      ]
     },
     "execution_count": 319,
     "metadata": {},
     "output_type": "execute_result"
    }
   ],
   "source": [
    "len(df[cond1 & cond2])"
   ]
  },
  {
   "cell_type": "code",
   "execution_count": null,
   "id": "ffe967af",
   "metadata": {},
   "outputs": [],
   "source": []
  },
  {
   "cell_type": "code",
   "execution_count": 324,
   "id": "97d4b220",
   "metadata": {},
   "outputs": [],
   "source": [
    "#\t문제\t25\n",
    "#\t23년\t9월\t24일\t16:00~22:00\t사이에 전체 제품의 판매수를 구하시오.\t\n",
    "\n",
    "# 시간 데이터 만들기(수정금지)\n",
    "df = pd.DataFrame( {\n",
    "    '물품' : ['A', 'B', 'A', 'B', 'A', 'B', 'A'],\n",
    "    '판매수': [5, 10, 15, 15, 20, 25, 40], \n",
    "    '개당수익': [500, 600, 500, 600, 600, 700, 600] })\n",
    "time = pd.date_range('2023-09-24 12:25:00','2023-09-25 14:45:30', periods= 7)\n",
    "df['time']=time\n",
    "df = df[ ['time','물품','판매수','개당수익']]\n"
   ]
  },
  {
   "cell_type": "code",
   "execution_count": 335,
   "id": "dce6f469",
   "metadata": {},
   "outputs": [],
   "source": [
    "df = df.reset_index()"
   ]
  },
  {
   "cell_type": "code",
   "execution_count": 337,
   "id": "bebcff36",
   "metadata": {},
   "outputs": [],
   "source": [
    "df['time'] = pd.to_datetime(df['time'])"
   ]
  },
  {
   "cell_type": "code",
   "execution_count": 339,
   "id": "e4feb4e5",
   "metadata": {},
   "outputs": [
    {
     "data": {
      "text/html": [
       "<div>\n",
       "<style scoped>\n",
       "    .dataframe tbody tr th:only-of-type {\n",
       "        vertical-align: middle;\n",
       "    }\n",
       "\n",
       "    .dataframe tbody tr th {\n",
       "        vertical-align: top;\n",
       "    }\n",
       "\n",
       "    .dataframe thead th {\n",
       "        text-align: right;\n",
       "    }\n",
       "</style>\n",
       "<table border=\"1\" class=\"dataframe\">\n",
       "  <thead>\n",
       "    <tr style=\"text-align: right;\">\n",
       "      <th></th>\n",
       "      <th>index</th>\n",
       "      <th>time</th>\n",
       "      <th>물품</th>\n",
       "      <th>판매수</th>\n",
       "      <th>개당수익</th>\n",
       "    </tr>\n",
       "  </thead>\n",
       "  <tbody>\n",
       "    <tr>\n",
       "      <th>0</th>\n",
       "      <td>0</td>\n",
       "      <td>2023-09-24 12:25:00</td>\n",
       "      <td>A</td>\n",
       "      <td>5</td>\n",
       "      <td>500</td>\n",
       "    </tr>\n",
       "    <tr>\n",
       "      <th>1</th>\n",
       "      <td>1</td>\n",
       "      <td>2023-09-24 16:48:25</td>\n",
       "      <td>B</td>\n",
       "      <td>10</td>\n",
       "      <td>600</td>\n",
       "    </tr>\n",
       "    <tr>\n",
       "      <th>2</th>\n",
       "      <td>2</td>\n",
       "      <td>2023-09-24 21:11:50</td>\n",
       "      <td>A</td>\n",
       "      <td>15</td>\n",
       "      <td>500</td>\n",
       "    </tr>\n",
       "    <tr>\n",
       "      <th>3</th>\n",
       "      <td>3</td>\n",
       "      <td>2023-09-25 01:35:15</td>\n",
       "      <td>B</td>\n",
       "      <td>15</td>\n",
       "      <td>600</td>\n",
       "    </tr>\n",
       "    <tr>\n",
       "      <th>4</th>\n",
       "      <td>4</td>\n",
       "      <td>2023-09-25 05:58:40</td>\n",
       "      <td>A</td>\n",
       "      <td>20</td>\n",
       "      <td>600</td>\n",
       "    </tr>\n",
       "  </tbody>\n",
       "</table>\n",
       "</div>"
      ],
      "text/plain": [
       "   index                time 물품  판매수  개당수익\n",
       "0      0 2023-09-24 12:25:00  A    5   500\n",
       "1      1 2023-09-24 16:48:25  B   10   600\n",
       "2      2 2023-09-24 21:11:50  A   15   500\n",
       "3      3 2023-09-25 01:35:15  B   15   600\n",
       "4      4 2023-09-25 05:58:40  A   20   600"
      ]
     },
     "execution_count": 339,
     "metadata": {},
     "output_type": "execute_result"
    }
   ],
   "source": [
    "df.head()"
   ]
  },
  {
   "cell_type": "code",
   "execution_count": 341,
   "id": "1900b2cd",
   "metadata": {},
   "outputs": [
    {
     "data": {
      "text/plain": [
       "25"
      ]
     },
     "execution_count": 341,
     "metadata": {},
     "output_type": "execute_result"
    }
   ],
   "source": [
    "# 23년\t9월\t24일\t16:00~22:00\t\n",
    "cond = df['time'].between('2023-09-24 16:00:00','2023-09-24 22:00:00')\n",
    "df[cond]['판매수'].sum()"
   ]
  },
  {
   "cell_type": "code",
   "execution_count": null,
   "id": "016b7363",
   "metadata": {},
   "outputs": [],
   "source": []
  },
  {
   "cell_type": "code",
   "execution_count": 342,
   "id": "0483a37f",
   "metadata": {},
   "outputs": [
    {
     "data": {
      "text/html": [
       "<div>\n",
       "<style scoped>\n",
       "    .dataframe tbody tr th:only-of-type {\n",
       "        vertical-align: middle;\n",
       "    }\n",
       "\n",
       "    .dataframe tbody tr th {\n",
       "        vertical-align: top;\n",
       "    }\n",
       "\n",
       "    .dataframe thead th {\n",
       "        text-align: right;\n",
       "    }\n",
       "</style>\n",
       "<table border=\"1\" class=\"dataframe\">\n",
       "  <thead>\n",
       "    <tr style=\"text-align: right;\">\n",
       "      <th></th>\n",
       "      <th>물품</th>\n",
       "      <th>판매수</th>\n",
       "      <th>개당수익</th>\n",
       "    </tr>\n",
       "    <tr>\n",
       "      <th>time</th>\n",
       "      <th></th>\n",
       "      <th></th>\n",
       "      <th></th>\n",
       "    </tr>\n",
       "  </thead>\n",
       "  <tbody>\n",
       "    <tr>\n",
       "      <th>2023-09-24 12:25:00</th>\n",
       "      <td>A</td>\n",
       "      <td>5</td>\n",
       "      <td>500</td>\n",
       "    </tr>\n",
       "    <tr>\n",
       "      <th>2023-09-24 16:48:25</th>\n",
       "      <td>B</td>\n",
       "      <td>10</td>\n",
       "      <td>600</td>\n",
       "    </tr>\n",
       "    <tr>\n",
       "      <th>2023-09-24 21:11:50</th>\n",
       "      <td>A</td>\n",
       "      <td>15</td>\n",
       "      <td>500</td>\n",
       "    </tr>\n",
       "    <tr>\n",
       "      <th>2023-09-25 01:35:15</th>\n",
       "      <td>B</td>\n",
       "      <td>15</td>\n",
       "      <td>600</td>\n",
       "    </tr>\n",
       "    <tr>\n",
       "      <th>2023-09-25 05:58:40</th>\n",
       "      <td>A</td>\n",
       "      <td>20</td>\n",
       "      <td>600</td>\n",
       "    </tr>\n",
       "    <tr>\n",
       "      <th>2023-09-25 10:22:05</th>\n",
       "      <td>B</td>\n",
       "      <td>25</td>\n",
       "      <td>700</td>\n",
       "    </tr>\n",
       "    <tr>\n",
       "      <th>2023-09-25 14:45:30</th>\n",
       "      <td>A</td>\n",
       "      <td>40</td>\n",
       "      <td>600</td>\n",
       "    </tr>\n",
       "  </tbody>\n",
       "</table>\n",
       "</div>"
      ],
      "text/plain": [
       "                    물품  판매수  개당수익\n",
       "time                             \n",
       "2023-09-24 12:25:00  A    5   500\n",
       "2023-09-24 16:48:25  B   10   600\n",
       "2023-09-24 21:11:50  A   15   500\n",
       "2023-09-25 01:35:15  B   15   600\n",
       "2023-09-25 05:58:40  A   20   600\n",
       "2023-09-25 10:22:05  B   25   700\n",
       "2023-09-25 14:45:30  A   40   600"
      ]
     },
     "execution_count": 342,
     "metadata": {},
     "output_type": "execute_result"
    }
   ],
   "source": [
    "#\t문제\t26\n",
    "#\t9월\t25일\t00:00~12:00\t까지의\tB물품의 매출액 총합을 구하시오.\n",
    "#\t(매출액\t=\t판매수*개당수익)\n",
    "#\t시간 데이터 만들기(수정금지)\n",
    "df\t=\tpd.DataFrame( {\n",
    "\t\t\t\t'물품' : ['A', 'B', 'A', 'B', 'A', 'B', 'A'],\n",
    "\t\t\t\t'판매수': [5, 10, 15, 15, 20, 25, 40],\n",
    "\t\t\t\t'개당수익': [500, 600, 500, 600, 600, 700, 600] } )\n",
    "df['time'] =\tpd.date_range('2023-09-24\t12:25:00','2023-09-25\t14:45:30',\tperiods= 7)\n",
    "df\t=\tdf[ ['time','물품','판매수','개당수익'] ]\n",
    "df\t=\tdf.set_index('time',\tdrop=True)\n"
   ]
  },
  {
   "cell_type": "code",
   "execution_count": 348,
   "id": "a49d3955",
   "metadata": {},
   "outputs": [
    {
     "data": {
      "text/html": [
       "<div>\n",
       "<style scoped>\n",
       "    .dataframe tbody tr th:only-of-type {\n",
       "        vertical-align: middle;\n",
       "    }\n",
       "\n",
       "    .dataframe tbody tr th {\n",
       "        vertical-align: top;\n",
       "    }\n",
       "\n",
       "    .dataframe thead th {\n",
       "        text-align: right;\n",
       "    }\n",
       "</style>\n",
       "<table border=\"1\" class=\"dataframe\">\n",
       "  <thead>\n",
       "    <tr style=\"text-align: right;\">\n",
       "      <th></th>\n",
       "      <th>level_0</th>\n",
       "      <th>index</th>\n",
       "      <th>time</th>\n",
       "      <th>물품</th>\n",
       "      <th>판매수</th>\n",
       "      <th>개당수익</th>\n",
       "    </tr>\n",
       "  </thead>\n",
       "  <tbody>\n",
       "    <tr>\n",
       "      <th>0</th>\n",
       "      <td>0</td>\n",
       "      <td>0</td>\n",
       "      <td>2023-09-24 12:25:00</td>\n",
       "      <td>A</td>\n",
       "      <td>5</td>\n",
       "      <td>500</td>\n",
       "    </tr>\n",
       "    <tr>\n",
       "      <th>1</th>\n",
       "      <td>1</td>\n",
       "      <td>1</td>\n",
       "      <td>2023-09-24 16:48:25</td>\n",
       "      <td>B</td>\n",
       "      <td>10</td>\n",
       "      <td>600</td>\n",
       "    </tr>\n",
       "    <tr>\n",
       "      <th>2</th>\n",
       "      <td>2</td>\n",
       "      <td>2</td>\n",
       "      <td>2023-09-24 21:11:50</td>\n",
       "      <td>A</td>\n",
       "      <td>15</td>\n",
       "      <td>500</td>\n",
       "    </tr>\n",
       "    <tr>\n",
       "      <th>3</th>\n",
       "      <td>3</td>\n",
       "      <td>3</td>\n",
       "      <td>2023-09-25 01:35:15</td>\n",
       "      <td>B</td>\n",
       "      <td>15</td>\n",
       "      <td>600</td>\n",
       "    </tr>\n",
       "    <tr>\n",
       "      <th>4</th>\n",
       "      <td>4</td>\n",
       "      <td>4</td>\n",
       "      <td>2023-09-25 05:58:40</td>\n",
       "      <td>A</td>\n",
       "      <td>20</td>\n",
       "      <td>600</td>\n",
       "    </tr>\n",
       "  </tbody>\n",
       "</table>\n",
       "</div>"
      ],
      "text/plain": [
       "   level_0  index                time 물품  판매수  개당수익\n",
       "0        0      0 2023-09-24 12:25:00  A    5   500\n",
       "1        1      1 2023-09-24 16:48:25  B   10   600\n",
       "2        2      2 2023-09-24 21:11:50  A   15   500\n",
       "3        3      3 2023-09-25 01:35:15  B   15   600\n",
       "4        4      4 2023-09-25 05:58:40  A   20   600"
      ]
     },
     "execution_count": 348,
     "metadata": {},
     "output_type": "execute_result"
    }
   ],
   "source": [
    "# df = df.reset_index()\n",
    "df['time'] = pd.to_datetime(df['time'])\n",
    "df.head()"
   ]
  },
  {
   "cell_type": "code",
   "execution_count": 351,
   "id": "43e5ef1f",
   "metadata": {},
   "outputs": [],
   "source": [
    "cond = df['time'].between('2023-09-25 00:00:00', '2023-09-25 12:00:00')\n",
    "cond2 = df['물품'] == 'B'"
   ]
  },
  {
   "cell_type": "code",
   "execution_count": 352,
   "id": "7dfaf436",
   "metadata": {},
   "outputs": [
    {
     "data": {
      "text/plain": [
       "26500"
      ]
     },
     "execution_count": 352,
     "metadata": {},
     "output_type": "execute_result"
    }
   ],
   "source": [
    "df['매출액'] = df['판매수'] * df['개당수익']\n",
    "df[cond & cond2]['매출액'].sum()"
   ]
  },
  {
   "cell_type": "code",
   "execution_count": null,
   "id": "eb9620bc",
   "metadata": {},
   "outputs": [],
   "source": []
  },
  {
   "cell_type": "code",
   "execution_count": 363,
   "id": "dff63a74",
   "metadata": {},
   "outputs": [],
   "source": [
    "#\t문제\t27\n",
    "#\t9월\t24일\t12:00~24:00\t까지의\tA물품의 매출액 총합을 구하시오.\n",
    "#\t(매출액\t=\t판매수*개당수익)\n",
    "#\t시간 데이터 만들기(수정금지)\n",
    "df\t=\tpd.DataFrame( {\n",
    "\t\t\t\t'물품' : ['A', 'B', 'A', 'B', 'A', 'B', 'A'],\n",
    "\t\t\t\t'판매수': [5, 10, 15, 15, 20, 25, 40],\n",
    "\t\t\t\t'개당수익': [500, 600, 500, 600, 600, 700, 600] } )\n",
    "df['time'] =\tpd.date_range('2023-09-24\t12:25:00','2023-09-25\t14:45:30',\tperiods= 7)\n",
    "df\t=\tdf[ ['time','물품','판매수','개당수익'] ]\n",
    "df\t=\tdf.set_index('time',\tdrop=True)\n"
   ]
  },
  {
   "cell_type": "code",
   "execution_count": 364,
   "id": "4ffdf3b4",
   "metadata": {},
   "outputs": [],
   "source": [
    "df = df.reset_index()"
   ]
  },
  {
   "cell_type": "code",
   "execution_count": 365,
   "id": "60e23186",
   "metadata": {},
   "outputs": [],
   "source": [
    "df['time'] = pd.to_datetime(df['time'])"
   ]
  },
  {
   "cell_type": "code",
   "execution_count": 367,
   "id": "d1011ddd",
   "metadata": {},
   "outputs": [],
   "source": [
    "cond = df['time'].between('2023-09-24 00:00:00', '2023-09-25 00:00:00')\n",
    "cond2 = df['물품'] == 'A'"
   ]
  },
  {
   "cell_type": "code",
   "execution_count": 368,
   "id": "177a87da",
   "metadata": {},
   "outputs": [
    {
     "data": {
      "text/plain": [
       "10000"
      ]
     },
     "execution_count": 368,
     "metadata": {},
     "output_type": "execute_result"
    }
   ],
   "source": [
    "df['매출액'] = df['판매수'] * df['개당수익']\n",
    "df[cond & cond2]['매출액'].sum()"
   ]
  }
 ],
 "metadata": {
  "kernelspec": {
   "display_name": "Python 3 (ipykernel)",
   "language": "python",
   "name": "python3"
  },
  "language_info": {
   "codemirror_mode": {
    "name": "ipython",
    "version": 3
   },
   "file_extension": ".py",
   "mimetype": "text/x-python",
   "name": "python",
   "nbconvert_exporter": "python",
   "pygments_lexer": "ipython3",
   "version": "3.11.4"
  }
 },
 "nbformat": 4,
 "nbformat_minor": 5
}
