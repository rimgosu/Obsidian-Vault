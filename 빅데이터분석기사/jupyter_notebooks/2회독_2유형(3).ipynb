{
 "cells": [
  {
   "cell_type": "code",
   "execution_count": 13,
   "id": "4ae72e52",
   "metadata": {},
   "outputs": [],
   "source": [
    "###############\t\t복사 영역\t\t###############\n",
    "#\t실기 시험 데이터셋으로 셋팅하기\t(수정금지)\n",
    "#\tSeaborn의 내장 타이타닉 데이터셋을 불러옵니다.\n",
    "import\tseaborn\tas\tsns\n",
    "import\tpandas\tas\tpd\n",
    "import\tnumpy\tas\tnp\n",
    "\n",
    "df\t=\tsns.load_dataset('titanic')\n",
    "x\t=\tdf.drop('survived',\taxis=1)\n",
    "y\t=\tdf['survived']\n",
    "#\t실기 시험 데이터셋으로 셋팅하기\t(수정금지)\n",
    "from\tsklearn.model_selection\timport\ttrain_test_split\n",
    "x_train,\tx_test,\ty_train,\ty_test\t=\ttrain_test_split(x,\ty,\ttest_size=0.2,\n",
    "\t\t\t\t\t\t\t\t\t\t\t\t\t\t\t\t\t\t\t\t\t\t\t\t\t\t\t\t\t\t\t\t\t\t\t\t\t\t\t\t\t\t\t\t\t\t\t\t\t\t\t\tstratify=y,\n",
    "\t\t\t\t\t\t\t\t\t\t\t\t\t\t\t\t\t\t\t\t\t\t\t\t\t\t\t\t\t\t\t\t\t\t\t\t\t\t\t\t\t\t\t\t\t\t\t\t\t\t\t\trandom_state=2023)\n",
    "x_test\t=\tpd.DataFrame(x_test)\n",
    "x_train\t=\tpd.DataFrame(x_train)\n",
    "y_train\t=\tpd.DataFrame(y_train)\n",
    "y_test\t=\tpd.DataFrame(y_test) #\t평가용\n",
    "x_test.reset_index()\n",
    "y_train.columns\t= ['target']\n",
    "y_test.columns\t= ['target']\n",
    "###############\t\t복사 영역\t\t###############\n",
    "###\t참고사항\t###\t\n",
    "#\ty_test\t는 실기 문제상에 주어지지 않음\n",
    "#\t★Tip\t:\tX를 대문자로 쓰지말고 소문자\tx로 쓰세요.\t시험에서 실수하기 쉽습니다.(문제풀기 전에 소문자로 변경!)\n",
    "#\t(참고\t:\t보통\tX는\t2차원 배열(행렬)이기 때문에 대문자로 쓰고,\ty는\t1차원 배열(벡터)이기 때문에 소문자로 씀)\n",
    "#\t(~23년\t10월말)\t실기시험 데이터 형식\t(실제 시험장에서는 다를 수 있으니 반드시 체크)\t\n",
    "#\tX_test\t=\tpd.read_csv(\"data/X_test.csv\")\n",
    "#\tX_train\t=\tpd.read_csv(\"data/X_train.csv\")\n",
    "#\ty_train\t=\tpd.read_csv(\"data/y_train.csv\")\n",
    "#\t★(23년\t10월말~)\t기준으로 체험환경에서 제공되는 데이터셋이 조금 변경되었습니다.\t\n",
    "#\ttrain\t=\tpd.read_csv(\"data/customer_train.csv\")\n",
    "#\ttest\t=\tpd.read_csv(\"data/customer_test.csv\")\n",
    "#\tx_train과\ty_train,\tx_test를 별도로 할당해주셔야 합니다.\t"
   ]
  },
  {
   "cell_type": "code",
   "execution_count": 14,
   "id": "05a59bc7",
   "metadata": {},
   "outputs": [
    {
     "name": "stdout",
     "output_type": "stream",
     "text": [
      "        count       mean        std   min      25%      50%     75%       max\n",
      "pclass  712.0   2.307584   0.834926  1.00   2.0000   3.0000   3.000    3.0000\n",
      "age     579.0  29.479568  14.355304  0.42  20.0000  28.0000  38.000   74.0000\n",
      "sibsp   712.0   0.518258   1.094522  0.00   0.0000   0.0000   1.000    8.0000\n",
      "parch   712.0   0.372191   0.792341  0.00   0.0000   0.0000   0.000    6.0000\n",
      "fare    712.0  31.741836  45.403910  0.00   7.8958  14.4542  31.275  512.3292\n",
      "        count       mean        std  min     25%   50%      75%       max\n",
      "pclass  179.0   2.312849   0.842950  1.0   2.000   3.0   3.0000    3.0000\n",
      "age     135.0  30.640741  15.258427  1.0  22.000  29.0  39.0000   80.0000\n",
      "sibsp   179.0   0.541899   1.137797  0.0   0.000   0.0   1.0000    8.0000\n",
      "parch   179.0   0.418994   0.859760  0.0   0.000   0.0   0.0000    5.0000\n",
      "fare    179.0  34.043364  64.097184  0.0   7.925  14.5  30.2854  512.3292\n",
      "        count      mean       std  min  25%  50%  75%  max\n",
      "target  712.0  0.383427  0.486563  0.0  0.0  0.0  1.0  1.0\n"
     ]
    }
   ],
   "source": [
    "#\tx_train\t과\tx_test\t데이터의 기초통계량을 잘 비교해보세요.\t\n",
    "print(x_train.describe().T)\t\t#\tx_train.describe().T\t둘중에 편한거 사용하세요\n",
    "print(x_test.describe().T)\n",
    "print(y_train.describe().T)\n"
   ]
  },
  {
   "cell_type": "code",
   "execution_count": 4,
   "id": "25a4ef38",
   "metadata": {},
   "outputs": [],
   "source": [
    "x_train\t=\tx_train.drop(['class', 'embark_town', 'alive', 'deck'],\taxis=1)\n",
    "x_test\t=\tx_test.drop(['class', 'embark_town', 'alive', 'deck'],\taxis=1)\n"
   ]
  },
  {
   "cell_type": "code",
   "execution_count": 15,
   "id": "8b503096",
   "metadata": {},
   "outputs": [],
   "source": [
    "#\t결측치 대체\n",
    "#\tx_train(712,14)\t:\tage(133),\tembarked(2)\n",
    "#\tx_test(179,14)\t:\tage(44)\n",
    "#\tage\t변수\n",
    "med_age\t=\tx_train['age'].median()\n",
    "x_train['age'] =\tx_train['age'].fillna(med_age)\n",
    "x_test['age'] =\tx_test['age'].fillna(med_age)\t\t#\ttrain\tdata의 중앙값으로\n",
    "#\tembarked\n",
    "mode_et\t=\tx_train['embarked'].mode()\n",
    "x_train['embarked'] =\tx_train['embarked'].fillna(mode_et[0])\t\t#\t최빈값\t[0]\t주의"
   ]
  },
  {
   "cell_type": "code",
   "execution_count": 16,
   "id": "86a9403d",
   "metadata": {},
   "outputs": [
    {
     "name": "stdout",
     "output_type": "stream",
     "text": [
      "<class 'pandas.core.frame.DataFrame'>\n",
      "Int64Index: 712 entries, 3 to 608\n",
      "Data columns (total 30 columns):\n",
      " #   Column                   Non-Null Count  Dtype  \n",
      "---  ------                   --------------  -----  \n",
      " 0   pclass                   712 non-null    int64  \n",
      " 1   age                      712 non-null    float64\n",
      " 2   sibsp                    712 non-null    int64  \n",
      " 3   parch                    712 non-null    int64  \n",
      " 4   fare                     712 non-null    float64\n",
      " 5   adult_male               712 non-null    bool   \n",
      " 6   alone                    712 non-null    bool   \n",
      " 7   sex_female               712 non-null    uint8  \n",
      " 8   sex_male                 712 non-null    uint8  \n",
      " 9   embarked_C               712 non-null    uint8  \n",
      " 10  embarked_Q               712 non-null    uint8  \n",
      " 11  embarked_S               712 non-null    uint8  \n",
      " 12  class_First              712 non-null    uint8  \n",
      " 13  class_Second             712 non-null    uint8  \n",
      " 14  class_Third              712 non-null    uint8  \n",
      " 15  who_child                712 non-null    uint8  \n",
      " 16  who_man                  712 non-null    uint8  \n",
      " 17  who_woman                712 non-null    uint8  \n",
      " 18  deck_A                   712 non-null    uint8  \n",
      " 19  deck_B                   712 non-null    uint8  \n",
      " 20  deck_C                   712 non-null    uint8  \n",
      " 21  deck_D                   712 non-null    uint8  \n",
      " 22  deck_E                   712 non-null    uint8  \n",
      " 23  deck_F                   712 non-null    uint8  \n",
      " 24  deck_G                   712 non-null    uint8  \n",
      " 25  embark_town_Cherbourg    712 non-null    uint8  \n",
      " 26  embark_town_Queenstown   712 non-null    uint8  \n",
      " 27  embark_town_Southampton  712 non-null    uint8  \n",
      " 28  alive_no                 712 non-null    uint8  \n",
      " 29  alive_yes                712 non-null    uint8  \n",
      "dtypes: bool(2), float64(2), int64(3), uint8(23)\n",
      "memory usage: 50.8 KB\n",
      "None\n",
      "<class 'pandas.core.frame.DataFrame'>\n",
      "Int64Index: 179 entries, 800 to 410\n",
      "Data columns (total 30 columns):\n",
      " #   Column                   Non-Null Count  Dtype  \n",
      "---  ------                   --------------  -----  \n",
      " 0   pclass                   179 non-null    int64  \n",
      " 1   age                      179 non-null    float64\n",
      " 2   sibsp                    179 non-null    int64  \n",
      " 3   parch                    179 non-null    int64  \n",
      " 4   fare                     179 non-null    float64\n",
      " 5   adult_male               179 non-null    bool   \n",
      " 6   alone                    179 non-null    bool   \n",
      " 7   sex_female               179 non-null    uint8  \n",
      " 8   sex_male                 179 non-null    uint8  \n",
      " 9   embarked_C               179 non-null    uint8  \n",
      " 10  embarked_Q               179 non-null    uint8  \n",
      " 11  embarked_S               179 non-null    uint8  \n",
      " 12  class_First              179 non-null    uint8  \n",
      " 13  class_Second             179 non-null    uint8  \n",
      " 14  class_Third              179 non-null    uint8  \n",
      " 15  who_child                179 non-null    uint8  \n",
      " 16  who_man                  179 non-null    uint8  \n",
      " 17  who_woman                179 non-null    uint8  \n",
      " 18  deck_A                   179 non-null    uint8  \n",
      " 19  deck_B                   179 non-null    uint8  \n",
      " 20  deck_C                   179 non-null    uint8  \n",
      " 21  deck_D                   179 non-null    uint8  \n",
      " 22  deck_E                   179 non-null    uint8  \n",
      " 23  deck_F                   179 non-null    uint8  \n",
      " 24  deck_G                   179 non-null    uint8  \n",
      " 25  embark_town_Cherbourg    179 non-null    uint8  \n",
      " 26  embark_town_Queenstown   179 non-null    uint8  \n",
      " 27  embark_town_Southampton  179 non-null    uint8  \n",
      " 28  alive_no                 179 non-null    uint8  \n",
      " 29  alive_yes                179 non-null    uint8  \n",
      "dtypes: bool(2), float64(2), int64(3), uint8(23)\n",
      "memory usage: 12.8 KB\n",
      "None\n"
     ]
    }
   ],
   "source": [
    "#\t변수처리\t(원핫인코딩)\n",
    "x_train\t=\tpd.get_dummies(x_train)\n",
    "x_test\t=\tpd.get_dummies(x_test)\n",
    "print(x_train.info())\n",
    "print(x_test.info())\n",
    "#\tadvanced\t버전 사용\n",
    "x_train_ad\t=\tx_train.copy()\n",
    "x_test_ad\t=\tx_test.copy()\n",
    "y_train_ad\t=\ty_train.copy()\n"
   ]
  },
  {
   "cell_type": "code",
   "execution_count": 17,
   "id": "403cdf59",
   "metadata": {},
   "outputs": [
    {
     "name": "stdout",
     "output_type": "stream",
     "text": [
      "(569, 30)\n",
      "(143, 30)\n",
      "(569, 1)\n",
      "(143, 1)\n"
     ]
    }
   ],
   "source": [
    "#\t데이터를 훈련 세트와 검증용 세트로 분할\t(80%\t훈련,\t20%\t검증용)\n",
    "from\tsklearn.model_selection\timport\ttrain_test_split\n",
    "x_train,\tx_val,\ty_train,\ty_val\t=\ttrain_test_split(x_train, y_train, test_size=0.2)\n",
    "print(x_train.shape)\n",
    "print(x_val.shape)\n",
    "print(y_train.shape)\n",
    "print(y_val.shape)"
   ]
  },
  {
   "cell_type": "code",
   "execution_count": 18,
   "id": "a2c76831",
   "metadata": {},
   "outputs": [
    {
     "name": "stderr",
     "output_type": "stream",
     "text": [
      "C:\\Users\\newny\\AppData\\Local\\Temp\\ipykernel_19584\\745544701.py:4: DataConversionWarning: A column-vector y was passed when a 1d array was expected. Please change the shape of y to (n_samples,), for example using ravel().\n",
      "  model.fit(x_train,\ty_train)\n"
     ]
    },
    {
     "data": {
      "text/html": [
       "<style>#sk-container-id-2 {color: black;background-color: white;}#sk-container-id-2 pre{padding: 0;}#sk-container-id-2 div.sk-toggleable {background-color: white;}#sk-container-id-2 label.sk-toggleable__label {cursor: pointer;display: block;width: 100%;margin-bottom: 0;padding: 0.3em;box-sizing: border-box;text-align: center;}#sk-container-id-2 label.sk-toggleable__label-arrow:before {content: \"▸\";float: left;margin-right: 0.25em;color: #696969;}#sk-container-id-2 label.sk-toggleable__label-arrow:hover:before {color: black;}#sk-container-id-2 div.sk-estimator:hover label.sk-toggleable__label-arrow:before {color: black;}#sk-container-id-2 div.sk-toggleable__content {max-height: 0;max-width: 0;overflow: hidden;text-align: left;background-color: #f0f8ff;}#sk-container-id-2 div.sk-toggleable__content pre {margin: 0.2em;color: black;border-radius: 0.25em;background-color: #f0f8ff;}#sk-container-id-2 input.sk-toggleable__control:checked~div.sk-toggleable__content {max-height: 200px;max-width: 100%;overflow: auto;}#sk-container-id-2 input.sk-toggleable__control:checked~label.sk-toggleable__label-arrow:before {content: \"▾\";}#sk-container-id-2 div.sk-estimator input.sk-toggleable__control:checked~label.sk-toggleable__label {background-color: #d4ebff;}#sk-container-id-2 div.sk-label input.sk-toggleable__control:checked~label.sk-toggleable__label {background-color: #d4ebff;}#sk-container-id-2 input.sk-hidden--visually {border: 0;clip: rect(1px 1px 1px 1px);clip: rect(1px, 1px, 1px, 1px);height: 1px;margin: -1px;overflow: hidden;padding: 0;position: absolute;width: 1px;}#sk-container-id-2 div.sk-estimator {font-family: monospace;background-color: #f0f8ff;border: 1px dotted black;border-radius: 0.25em;box-sizing: border-box;margin-bottom: 0.5em;}#sk-container-id-2 div.sk-estimator:hover {background-color: #d4ebff;}#sk-container-id-2 div.sk-parallel-item::after {content: \"\";width: 100%;border-bottom: 1px solid gray;flex-grow: 1;}#sk-container-id-2 div.sk-label:hover label.sk-toggleable__label {background-color: #d4ebff;}#sk-container-id-2 div.sk-serial::before {content: \"\";position: absolute;border-left: 1px solid gray;box-sizing: border-box;top: 0;bottom: 0;left: 50%;z-index: 0;}#sk-container-id-2 div.sk-serial {display: flex;flex-direction: column;align-items: center;background-color: white;padding-right: 0.2em;padding-left: 0.2em;position: relative;}#sk-container-id-2 div.sk-item {position: relative;z-index: 1;}#sk-container-id-2 div.sk-parallel {display: flex;align-items: stretch;justify-content: center;background-color: white;position: relative;}#sk-container-id-2 div.sk-item::before, #sk-container-id-2 div.sk-parallel-item::before {content: \"\";position: absolute;border-left: 1px solid gray;box-sizing: border-box;top: 0;bottom: 0;left: 50%;z-index: -1;}#sk-container-id-2 div.sk-parallel-item {display: flex;flex-direction: column;z-index: 1;position: relative;background-color: white;}#sk-container-id-2 div.sk-parallel-item:first-child::after {align-self: flex-end;width: 50%;}#sk-container-id-2 div.sk-parallel-item:last-child::after {align-self: flex-start;width: 50%;}#sk-container-id-2 div.sk-parallel-item:only-child::after {width: 0;}#sk-container-id-2 div.sk-dashed-wrapped {border: 1px dashed gray;margin: 0 0.4em 0.5em 0.4em;box-sizing: border-box;padding-bottom: 0.4em;background-color: white;}#sk-container-id-2 div.sk-label label {font-family: monospace;font-weight: bold;display: inline-block;line-height: 1.2em;}#sk-container-id-2 div.sk-label-container {text-align: center;}#sk-container-id-2 div.sk-container {/* jupyter's `normalize.less` sets `[hidden] { display: none; }` but bootstrap.min.css set `[hidden] { display: none !important; }` so we also need the `!important` here to be able to override the default hidden behavior on the sphinx rendered scikit-learn.org. See: https://github.com/scikit-learn/scikit-learn/issues/21755 */display: inline-block !important;position: relative;}#sk-container-id-2 div.sk-text-repr-fallback {display: none;}</style><div id=\"sk-container-id-2\" class=\"sk-top-container\"><div class=\"sk-text-repr-fallback\"><pre>RandomForestClassifier(random_state=2023)</pre><b>In a Jupyter environment, please rerun this cell to show the HTML representation or trust the notebook. <br />On GitHub, the HTML representation is unable to render, please try loading this page with nbviewer.org.</b></div><div class=\"sk-container\" hidden><div class=\"sk-item\"><div class=\"sk-estimator sk-toggleable\"><input class=\"sk-toggleable__control sk-hidden--visually\" id=\"sk-estimator-id-2\" type=\"checkbox\" checked><label for=\"sk-estimator-id-2\" class=\"sk-toggleable__label sk-toggleable__label-arrow\">RandomForestClassifier</label><div class=\"sk-toggleable__content\"><pre>RandomForestClassifier(random_state=2023)</pre></div></div></div></div></div>"
      ],
      "text/plain": [
       "RandomForestClassifier(random_state=2023)"
      ]
     },
     "execution_count": 18,
     "metadata": {},
     "output_type": "execute_result"
    }
   ],
   "source": [
    "#\t랜덤포레스트 모델 사용\t\t(참고\t:\t회귀모델은\tRandomForestRegressor)\n",
    "from\tsklearn.ensemble\timport\tRandomForestClassifier\n",
    "model\t=\tRandomForestClassifier(random_state=2023)\n",
    "model.fit(x_train,\ty_train)\n"
   ]
  },
  {
   "cell_type": "code",
   "execution_count": 19,
   "id": "9d923b97",
   "metadata": {},
   "outputs": [],
   "source": [
    "#\t모델을 사용하여 테스트 데이터 예측\n",
    "y_pred\t=\tmodel.predict(x_val)\n"
   ]
  },
  {
   "cell_type": "code",
   "execution_count": 20,
   "id": "3fd129bd",
   "metadata": {},
   "outputs": [],
   "source": [
    "#\t모델 성능 평가\t(정확도,\tF1\tscore,\t민감도,\t특이도 등)\n",
    "from\tsklearn.metrics\timport\taccuracy_score,\tf1_score,\troc_auc_score,\trecall_score,\tprecision_score\n",
    "acc\t=\taccuracy_score(y_val,\ty_pred)\t\t\t\t#\t(실제값,\t예측값)\n",
    "f1\t=\tf1_score(y_val,\ty_pred)\t\t\t\t\t\t\t\t\t\t\t#\t(실제값,\t예측값)\n",
    "auc\t=\troc_auc_score(y_val,\ty_pred)\t\t\t\t\t#\t(실제값,\t예측값)\n"
   ]
  },
  {
   "cell_type": "code",
   "execution_count": 21,
   "id": "5648562c",
   "metadata": {},
   "outputs": [
    {
     "data": {
      "text/plain": [
       "(1.0, 1.0, 1.0)"
      ]
     },
     "execution_count": 21,
     "metadata": {},
     "output_type": "execute_result"
    }
   ],
   "source": [
    "acc, f1, auc"
   ]
  },
  {
   "cell_type": "code",
   "execution_count": null,
   "id": "e3851aea",
   "metadata": {},
   "outputs": [],
   "source": []
  },
  {
   "cell_type": "code",
   "execution_count": null,
   "id": "0068b821",
   "metadata": {},
   "outputs": [],
   "source": []
  },
  {
   "cell_type": "code",
   "execution_count": null,
   "id": "1b8e5d0c",
   "metadata": {},
   "outputs": [],
   "source": []
  },
  {
   "cell_type": "code",
   "execution_count": null,
   "id": "0c43ea5e",
   "metadata": {},
   "outputs": [],
   "source": []
  },
  {
   "cell_type": "code",
   "execution_count": null,
   "id": "9e0ec361",
   "metadata": {},
   "outputs": [],
   "source": []
  },
  {
   "cell_type": "code",
   "execution_count": null,
   "id": "d78ade1a",
   "metadata": {},
   "outputs": [],
   "source": []
  },
  {
   "cell_type": "code",
   "execution_count": null,
   "id": "22ffc356",
   "metadata": {},
   "outputs": [],
   "source": []
  },
  {
   "cell_type": "code",
   "execution_count": null,
   "id": "1a744e0e",
   "metadata": {},
   "outputs": [],
   "source": []
  },
  {
   "cell_type": "code",
   "execution_count": null,
   "id": "50e48b96",
   "metadata": {},
   "outputs": [],
   "source": []
  },
  {
   "cell_type": "code",
   "execution_count": null,
   "id": "621ed9c6",
   "metadata": {},
   "outputs": [],
   "source": []
  },
  {
   "cell_type": "code",
   "execution_count": null,
   "id": "b7972fa9",
   "metadata": {},
   "outputs": [],
   "source": []
  },
  {
   "cell_type": "code",
   "execution_count": null,
   "id": "af2d9b40",
   "metadata": {},
   "outputs": [],
   "source": []
  },
  {
   "cell_type": "code",
   "execution_count": null,
   "id": "342407e4",
   "metadata": {},
   "outputs": [],
   "source": []
  },
  {
   "cell_type": "code",
   "execution_count": null,
   "id": "2fcdbba6",
   "metadata": {},
   "outputs": [],
   "source": []
  },
  {
   "cell_type": "code",
   "execution_count": null,
   "id": "2890dea4",
   "metadata": {},
   "outputs": [],
   "source": []
  },
  {
   "cell_type": "code",
   "execution_count": null,
   "id": "b1ae56f5",
   "metadata": {},
   "outputs": [],
   "source": []
  },
  {
   "cell_type": "code",
   "execution_count": null,
   "id": "877dabb7",
   "metadata": {},
   "outputs": [],
   "source": []
  },
  {
   "cell_type": "code",
   "execution_count": 99,
   "id": "1d755553",
   "metadata": {
    "scrolled": true
   },
   "outputs": [
    {
     "data": {
      "text/html": [
       "<div>\n",
       "<style scoped>\n",
       "    .dataframe tbody tr th:only-of-type {\n",
       "        vertical-align: middle;\n",
       "    }\n",
       "\n",
       "    .dataframe tbody tr th {\n",
       "        vertical-align: top;\n",
       "    }\n",
       "\n",
       "    .dataframe thead th {\n",
       "        text-align: right;\n",
       "    }\n",
       "</style>\n",
       "<table border=\"1\" class=\"dataframe\">\n",
       "  <thead>\n",
       "    <tr style=\"text-align: right;\">\n",
       "      <th></th>\n",
       "      <th>pclass</th>\n",
       "      <th>sex</th>\n",
       "      <th>age</th>\n",
       "      <th>sibsp</th>\n",
       "      <th>parch</th>\n",
       "      <th>fare</th>\n",
       "      <th>embarked</th>\n",
       "      <th>class</th>\n",
       "      <th>who</th>\n",
       "      <th>adult_male</th>\n",
       "      <th>deck</th>\n",
       "      <th>embark_town</th>\n",
       "      <th>alive</th>\n",
       "      <th>alone</th>\n",
       "    </tr>\n",
       "  </thead>\n",
       "  <tbody>\n",
       "    <tr>\n",
       "      <th>3</th>\n",
       "      <td>1</td>\n",
       "      <td>female</td>\n",
       "      <td>35.0</td>\n",
       "      <td>1</td>\n",
       "      <td>0</td>\n",
       "      <td>53.10</td>\n",
       "      <td>S</td>\n",
       "      <td>First</td>\n",
       "      <td>woman</td>\n",
       "      <td>False</td>\n",
       "      <td>C</td>\n",
       "      <td>Southampton</td>\n",
       "      <td>yes</td>\n",
       "      <td>False</td>\n",
       "    </tr>\n",
       "    <tr>\n",
       "      <th>517</th>\n",
       "      <td>3</td>\n",
       "      <td>male</td>\n",
       "      <td>NaN</td>\n",
       "      <td>0</td>\n",
       "      <td>0</td>\n",
       "      <td>24.15</td>\n",
       "      <td>Q</td>\n",
       "      <td>Third</td>\n",
       "      <td>man</td>\n",
       "      <td>True</td>\n",
       "      <td>NaN</td>\n",
       "      <td>Queenstown</td>\n",
       "      <td>no</td>\n",
       "      <td>True</td>\n",
       "    </tr>\n",
       "    <tr>\n",
       "      <th>861</th>\n",
       "      <td>2</td>\n",
       "      <td>male</td>\n",
       "      <td>21.0</td>\n",
       "      <td>1</td>\n",
       "      <td>0</td>\n",
       "      <td>11.50</td>\n",
       "      <td>S</td>\n",
       "      <td>Second</td>\n",
       "      <td>man</td>\n",
       "      <td>True</td>\n",
       "      <td>NaN</td>\n",
       "      <td>Southampton</td>\n",
       "      <td>no</td>\n",
       "      <td>False</td>\n",
       "    </tr>\n",
       "    <tr>\n",
       "      <th>487</th>\n",
       "      <td>1</td>\n",
       "      <td>male</td>\n",
       "      <td>58.0</td>\n",
       "      <td>0</td>\n",
       "      <td>0</td>\n",
       "      <td>29.70</td>\n",
       "      <td>C</td>\n",
       "      <td>First</td>\n",
       "      <td>man</td>\n",
       "      <td>True</td>\n",
       "      <td>B</td>\n",
       "      <td>Cherbourg</td>\n",
       "      <td>no</td>\n",
       "      <td>True</td>\n",
       "    </tr>\n",
       "    <tr>\n",
       "      <th>58</th>\n",
       "      <td>2</td>\n",
       "      <td>female</td>\n",
       "      <td>5.0</td>\n",
       "      <td>1</td>\n",
       "      <td>2</td>\n",
       "      <td>27.75</td>\n",
       "      <td>S</td>\n",
       "      <td>Second</td>\n",
       "      <td>child</td>\n",
       "      <td>False</td>\n",
       "      <td>NaN</td>\n",
       "      <td>Southampton</td>\n",
       "      <td>yes</td>\n",
       "      <td>False</td>\n",
       "    </tr>\n",
       "  </tbody>\n",
       "</table>\n",
       "</div>"
      ],
      "text/plain": [
       "     pclass     sex   age  sibsp  parch   fare embarked   class    who  \\\n",
       "3         1  female  35.0      1      0  53.10        S   First  woman   \n",
       "517       3    male   NaN      0      0  24.15        Q   Third    man   \n",
       "861       2    male  21.0      1      0  11.50        S  Second    man   \n",
       "487       1    male  58.0      0      0  29.70        C   First    man   \n",
       "58        2  female   5.0      1      2  27.75        S  Second  child   \n",
       "\n",
       "     adult_male deck  embark_town alive  alone  \n",
       "3         False    C  Southampton   yes  False  \n",
       "517        True  NaN   Queenstown    no   True  \n",
       "861        True  NaN  Southampton    no  False  \n",
       "487        True    B    Cherbourg    no   True  \n",
       "58        False  NaN  Southampton   yes  False  "
      ]
     },
     "execution_count": 99,
     "metadata": {},
     "output_type": "execute_result"
    }
   ],
   "source": [
    "x_train.head()"
   ]
  },
  {
   "cell_type": "code",
   "execution_count": 100,
   "id": "dc2b7856",
   "metadata": {
    "scrolled": true
   },
   "outputs": [
    {
     "data": {
      "text/html": [
       "<div>\n",
       "<style scoped>\n",
       "    .dataframe tbody tr th:only-of-type {\n",
       "        vertical-align: middle;\n",
       "    }\n",
       "\n",
       "    .dataframe tbody tr th {\n",
       "        vertical-align: top;\n",
       "    }\n",
       "\n",
       "    .dataframe thead th {\n",
       "        text-align: right;\n",
       "    }\n",
       "</style>\n",
       "<table border=\"1\" class=\"dataframe\">\n",
       "  <thead>\n",
       "    <tr style=\"text-align: right;\">\n",
       "      <th></th>\n",
       "      <th>target</th>\n",
       "    </tr>\n",
       "  </thead>\n",
       "  <tbody>\n",
       "    <tr>\n",
       "      <th>3</th>\n",
       "      <td>1</td>\n",
       "    </tr>\n",
       "    <tr>\n",
       "      <th>517</th>\n",
       "      <td>0</td>\n",
       "    </tr>\n",
       "    <tr>\n",
       "      <th>861</th>\n",
       "      <td>0</td>\n",
       "    </tr>\n",
       "    <tr>\n",
       "      <th>487</th>\n",
       "      <td>0</td>\n",
       "    </tr>\n",
       "    <tr>\n",
       "      <th>58</th>\n",
       "      <td>1</td>\n",
       "    </tr>\n",
       "  </tbody>\n",
       "</table>\n",
       "</div>"
      ],
      "text/plain": [
       "     target\n",
       "3         1\n",
       "517       0\n",
       "861       0\n",
       "487       0\n",
       "58        1"
      ]
     },
     "execution_count": 100,
     "metadata": {},
     "output_type": "execute_result"
    }
   ],
   "source": [
    "y_train.head()"
   ]
  },
  {
   "cell_type": "code",
   "execution_count": 101,
   "id": "57ed4ff4",
   "metadata": {},
   "outputs": [
    {
     "data": {
      "text/plain": [
       "((712, 14), (712, 1), (179, 14))"
      ]
     },
     "execution_count": 101,
     "metadata": {},
     "output_type": "execute_result"
    }
   ],
   "source": [
    "x_train.shape, y_train.shape, x_test.shape"
   ]
  },
  {
   "cell_type": "code",
   "execution_count": 102,
   "id": "f673fc93",
   "metadata": {},
   "outputs": [
    {
     "name": "stdout",
     "output_type": "stream",
     "text": [
      "<class 'pandas.core.frame.DataFrame'>\n",
      "Int64Index: 712 entries, 3 to 608\n",
      "Data columns (total 14 columns):\n",
      " #   Column       Non-Null Count  Dtype   \n",
      "---  ------       --------------  -----   \n",
      " 0   pclass       712 non-null    int64   \n",
      " 1   sex          712 non-null    object  \n",
      " 2   age          579 non-null    float64 \n",
      " 3   sibsp        712 non-null    int64   \n",
      " 4   parch        712 non-null    int64   \n",
      " 5   fare         712 non-null    float64 \n",
      " 6   embarked     710 non-null    object  \n",
      " 7   class        712 non-null    category\n",
      " 8   who          712 non-null    object  \n",
      " 9   adult_male   712 non-null    bool    \n",
      " 10  deck         164 non-null    category\n",
      " 11  embark_town  710 non-null    object  \n",
      " 12  alive        712 non-null    object  \n",
      " 13  alone        712 non-null    bool    \n",
      "dtypes: bool(2), category(2), float64(2), int64(3), object(5)\n",
      "memory usage: 64.4+ KB\n",
      "<class 'pandas.core.frame.DataFrame'>\n",
      "Int64Index: 712 entries, 3 to 608\n",
      "Data columns (total 1 columns):\n",
      " #   Column  Non-Null Count  Dtype\n",
      "---  ------  --------------  -----\n",
      " 0   target  712 non-null    int64\n",
      "dtypes: int64(1)\n",
      "memory usage: 11.1 KB\n"
     ]
    }
   ],
   "source": [
    "x_train.info()\n",
    "y_train.info()"
   ]
  },
  {
   "cell_type": "code",
   "execution_count": 104,
   "id": "71b892c8",
   "metadata": {
    "scrolled": true
   },
   "outputs": [
    {
     "data": {
      "text/plain": [
       "pclass           0\n",
       "sex              0\n",
       "age            133\n",
       "sibsp            0\n",
       "parch            0\n",
       "fare             0\n",
       "embarked         2\n",
       "class            0\n",
       "who              0\n",
       "adult_male       0\n",
       "deck           548\n",
       "embark_town      2\n",
       "alive            0\n",
       "alone            0\n",
       "dtype: int64"
      ]
     },
     "execution_count": 104,
     "metadata": {},
     "output_type": "execute_result"
    }
   ],
   "source": [
    "x_train.isnull().sum() # age, deck"
   ]
  },
  {
   "cell_type": "code",
   "execution_count": 108,
   "id": "ac6b7024",
   "metadata": {},
   "outputs": [
    {
     "data": {
      "text/html": [
       "<div>\n",
       "<style scoped>\n",
       "    .dataframe tbody tr th:only-of-type {\n",
       "        vertical-align: middle;\n",
       "    }\n",
       "\n",
       "    .dataframe tbody tr th {\n",
       "        vertical-align: top;\n",
       "    }\n",
       "\n",
       "    .dataframe thead th {\n",
       "        text-align: right;\n",
       "    }\n",
       "</style>\n",
       "<table border=\"1\" class=\"dataframe\">\n",
       "  <thead>\n",
       "    <tr style=\"text-align: right;\">\n",
       "      <th></th>\n",
       "      <th>age</th>\n",
       "      <th>deck</th>\n",
       "    </tr>\n",
       "  </thead>\n",
       "  <tbody>\n",
       "    <tr>\n",
       "      <th>3</th>\n",
       "      <td>35.0</td>\n",
       "      <td>C</td>\n",
       "    </tr>\n",
       "    <tr>\n",
       "      <th>517</th>\n",
       "      <td>NaN</td>\n",
       "      <td>NaN</td>\n",
       "    </tr>\n",
       "    <tr>\n",
       "      <th>861</th>\n",
       "      <td>21.0</td>\n",
       "      <td>NaN</td>\n",
       "    </tr>\n",
       "    <tr>\n",
       "      <th>487</th>\n",
       "      <td>58.0</td>\n",
       "      <td>B</td>\n",
       "    </tr>\n",
       "    <tr>\n",
       "      <th>58</th>\n",
       "      <td>5.0</td>\n",
       "      <td>NaN</td>\n",
       "    </tr>\n",
       "  </tbody>\n",
       "</table>\n",
       "</div>"
      ],
      "text/plain": [
       "      age deck\n",
       "3    35.0    C\n",
       "517   NaN  NaN\n",
       "861  21.0  NaN\n",
       "487  58.0    B\n",
       "58    5.0  NaN"
      ]
     },
     "execution_count": 108,
     "metadata": {},
     "output_type": "execute_result"
    }
   ],
   "source": [
    "x_train.head()[['age','deck']]"
   ]
  },
  {
   "cell_type": "code",
   "execution_count": 120,
   "id": "49877b30",
   "metadata": {},
   "outputs": [],
   "source": [
    "Median = x_train['age'].median()\n",
    "x_train['age'] = x_train['age'].fillna(Median)\n",
    "Mode = x_train['deck'].mode()\n",
    "x_train['deck'] = x_train['deck'].fillna(Mode[0])\n",
    "Mode = x_train['embarked'].mode()\n",
    "x_train['embarked'] = x_train['deck'].fillna(Mode[0])\n",
    "Mode = x_train['embarked'].mode()\n",
    "x_train['embark_town'] = x_train['embark_town'].fillna(Mode[0])"
   ]
  },
  {
   "cell_type": "code",
   "execution_count": 121,
   "id": "a806bd57",
   "metadata": {},
   "outputs": [],
   "source": [
    "Median = x_test['age'].median()\n",
    "x_test['age'] = x_test['age'].fillna(Median)\n",
    "Mode = x_test['deck'].mode()\n",
    "x_test['deck'] = x_test['deck'].fillna(Mode[0])\n",
    "Mode = x_test['embarked'].mode()\n",
    "x_test['embarked'] = x_test['deck'].fillna(Mode[0])\n",
    "Mode = x_test['embarked'].mode()\n",
    "x_test['embark_town'] = x_test['embark_town'].fillna(Mode[0])"
   ]
  },
  {
   "cell_type": "code",
   "execution_count": 123,
   "id": "dc6d0ef6",
   "metadata": {},
   "outputs": [
    {
     "name": "stdout",
     "output_type": "stream",
     "text": [
      "<class 'pandas.core.frame.DataFrame'>\n",
      "Int64Index: 179 entries, 800 to 410\n",
      "Data columns (total 14 columns):\n",
      " #   Column       Non-Null Count  Dtype   \n",
      "---  ------       --------------  -----   \n",
      " 0   pclass       179 non-null    int64   \n",
      " 1   sex          179 non-null    object  \n",
      " 2   age          179 non-null    float64 \n",
      " 3   sibsp        179 non-null    int64   \n",
      " 4   parch        179 non-null    int64   \n",
      " 5   fare         179 non-null    float64 \n",
      " 6   embarked     179 non-null    category\n",
      " 7   class        179 non-null    category\n",
      " 8   who          179 non-null    object  \n",
      " 9   adult_male   179 non-null    bool    \n",
      " 10  deck         179 non-null    category\n",
      " 11  embark_town  179 non-null    object  \n",
      " 12  alive        179 non-null    object  \n",
      " 13  alone        179 non-null    bool    \n",
      "dtypes: bool(2), category(3), float64(2), int64(3), object(4)\n",
      "memory usage: 15.7+ KB\n"
     ]
    }
   ],
   "source": [
    "x_test.info()"
   ]
  },
  {
   "cell_type": "code",
   "execution_count": 124,
   "id": "3cdc9c37",
   "metadata": {},
   "outputs": [],
   "source": [
    "from sklearn.model_selection import train_test_split"
   ]
  },
  {
   "cell_type": "code",
   "execution_count": 125,
   "id": "67269669",
   "metadata": {},
   "outputs": [],
   "source": [
    "x_train, x_val, y_train, y_val = train_test_split(x_train, y_train, stratify=y_train['target'], random_state=2023, test_size=0.2)"
   ]
  },
  {
   "cell_type": "code",
   "execution_count": 128,
   "id": "81be5698",
   "metadata": {},
   "outputs": [
    {
     "data": {
      "text/plain": [
       "((569, 14), (143, 14), (569, 1), (143, 1))"
      ]
     },
     "execution_count": 128,
     "metadata": {},
     "output_type": "execute_result"
    }
   ],
   "source": [
    "x_train.shape, x_val.shape, y_train.shape, y_val.shape"
   ]
  },
  {
   "cell_type": "code",
   "execution_count": 133,
   "id": "6aa6f0f0",
   "metadata": {},
   "outputs": [],
   "source": [
    "x_train = pd.get_dummies(x_train)\n",
    "x_test = pd.get_dummies(x_test)\n",
    "x_val = pd.get_dummies(x_val)"
   ]
  },
  {
   "cell_type": "code",
   "execution_count": 134,
   "id": "9cb309c0",
   "metadata": {},
   "outputs": [],
   "source": [
    "from sklearn.ensemble import RandomForestClassifier"
   ]
  },
  {
   "cell_type": "code",
   "execution_count": 135,
   "id": "5ce7114a",
   "metadata": {},
   "outputs": [
    {
     "name": "stderr",
     "output_type": "stream",
     "text": [
      "C:\\Users\\newny\\AppData\\Local\\Temp\\ipykernel_17684\\2192591497.py:2: DataConversionWarning: A column-vector y was passed when a 1d array was expected. Please change the shape of y to (n_samples,), for example using ravel().\n",
      "  model.fit(x_train, y_train)\n"
     ]
    },
    {
     "data": {
      "text/html": [
       "<style>#sk-container-id-5 {color: black;background-color: white;}#sk-container-id-5 pre{padding: 0;}#sk-container-id-5 div.sk-toggleable {background-color: white;}#sk-container-id-5 label.sk-toggleable__label {cursor: pointer;display: block;width: 100%;margin-bottom: 0;padding: 0.3em;box-sizing: border-box;text-align: center;}#sk-container-id-5 label.sk-toggleable__label-arrow:before {content: \"▸\";float: left;margin-right: 0.25em;color: #696969;}#sk-container-id-5 label.sk-toggleable__label-arrow:hover:before {color: black;}#sk-container-id-5 div.sk-estimator:hover label.sk-toggleable__label-arrow:before {color: black;}#sk-container-id-5 div.sk-toggleable__content {max-height: 0;max-width: 0;overflow: hidden;text-align: left;background-color: #f0f8ff;}#sk-container-id-5 div.sk-toggleable__content pre {margin: 0.2em;color: black;border-radius: 0.25em;background-color: #f0f8ff;}#sk-container-id-5 input.sk-toggleable__control:checked~div.sk-toggleable__content {max-height: 200px;max-width: 100%;overflow: auto;}#sk-container-id-5 input.sk-toggleable__control:checked~label.sk-toggleable__label-arrow:before {content: \"▾\";}#sk-container-id-5 div.sk-estimator input.sk-toggleable__control:checked~label.sk-toggleable__label {background-color: #d4ebff;}#sk-container-id-5 div.sk-label input.sk-toggleable__control:checked~label.sk-toggleable__label {background-color: #d4ebff;}#sk-container-id-5 input.sk-hidden--visually {border: 0;clip: rect(1px 1px 1px 1px);clip: rect(1px, 1px, 1px, 1px);height: 1px;margin: -1px;overflow: hidden;padding: 0;position: absolute;width: 1px;}#sk-container-id-5 div.sk-estimator {font-family: monospace;background-color: #f0f8ff;border: 1px dotted black;border-radius: 0.25em;box-sizing: border-box;margin-bottom: 0.5em;}#sk-container-id-5 div.sk-estimator:hover {background-color: #d4ebff;}#sk-container-id-5 div.sk-parallel-item::after {content: \"\";width: 100%;border-bottom: 1px solid gray;flex-grow: 1;}#sk-container-id-5 div.sk-label:hover label.sk-toggleable__label {background-color: #d4ebff;}#sk-container-id-5 div.sk-serial::before {content: \"\";position: absolute;border-left: 1px solid gray;box-sizing: border-box;top: 0;bottom: 0;left: 50%;z-index: 0;}#sk-container-id-5 div.sk-serial {display: flex;flex-direction: column;align-items: center;background-color: white;padding-right: 0.2em;padding-left: 0.2em;position: relative;}#sk-container-id-5 div.sk-item {position: relative;z-index: 1;}#sk-container-id-5 div.sk-parallel {display: flex;align-items: stretch;justify-content: center;background-color: white;position: relative;}#sk-container-id-5 div.sk-item::before, #sk-container-id-5 div.sk-parallel-item::before {content: \"\";position: absolute;border-left: 1px solid gray;box-sizing: border-box;top: 0;bottom: 0;left: 50%;z-index: -1;}#sk-container-id-5 div.sk-parallel-item {display: flex;flex-direction: column;z-index: 1;position: relative;background-color: white;}#sk-container-id-5 div.sk-parallel-item:first-child::after {align-self: flex-end;width: 50%;}#sk-container-id-5 div.sk-parallel-item:last-child::after {align-self: flex-start;width: 50%;}#sk-container-id-5 div.sk-parallel-item:only-child::after {width: 0;}#sk-container-id-5 div.sk-dashed-wrapped {border: 1px dashed gray;margin: 0 0.4em 0.5em 0.4em;box-sizing: border-box;padding-bottom: 0.4em;background-color: white;}#sk-container-id-5 div.sk-label label {font-family: monospace;font-weight: bold;display: inline-block;line-height: 1.2em;}#sk-container-id-5 div.sk-label-container {text-align: center;}#sk-container-id-5 div.sk-container {/* jupyter's `normalize.less` sets `[hidden] { display: none; }` but bootstrap.min.css set `[hidden] { display: none !important; }` so we also need the `!important` here to be able to override the default hidden behavior on the sphinx rendered scikit-learn.org. See: https://github.com/scikit-learn/scikit-learn/issues/21755 */display: inline-block !important;position: relative;}#sk-container-id-5 div.sk-text-repr-fallback {display: none;}</style><div id=\"sk-container-id-5\" class=\"sk-top-container\"><div class=\"sk-text-repr-fallback\"><pre>RandomForestClassifier()</pre><b>In a Jupyter environment, please rerun this cell to show the HTML representation or trust the notebook. <br />On GitHub, the HTML representation is unable to render, please try loading this page with nbviewer.org.</b></div><div class=\"sk-container\" hidden><div class=\"sk-item\"><div class=\"sk-estimator sk-toggleable\"><input class=\"sk-toggleable__control sk-hidden--visually\" id=\"sk-estimator-id-5\" type=\"checkbox\" checked><label for=\"sk-estimator-id-5\" class=\"sk-toggleable__label sk-toggleable__label-arrow\">RandomForestClassifier</label><div class=\"sk-toggleable__content\"><pre>RandomForestClassifier()</pre></div></div></div></div></div>"
      ],
      "text/plain": [
       "RandomForestClassifier()"
      ]
     },
     "execution_count": 135,
     "metadata": {},
     "output_type": "execute_result"
    }
   ],
   "source": [
    "model= RandomForestClassifier()\n",
    "model.fit(x_train, y_train)"
   ]
  },
  {
   "cell_type": "code",
   "execution_count": 132,
   "id": "ef253f22",
   "metadata": {
    "collapsed": true
   },
   "outputs": [
    {
     "data": {
      "text/plain": [
       "['ArrowDtype',\n",
       " 'BooleanDtype',\n",
       " 'Categorical',\n",
       " 'CategoricalDtype',\n",
       " 'CategoricalIndex',\n",
       " 'DataFrame',\n",
       " 'DateOffset',\n",
       " 'DatetimeIndex',\n",
       " 'DatetimeTZDtype',\n",
       " 'ExcelFile',\n",
       " 'ExcelWriter',\n",
       " 'Flags',\n",
       " 'Float32Dtype',\n",
       " 'Float64Dtype',\n",
       " 'Float64Index',\n",
       " 'Grouper',\n",
       " 'HDFStore',\n",
       " 'Index',\n",
       " 'IndexSlice',\n",
       " 'Int16Dtype',\n",
       " 'Int32Dtype',\n",
       " 'Int64Dtype',\n",
       " 'Int64Index',\n",
       " 'Int8Dtype',\n",
       " 'Interval',\n",
       " 'IntervalDtype',\n",
       " 'IntervalIndex',\n",
       " 'MultiIndex',\n",
       " 'NA',\n",
       " 'NaT',\n",
       " 'NamedAgg',\n",
       " 'Period',\n",
       " 'PeriodDtype',\n",
       " 'PeriodIndex',\n",
       " 'RangeIndex',\n",
       " 'Series',\n",
       " 'SparseDtype',\n",
       " 'StringDtype',\n",
       " 'Timedelta',\n",
       " 'TimedeltaIndex',\n",
       " 'Timestamp',\n",
       " 'UInt16Dtype',\n",
       " 'UInt32Dtype',\n",
       " 'UInt64Dtype',\n",
       " 'UInt64Index',\n",
       " 'UInt8Dtype',\n",
       " '__all__',\n",
       " '__builtins__',\n",
       " '__cached__',\n",
       " '__deprecated_num_index_names',\n",
       " '__dir__',\n",
       " '__doc__',\n",
       " '__docformat__',\n",
       " '__file__',\n",
       " '__getattr__',\n",
       " '__git_version__',\n",
       " '__loader__',\n",
       " '__name__',\n",
       " '__package__',\n",
       " '__path__',\n",
       " '__spec__',\n",
       " '__version__',\n",
       " '_config',\n",
       " '_is_numpy_dev',\n",
       " '_libs',\n",
       " '_testing',\n",
       " '_typing',\n",
       " '_version',\n",
       " 'annotations',\n",
       " 'api',\n",
       " 'array',\n",
       " 'arrays',\n",
       " 'bdate_range',\n",
       " 'compat',\n",
       " 'concat',\n",
       " 'core',\n",
       " 'crosstab',\n",
       " 'cut',\n",
       " 'date_range',\n",
       " 'describe_option',\n",
       " 'errors',\n",
       " 'eval',\n",
       " 'factorize',\n",
       " 'from_dummies',\n",
       " 'get_dummies',\n",
       " 'get_option',\n",
       " 'infer_freq',\n",
       " 'interval_range',\n",
       " 'io',\n",
       " 'isna',\n",
       " 'isnull',\n",
       " 'json_normalize',\n",
       " 'lreshape',\n",
       " 'melt',\n",
       " 'merge',\n",
       " 'merge_asof',\n",
       " 'merge_ordered',\n",
       " 'notna',\n",
       " 'notnull',\n",
       " 'offsets',\n",
       " 'option_context',\n",
       " 'options',\n",
       " 'pandas',\n",
       " 'period_range',\n",
       " 'pivot',\n",
       " 'pivot_table',\n",
       " 'plotting',\n",
       " 'qcut',\n",
       " 'read_clipboard',\n",
       " 'read_csv',\n",
       " 'read_excel',\n",
       " 'read_feather',\n",
       " 'read_fwf',\n",
       " 'read_gbq',\n",
       " 'read_hdf',\n",
       " 'read_html',\n",
       " 'read_json',\n",
       " 'read_orc',\n",
       " 'read_parquet',\n",
       " 'read_pickle',\n",
       " 'read_sas',\n",
       " 'read_spss',\n",
       " 'read_sql',\n",
       " 'read_sql_query',\n",
       " 'read_sql_table',\n",
       " 'read_stata',\n",
       " 'read_table',\n",
       " 'read_xml',\n",
       " 'reset_option',\n",
       " 'set_eng_float_format',\n",
       " 'set_option',\n",
       " 'show_versions',\n",
       " 'test',\n",
       " 'testing',\n",
       " 'timedelta_range',\n",
       " 'to_datetime',\n",
       " 'to_numeric',\n",
       " 'to_pickle',\n",
       " 'to_timedelta',\n",
       " 'tseries',\n",
       " 'unique',\n",
       " 'util',\n",
       " 'value_counts',\n",
       " 'wide_to_long']"
      ]
     },
     "execution_count": 132,
     "metadata": {},
     "output_type": "execute_result"
    }
   ],
   "source": [
    "dir(pd)"
   ]
  },
  {
   "cell_type": "code",
   "execution_count": 136,
   "id": "4fb7c9d6",
   "metadata": {},
   "outputs": [],
   "source": [
    "y_pred = model.predict(x_val)"
   ]
  },
  {
   "cell_type": "code",
   "execution_count": 137,
   "id": "37872e84",
   "metadata": {},
   "outputs": [],
   "source": [
    "from sklearn.metrics import f1_score"
   ]
  },
  {
   "cell_type": "code",
   "execution_count": 138,
   "id": "c0bf02e8",
   "metadata": {},
   "outputs": [
    {
     "data": {
      "text/plain": [
       "1.0"
      ]
     },
     "execution_count": 138,
     "metadata": {},
     "output_type": "execute_result"
    }
   ],
   "source": [
    "f1_score(y_val, y_pred)"
   ]
  },
  {
   "cell_type": "code",
   "execution_count": null,
   "id": "cc71296e",
   "metadata": {},
   "outputs": [],
   "source": []
  },
  {
   "cell_type": "code",
   "execution_count": null,
   "id": "4fe84e59",
   "metadata": {},
   "outputs": [],
   "source": []
  },
  {
   "cell_type": "code",
   "execution_count": null,
   "id": "3e639cce",
   "metadata": {},
   "outputs": [],
   "source": []
  },
  {
   "cell_type": "code",
   "execution_count": null,
   "id": "b6ae6673",
   "metadata": {},
   "outputs": [],
   "source": []
  },
  {
   "cell_type": "code",
   "execution_count": null,
   "id": "c7a228c0",
   "metadata": {},
   "outputs": [],
   "source": []
  }
 ],
 "metadata": {
  "kernelspec": {
   "display_name": "Python 3 (ipykernel)",
   "language": "python",
   "name": "python3"
  },
  "language_info": {
   "codemirror_mode": {
    "name": "ipython",
    "version": 3
   },
   "file_extension": ".py",
   "mimetype": "text/x-python",
   "name": "python",
   "nbconvert_exporter": "python",
   "pygments_lexer": "ipython3",
   "version": "3.11.4"
  }
 },
 "nbformat": 4,
 "nbformat_minor": 5
}
